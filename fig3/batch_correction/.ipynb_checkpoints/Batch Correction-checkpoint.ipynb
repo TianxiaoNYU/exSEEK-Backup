{
 "cells": [
  {
   "cell_type": "code",
   "execution_count": 50,
   "metadata": {
    "collapsed": true
   },
   "outputs": [
    {
     "name": "stderr",
     "output_type": "stream",
     "text": [
      "\n",
      "Attaching package: ‘SCnorm’\n",
      "\n",
      "The following object is masked from ‘package:edgeR’:\n",
      "\n",
      "    getCounts\n",
      "\n"
     ]
    }
   ],
   "source": [
    "library(EDASeq)\n",
    "library(RUVSeq)\n",
    "library(SCnorm)\n",
    "library(sva)\n",
    "library(scRNA.seq.funcs)"
   ]
  },
  {
   "cell_type": "code",
   "execution_count": 7,
   "metadata": {},
   "outputs": [],
   "source": [
    "combat <- function(\n",
    "    mat,\n",
    "    batchinfo_path,\n",
    "    output_path,\n",
    "    batch_column = batchindex\n",
    "){\n",
    "    print('start batch removal using combat')\n",
    "    batch_info <-read.table(batchinfo_path,sep='\\t',row.names=2,header=T,check.names = FALSE)\n",
    "    if (!(dim(mat)[2]==dim(batch_info)[1]))\n",
    "        stop('sample numbers in batch info and expression matrix should be same')\n",
    "    batchname <-toString(names(batch_info)[batch_column])\n",
    "    batch_info=as.data.frame(batch_info[names(mat),])\n",
    "    mod <- model.matrix(~ 1, data = batch_info)\n",
    "    combat <- ComBat(\n",
    "        dat = log(mat+0.001),\n",
    "        batch = factor(batch_info[,batch_column]),\n",
    "        mod = mod,\n",
    "        par.prior = TRUE,\n",
    "        prior.plots = FALSE\n",
    "    )\n",
    "    \n",
    "    mat <- exp(combat)\n",
    "    write.csv(mat, file=paste(output_path,'mx_combat_batchremoval_',batchname,'.txt',sep=''))\n",
    "    #mat\n",
    "}"
   ]
  },
  {
   "cell_type": "code",
   "execution_count": 40,
   "metadata": {},
   "outputs": [],
   "source": [
    "ruv <- function(\n",
    "    mat,\n",
    "    classinfo_path,\n",
    "    output_path,\n",
    "    label_column = 2,\n",
    "    k = 10\n",
    "){\n",
    "    print('start batch removal using RUVs')\n",
    "    cIdx <- rownames(mat)\n",
    "    \n",
    "    sample_info <- read.table(classinfo_path,sep='\\t',header=TRUE,  check.names=FALSE,  stringsAsFactors=FALSE)\n",
    "    ##rank by mat\n",
    "    if(unique(is.na(sample_info$sample_id))) \n",
    "    stop(\"sample_id not in file\")\n",
    "    rownames(sample_info) = sample_info$sample_id\n",
    "    sample_info=sample_info[names(mat),]\n",
    "    rownames(sample_info) <- c()\n",
    "    \n",
    "    names(sample_info)[label_column]=\"label\"\n",
    "    scIdx <- matrix(-1, ncol = max(table(sample_info$label)), nrow = dim(table(sample_info$label)))\n",
    "    labellist <- names(table(sample_info$label))\n",
    "    for(i in c(1:dim(table(sample_info$label)))) {\n",
    "        tmp <- which(sample_info$label == labellist[i])\n",
    "        scIdx[i, 1:length(tmp)] <- tmp\n",
    "    }\n",
    "    mat <- log(mat+0.001)\n",
    "    ruv <- RUVs(as.matrix(mat), cIdx, k = k, scIdx = scIdx, isLog = TRUE)\n",
    "    write.table(exp(ruv$normalizedCounts), file=paste(output_path, 'mx_ruv_batchremoval.txt',sep=''), sep='\\t', quote=FALSE, row.names=TRUE, col.names=TRUE)\n",
    "}"
   ]
  },
  {
   "cell_type": "code",
   "execution_count": 55,
   "metadata": {},
   "outputs": [
    {
     "name": "stdout",
     "output_type": "stream",
     "text": [
      "[1] \"start batch removal using RUVs\"\n"
     ]
    }
   ],
   "source": [
    "TMM_data <- read.table(\"/home/xieyufeng/fig3/output/cfRNA/matrix_processing/filter.null.Norm_TMM.mirna_and_domains.txt\", \n",
    "                       header = T, check.names=FALSE,  stringsAsFactors=FALSE, row.names = 1)\n",
    "ruv(TMM_data, \"~/fig3/data/merge/sample_classes.txt\", \"~/fig3/batch_correction/\")"
   ]
  },
  {
   "cell_type": "code",
   "execution_count": null,
   "metadata": {},
   "outputs": [],
   "source": []
  }
 ],
 "metadata": {
  "kernelspec": {
   "display_name": "R",
   "language": "R",
   "name": "ir"
  },
  "language_info": {
   "codemirror_mode": "r",
   "file_extension": ".r",
   "mimetype": "text/x-r-source",
   "name": "R",
   "pygments_lexer": "r",
   "version": "3.5.1"
  }
 },
 "nbformat": 4,
 "nbformat_minor": 2
}
