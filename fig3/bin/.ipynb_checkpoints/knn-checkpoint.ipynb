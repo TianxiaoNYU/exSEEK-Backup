{
 "cells": [
  {
   "cell_type": "code",
   "execution_count": 48,
   "metadata": {},
   "outputs": [],
   "source": [
    "from IPython.core.display import HTML,Image\n",
    "import pandas as pd\n",
    "import numpy as np\n",
    "from matplotlib import pyplot\n",
    "from sklearn.neighbors import NearestNeighbors\n",
    "from sklearn.preprocessing import RobustScaler,MinMaxScaler,StandardScaler\n",
    "from sklearn.decomposition import PCA\n",
    "from tqdm import tqdm_notebook as tqdm"
   ]
  },
  {
   "cell_type": "code",
   "execution_count": 51,
   "metadata": {},
   "outputs": [
    {
     "name": "stdout",
     "output_type": "stream",
     "text": [
      "Populating the interactive namespace from numpy and matplotlib\n"
     ]
    },
    {
     "name": "stderr",
     "output_type": "stream",
     "text": [
      "/apps/anaconda3/lib/python3.6/site-packages/IPython/core/magics/pylab.py:160: UserWarning: pylab import has clobbered these variables: ['indices', 'table']\n",
      "`%matplotlib` prevents importing * from pylab and numpy\n",
      "  \"\\n`%matplotlib` prevents importing * from pylab and numpy\"\n"
     ]
    },
    {
     "data": {
      "text/html": [
       "\n",
       "    <div class=\"bk-root\">\n",
       "        <a href=\"https://bokeh.pydata.org\" target=\"_blank\" class=\"bk-logo bk-logo-small bk-logo-notebook\"></a>\n",
       "        <span id=\"464d473a-0cb6-456e-81bc-c0ef53a17d8c\">Loading BokehJS ...</span>\n",
       "    </div>"
      ]
     },
     "metadata": {},
     "output_type": "display_data"
    },
    {
     "data": {
      "application/javascript": [
       "\n",
       "(function(root) {\n",
       "  function now() {\n",
       "    return new Date();\n",
       "  }\n",
       "\n",
       "  var force = true;\n",
       "\n",
       "  if (typeof (root._bokeh_onload_callbacks) === \"undefined\" || force === true) {\n",
       "    root._bokeh_onload_callbacks = [];\n",
       "    root._bokeh_is_loading = undefined;\n",
       "  }\n",
       "\n",
       "  var JS_MIME_TYPE = 'application/javascript';\n",
       "  var HTML_MIME_TYPE = 'text/html';\n",
       "  var EXEC_MIME_TYPE = 'application/vnd.bokehjs_exec.v0+json';\n",
       "  var CLASS_NAME = 'output_bokeh rendered_html';\n",
       "\n",
       "  /**\n",
       "   * Render data to the DOM node\n",
       "   */\n",
       "  function render(props, node) {\n",
       "    var script = document.createElement(\"script\");\n",
       "    node.appendChild(script);\n",
       "  }\n",
       "\n",
       "  /**\n",
       "   * Handle when an output is cleared or removed\n",
       "   */\n",
       "  function handleClearOutput(event, handle) {\n",
       "    var cell = handle.cell;\n",
       "\n",
       "    var id = cell.output_area._bokeh_element_id;\n",
       "    var server_id = cell.output_area._bokeh_server_id;\n",
       "    // Clean up Bokeh references\n",
       "    if (id != null && id in Bokeh.index) {\n",
       "      Bokeh.index[id].model.document.clear();\n",
       "      delete Bokeh.index[id];\n",
       "    }\n",
       "\n",
       "    if (server_id !== undefined) {\n",
       "      // Clean up Bokeh references\n",
       "      var cmd = \"from bokeh.io.state import curstate; print(curstate().uuid_to_server['\" + server_id + \"'].get_sessions()[0].document.roots[0]._id)\";\n",
       "      cell.notebook.kernel.execute(cmd, {\n",
       "        iopub: {\n",
       "          output: function(msg) {\n",
       "            var id = msg.content.text.trim();\n",
       "            if (id in Bokeh.index) {\n",
       "              Bokeh.index[id].model.document.clear();\n",
       "              delete Bokeh.index[id];\n",
       "            }\n",
       "          }\n",
       "        }\n",
       "      });\n",
       "      // Destroy server and session\n",
       "      var cmd = \"import bokeh.io.notebook as ion; ion.destroy_server('\" + server_id + \"')\";\n",
       "      cell.notebook.kernel.execute(cmd);\n",
       "    }\n",
       "  }\n",
       "\n",
       "  /**\n",
       "   * Handle when a new output is added\n",
       "   */\n",
       "  function handleAddOutput(event, handle) {\n",
       "    var output_area = handle.output_area;\n",
       "    var output = handle.output;\n",
       "\n",
       "    // limit handleAddOutput to display_data with EXEC_MIME_TYPE content only\n",
       "    if ((output.output_type != \"display_data\") || (!output.data.hasOwnProperty(EXEC_MIME_TYPE))) {\n",
       "      return\n",
       "    }\n",
       "\n",
       "    var toinsert = output_area.element.find(\".\" + CLASS_NAME.split(' ')[0]);\n",
       "\n",
       "    if (output.metadata[EXEC_MIME_TYPE][\"id\"] !== undefined) {\n",
       "      toinsert[toinsert.length - 1].firstChild.textContent = output.data[JS_MIME_TYPE];\n",
       "      // store reference to embed id on output_area\n",
       "      output_area._bokeh_element_id = output.metadata[EXEC_MIME_TYPE][\"id\"];\n",
       "    }\n",
       "    if (output.metadata[EXEC_MIME_TYPE][\"server_id\"] !== undefined) {\n",
       "      var bk_div = document.createElement(\"div\");\n",
       "      bk_div.innerHTML = output.data[HTML_MIME_TYPE];\n",
       "      var script_attrs = bk_div.children[0].attributes;\n",
       "      for (var i = 0; i < script_attrs.length; i++) {\n",
       "        toinsert[toinsert.length - 1].firstChild.setAttribute(script_attrs[i].name, script_attrs[i].value);\n",
       "      }\n",
       "      // store reference to server id on output_area\n",
       "      output_area._bokeh_server_id = output.metadata[EXEC_MIME_TYPE][\"server_id\"];\n",
       "    }\n",
       "  }\n",
       "\n",
       "  function register_renderer(events, OutputArea) {\n",
       "\n",
       "    function append_mime(data, metadata, element) {\n",
       "      // create a DOM node to render to\n",
       "      var toinsert = this.create_output_subarea(\n",
       "        metadata,\n",
       "        CLASS_NAME,\n",
       "        EXEC_MIME_TYPE\n",
       "      );\n",
       "      this.keyboard_manager.register_events(toinsert);\n",
       "      // Render to node\n",
       "      var props = {data: data, metadata: metadata[EXEC_MIME_TYPE]};\n",
       "      render(props, toinsert[toinsert.length - 1]);\n",
       "      element.append(toinsert);\n",
       "      return toinsert\n",
       "    }\n",
       "\n",
       "    /* Handle when an output is cleared or removed */\n",
       "    events.on('clear_output.CodeCell', handleClearOutput);\n",
       "    events.on('delete.Cell', handleClearOutput);\n",
       "\n",
       "    /* Handle when a new output is added */\n",
       "    events.on('output_added.OutputArea', handleAddOutput);\n",
       "\n",
       "    /**\n",
       "     * Register the mime type and append_mime function with output_area\n",
       "     */\n",
       "    OutputArea.prototype.register_mime_type(EXEC_MIME_TYPE, append_mime, {\n",
       "      /* Is output safe? */\n",
       "      safe: true,\n",
       "      /* Index of renderer in `output_area.display_order` */\n",
       "      index: 0\n",
       "    });\n",
       "  }\n",
       "\n",
       "  // register the mime type if in Jupyter Notebook environment and previously unregistered\n",
       "  if (root.Jupyter !== undefined) {\n",
       "    var events = require('base/js/events');\n",
       "    var OutputArea = require('notebook/js/outputarea').OutputArea;\n",
       "\n",
       "    if (OutputArea.prototype.mime_types().indexOf(EXEC_MIME_TYPE) == -1) {\n",
       "      register_renderer(events, OutputArea);\n",
       "    }\n",
       "  }\n",
       "\n",
       "  \n",
       "  if (typeof (root._bokeh_timeout) === \"undefined\" || force === true) {\n",
       "    root._bokeh_timeout = Date.now() + 5000;\n",
       "    root._bokeh_failed_load = false;\n",
       "  }\n",
       "\n",
       "  var NB_LOAD_WARNING = {'data': {'text/html':\n",
       "     \"<div style='background-color: #fdd'>\\n\"+\n",
       "     \"<p>\\n\"+\n",
       "     \"BokehJS does not appear to have successfully loaded. If loading BokehJS from CDN, this \\n\"+\n",
       "     \"may be due to a slow or bad network connection. Possible fixes:\\n\"+\n",
       "     \"</p>\\n\"+\n",
       "     \"<ul>\\n\"+\n",
       "     \"<li>re-rerun `output_notebook()` to attempt to load from CDN again, or</li>\\n\"+\n",
       "     \"<li>use INLINE resources instead, as so:</li>\\n\"+\n",
       "     \"</ul>\\n\"+\n",
       "     \"<code>\\n\"+\n",
       "     \"from bokeh.resources import INLINE\\n\"+\n",
       "     \"output_notebook(resources=INLINE)\\n\"+\n",
       "     \"</code>\\n\"+\n",
       "     \"</div>\"}};\n",
       "\n",
       "  function display_loaded() {\n",
       "    var el = document.getElementById(\"464d473a-0cb6-456e-81bc-c0ef53a17d8c\");\n",
       "    if (el != null) {\n",
       "      el.textContent = \"BokehJS is loading...\";\n",
       "    }\n",
       "    if (root.Bokeh !== undefined) {\n",
       "      if (el != null) {\n",
       "        el.textContent = \"BokehJS \" + root.Bokeh.version + \" successfully loaded.\";\n",
       "      }\n",
       "    } else if (Date.now() < root._bokeh_timeout) {\n",
       "      setTimeout(display_loaded, 100)\n",
       "    }\n",
       "  }\n",
       "\n",
       "\n",
       "  function run_callbacks() {\n",
       "    try {\n",
       "      root._bokeh_onload_callbacks.forEach(function(callback) { callback() });\n",
       "    }\n",
       "    finally {\n",
       "      delete root._bokeh_onload_callbacks\n",
       "    }\n",
       "    console.info(\"Bokeh: all callbacks have finished\");\n",
       "  }\n",
       "\n",
       "  function load_libs(js_urls, callback) {\n",
       "    root._bokeh_onload_callbacks.push(callback);\n",
       "    if (root._bokeh_is_loading > 0) {\n",
       "      console.log(\"Bokeh: BokehJS is being loaded, scheduling callback at\", now());\n",
       "      return null;\n",
       "    }\n",
       "    if (js_urls == null || js_urls.length === 0) {\n",
       "      run_callbacks();\n",
       "      return null;\n",
       "    }\n",
       "    console.log(\"Bokeh: BokehJS not loaded, scheduling load and callback at\", now());\n",
       "    root._bokeh_is_loading = js_urls.length;\n",
       "    for (var i = 0; i < js_urls.length; i++) {\n",
       "      var url = js_urls[i];\n",
       "      var s = document.createElement('script');\n",
       "      s.src = url;\n",
       "      s.async = false;\n",
       "      s.onreadystatechange = s.onload = function() {\n",
       "        root._bokeh_is_loading--;\n",
       "        if (root._bokeh_is_loading === 0) {\n",
       "          console.log(\"Bokeh: all BokehJS libraries loaded\");\n",
       "          run_callbacks()\n",
       "        }\n",
       "      };\n",
       "      s.onerror = function() {\n",
       "        console.warn(\"failed to load library \" + url);\n",
       "      };\n",
       "      console.log(\"Bokeh: injecting script tag for BokehJS library: \", url);\n",
       "      document.getElementsByTagName(\"head\")[0].appendChild(s);\n",
       "    }\n",
       "  };var element = document.getElementById(\"464d473a-0cb6-456e-81bc-c0ef53a17d8c\");\n",
       "  if (element == null) {\n",
       "    console.log(\"Bokeh: ERROR: autoload.js configured with elementid '464d473a-0cb6-456e-81bc-c0ef53a17d8c' but no matching script tag was found. \")\n",
       "    return false;\n",
       "  }\n",
       "\n",
       "  var js_urls = [\"https://cdn.pydata.org/bokeh/release/bokeh-0.13.0.min.js\", \"https://cdn.pydata.org/bokeh/release/bokeh-widgets-0.13.0.min.js\", \"https://cdn.pydata.org/bokeh/release/bokeh-tables-0.13.0.min.js\", \"https://cdn.pydata.org/bokeh/release/bokeh-gl-0.13.0.min.js\"];\n",
       "\n",
       "  var inline_js = [\n",
       "    function(Bokeh) {\n",
       "      Bokeh.set_log_level(\"info\");\n",
       "    },\n",
       "    \n",
       "    function(Bokeh) {\n",
       "      \n",
       "    },\n",
       "    function(Bokeh) {\n",
       "      console.log(\"Bokeh: injecting CSS: https://cdn.pydata.org/bokeh/release/bokeh-0.13.0.min.css\");\n",
       "      Bokeh.embed.inject_css(\"https://cdn.pydata.org/bokeh/release/bokeh-0.13.0.min.css\");\n",
       "      console.log(\"Bokeh: injecting CSS: https://cdn.pydata.org/bokeh/release/bokeh-widgets-0.13.0.min.css\");\n",
       "      Bokeh.embed.inject_css(\"https://cdn.pydata.org/bokeh/release/bokeh-widgets-0.13.0.min.css\");\n",
       "      console.log(\"Bokeh: injecting CSS: https://cdn.pydata.org/bokeh/release/bokeh-tables-0.13.0.min.css\");\n",
       "      Bokeh.embed.inject_css(\"https://cdn.pydata.org/bokeh/release/bokeh-tables-0.13.0.min.css\");\n",
       "    }\n",
       "  ];\n",
       "\n",
       "  function run_inline_js() {\n",
       "    \n",
       "    if ((root.Bokeh !== undefined) || (force === true)) {\n",
       "      for (var i = 0; i < inline_js.length; i++) {\n",
       "        inline_js[i].call(root, root.Bokeh);\n",
       "      }if (force === true) {\n",
       "        display_loaded();\n",
       "      }} else if (Date.now() < root._bokeh_timeout) {\n",
       "      setTimeout(run_inline_js, 100);\n",
       "    } else if (!root._bokeh_failed_load) {\n",
       "      console.log(\"Bokeh: BokehJS failed to load within specified timeout.\");\n",
       "      root._bokeh_failed_load = true;\n",
       "    } else if (force !== true) {\n",
       "      var cell = $(document.getElementById(\"464d473a-0cb6-456e-81bc-c0ef53a17d8c\")).parents('.cell').data().cell;\n",
       "      cell.output_area.append_execute_result(NB_LOAD_WARNING)\n",
       "    }\n",
       "\n",
       "  }\n",
       "\n",
       "  if (root._bokeh_is_loading === 0) {\n",
       "    console.log(\"Bokeh: BokehJS loaded, going straight to plotting\");\n",
       "    run_inline_js();\n",
       "  } else {\n",
       "    load_libs(js_urls, function() {\n",
       "      console.log(\"Bokeh: BokehJS plotting callback run at\", now());\n",
       "      run_inline_js();\n",
       "    });\n",
       "  }\n",
       "}(window));"
      ],
      "application/vnd.bokehjs_load.v0+json": "\n(function(root) {\n  function now() {\n    return new Date();\n  }\n\n  var force = true;\n\n  if (typeof (root._bokeh_onload_callbacks) === \"undefined\" || force === true) {\n    root._bokeh_onload_callbacks = [];\n    root._bokeh_is_loading = undefined;\n  }\n\n  \n\n  \n  if (typeof (root._bokeh_timeout) === \"undefined\" || force === true) {\n    root._bokeh_timeout = Date.now() + 5000;\n    root._bokeh_failed_load = false;\n  }\n\n  var NB_LOAD_WARNING = {'data': {'text/html':\n     \"<div style='background-color: #fdd'>\\n\"+\n     \"<p>\\n\"+\n     \"BokehJS does not appear to have successfully loaded. If loading BokehJS from CDN, this \\n\"+\n     \"may be due to a slow or bad network connection. Possible fixes:\\n\"+\n     \"</p>\\n\"+\n     \"<ul>\\n\"+\n     \"<li>re-rerun `output_notebook()` to attempt to load from CDN again, or</li>\\n\"+\n     \"<li>use INLINE resources instead, as so:</li>\\n\"+\n     \"</ul>\\n\"+\n     \"<code>\\n\"+\n     \"from bokeh.resources import INLINE\\n\"+\n     \"output_notebook(resources=INLINE)\\n\"+\n     \"</code>\\n\"+\n     \"</div>\"}};\n\n  function display_loaded() {\n    var el = document.getElementById(\"464d473a-0cb6-456e-81bc-c0ef53a17d8c\");\n    if (el != null) {\n      el.textContent = \"BokehJS is loading...\";\n    }\n    if (root.Bokeh !== undefined) {\n      if (el != null) {\n        el.textContent = \"BokehJS \" + root.Bokeh.version + \" successfully loaded.\";\n      }\n    } else if (Date.now() < root._bokeh_timeout) {\n      setTimeout(display_loaded, 100)\n    }\n  }\n\n\n  function run_callbacks() {\n    try {\n      root._bokeh_onload_callbacks.forEach(function(callback) { callback() });\n    }\n    finally {\n      delete root._bokeh_onload_callbacks\n    }\n    console.info(\"Bokeh: all callbacks have finished\");\n  }\n\n  function load_libs(js_urls, callback) {\n    root._bokeh_onload_callbacks.push(callback);\n    if (root._bokeh_is_loading > 0) {\n      console.log(\"Bokeh: BokehJS is being loaded, scheduling callback at\", now());\n      return null;\n    }\n    if (js_urls == null || js_urls.length === 0) {\n      run_callbacks();\n      return null;\n    }\n    console.log(\"Bokeh: BokehJS not loaded, scheduling load and callback at\", now());\n    root._bokeh_is_loading = js_urls.length;\n    for (var i = 0; i < js_urls.length; i++) {\n      var url = js_urls[i];\n      var s = document.createElement('script');\n      s.src = url;\n      s.async = false;\n      s.onreadystatechange = s.onload = function() {\n        root._bokeh_is_loading--;\n        if (root._bokeh_is_loading === 0) {\n          console.log(\"Bokeh: all BokehJS libraries loaded\");\n          run_callbacks()\n        }\n      };\n      s.onerror = function() {\n        console.warn(\"failed to load library \" + url);\n      };\n      console.log(\"Bokeh: injecting script tag for BokehJS library: \", url);\n      document.getElementsByTagName(\"head\")[0].appendChild(s);\n    }\n  };var element = document.getElementById(\"464d473a-0cb6-456e-81bc-c0ef53a17d8c\");\n  if (element == null) {\n    console.log(\"Bokeh: ERROR: autoload.js configured with elementid '464d473a-0cb6-456e-81bc-c0ef53a17d8c' but no matching script tag was found. \")\n    return false;\n  }\n\n  var js_urls = [\"https://cdn.pydata.org/bokeh/release/bokeh-0.13.0.min.js\", \"https://cdn.pydata.org/bokeh/release/bokeh-widgets-0.13.0.min.js\", \"https://cdn.pydata.org/bokeh/release/bokeh-tables-0.13.0.min.js\", \"https://cdn.pydata.org/bokeh/release/bokeh-gl-0.13.0.min.js\"];\n\n  var inline_js = [\n    function(Bokeh) {\n      Bokeh.set_log_level(\"info\");\n    },\n    \n    function(Bokeh) {\n      \n    },\n    function(Bokeh) {\n      console.log(\"Bokeh: injecting CSS: https://cdn.pydata.org/bokeh/release/bokeh-0.13.0.min.css\");\n      Bokeh.embed.inject_css(\"https://cdn.pydata.org/bokeh/release/bokeh-0.13.0.min.css\");\n      console.log(\"Bokeh: injecting CSS: https://cdn.pydata.org/bokeh/release/bokeh-widgets-0.13.0.min.css\");\n      Bokeh.embed.inject_css(\"https://cdn.pydata.org/bokeh/release/bokeh-widgets-0.13.0.min.css\");\n      console.log(\"Bokeh: injecting CSS: https://cdn.pydata.org/bokeh/release/bokeh-tables-0.13.0.min.css\");\n      Bokeh.embed.inject_css(\"https://cdn.pydata.org/bokeh/release/bokeh-tables-0.13.0.min.css\");\n    }\n  ];\n\n  function run_inline_js() {\n    \n    if ((root.Bokeh !== undefined) || (force === true)) {\n      for (var i = 0; i < inline_js.length; i++) {\n        inline_js[i].call(root, root.Bokeh);\n      }if (force === true) {\n        display_loaded();\n      }} else if (Date.now() < root._bokeh_timeout) {\n      setTimeout(run_inline_js, 100);\n    } else if (!root._bokeh_failed_load) {\n      console.log(\"Bokeh: BokehJS failed to load within specified timeout.\");\n      root._bokeh_failed_load = true;\n    } else if (force !== true) {\n      var cell = $(document.getElementById(\"464d473a-0cb6-456e-81bc-c0ef53a17d8c\")).parents('.cell').data().cell;\n      cell.output_area.append_execute_result(NB_LOAD_WARNING)\n    }\n\n  }\n\n  if (root._bokeh_is_loading === 0) {\n    console.log(\"Bokeh: BokehJS loaded, going straight to plotting\");\n    run_inline_js();\n  } else {\n    load_libs(js_urls, function() {\n      console.log(\"Bokeh: BokehJS plotting callback run at\", now());\n      run_inline_js();\n    });\n  }\n}(window));"
     },
     "metadata": {},
     "output_type": "display_data"
    }
   ],
   "source": [
    "import gc, argparse, sys, os, errno\n",
    "from IPython.core.display import HTML,Image\n",
    "from functools import reduce\n",
    "import h5py\n",
    "%pylab inline\n",
    "import numpy as np\n",
    "import pandas as pd\n",
    "import matplotlib.pyplot as plt\n",
    "import seaborn as sns\n",
    "from tqdm import tqdm_notebook as tqdm\n",
    "import scipy\n",
    "import sklearn\n",
    "from scipy.stats import pearsonr\n",
    "import warnings\n",
    "warnings.filterwarnings('ignore')\n",
    "from bokeh.io import output_notebook, show\n",
    "output_notebook()\n",
    "from sklearn.decomposition import PCA\n",
    "from sklearn.manifold import TSNE\n",
    "import umap\n",
    "from sklearn.metrics import roc_curve,roc_auc_score,auc\n",
    "from sklearn.preprocessing import RobustScaler,MinMaxScaler,StandardScaler\n",
    "from sklearn.neighbors import NearestNeighbors\n",
    "from bokeh.palettes import Category20c\n",
    "from ipywidgets import interact, FloatSlider,IntSlider, RadioButtons,Dropdown,Tab,Text"
   ]
  },
  {
   "cell_type": "code",
   "execution_count": 46,
   "metadata": {
    "code_folding": [
     0,
     33,
     127,
     130
    ]
   },
   "outputs": [],
   "source": [
    "def embed_pdf_figure(width='640', height='480', title='Image'):\n",
    "    data = BytesIO()\n",
    "    plt.savefig(data, format='pdf', metadata={'Title': title})\n",
    "    data = data.getvalue()\n",
    "    data = 'data:application/pdf;base64,'+ str(b64encode(data), encoding='utf-8')\n",
    "    display(HTML('<object width=\"{}\" height=\"{}\" data=\"{}\" download=\"{}.pdf\"></object>'.format(\n",
    "        width, height, data, title)))\n",
    "    plt.close()\n",
    "    \n",
    "from base64 import b64encode, b64decode\n",
    "from io import StringIO, BytesIO\n",
    "\n",
    "fonttitle = {'family':'Arial',\n",
    "                  'weight' : 'normal', \n",
    "                  'size' : 8}\n",
    "fontlabel = {'family':'Arial',\n",
    "                  'weight' : 'normal', \n",
    "                  'size' : 6.5}\n",
    "fontticklabel = {'family':'Arial',\n",
    "                  'weight' : 'normal', \n",
    "                  'size' : 6.5}\n",
    "fontlegend = {'family':'Arial',\n",
    "                  'weight' : 'normal', \n",
    "              #'linewidth':0.5,\n",
    "                  'size' : 6.5}\n",
    "fontcbarlabel = {'family':'Arial',\n",
    "                 'weight' : 'normal', \n",
    "                 #'Rotation' : 270,\n",
    "                 #'labelpad' : 25,\n",
    "                 'size' : 6.5}\n",
    "fontcbarticklabel = {'family':'Arial',#Helvetica\n",
    "                 'weight' : 'normal', \n",
    "                 'size' : 5.5}\n",
    "def std_plot(ax,xlabel,ylabel,title=None,\n",
    "             legendtitle=None,bbox_to_anchor=None,\n",
    "             labelspacing=1.2,borderpad=0,handletextpad=0,legendsort=True,markerscale=None,\n",
    "             xlim=None,ylim=None,\n",
    "             xbins=None,ybins=None,\n",
    "             cbar=None,cbarlabel=None,\n",
    "             moveyaxis=False,sns=False,left=True):\n",
    "    #plt.yticks([0,0.2,0.4,0.6,0.8,1.0],['0','0.2','0.4','0.6','0.8','1.0'])\n",
    "    pyplot.draw()\n",
    "    #plt.figure(linewidth=30.5)\n",
    "    if xlim is not None:  \n",
    "        ax.set(xlim=xlim)\n",
    "    if ylim is not None:\n",
    "        ax.set(ylim=ylim)\n",
    "    #pyplot.draw()\n",
    "    if xbins is not None:\n",
    "        locator = MaxNLocator(nbins=xbins)\n",
    "        locator.set_axis(ax.xaxis)\n",
    "        ax.set_xticks(locator())\n",
    "    if ybins is not None:\n",
    "        locator = MaxNLocator(nbins=ybins)\n",
    "        locator.set_axis(ax.yaxis)\n",
    "        ax.set_yticks(locator())\n",
    "    pyplot.draw()\n",
    "    ax.set_xticks(ax.get_xticks())\n",
    "    ax.set_yticks(ax.get_yticks())\n",
    "    ax.set_xlabel(xlabel,fontdict = fontlabel,labelpad=5.5)\n",
    "    ax.set_ylabel(ylabel,fontdict = fontlabel,labelpad=5.5)\n",
    "    ax.set_xticklabels(ax.get_xticklabels(),fontticklabel)\n",
    "    ax.set_yticklabels(ax.get_yticklabels(),fontticklabel)\n",
    "\n",
    "    if moveyaxis is True:\n",
    "        #fontticklabel \n",
    "        ax.spines['left'].set_position(('data',0))\n",
    "    ax.spines['left'].set_visible(left)\n",
    "    ax.spines['right'].set_visible(not left)\n",
    "    ax.spines['top'].set_visible(False)\n",
    "    ax.spines['right'].set_linewidth(0.5)\n",
    "    ax.spines['bottom'].set_linewidth(0.5)\n",
    "    ax.spines['left'].set_linewidth(0.5)\n",
    "    ax.spines['bottom'].set_color('k')\n",
    "    ax.spines['left'].set_color('k')\n",
    "    ax.spines['right'].set_color('k')\n",
    "    \n",
    "    ax.tick_params(direction='out', pad=2)\n",
    "    #ax.spines['bottom']._edgecolor=\"#000000\"\n",
    "    #ax.spines['left']._edgecolor=\"#000000\"\n",
    "    if title is not None:\n",
    "        ax.set_title(title,fontdict = fonttitle)\n",
    "    if legendtitle is not None:\n",
    "        #if legendloc is None:\n",
    "        #    legendloc=\"best\"\n",
    "        legend = ax.legend(title=legendtitle,prop=fontlegend,\n",
    "                      bbox_to_anchor=bbox_to_anchor,\n",
    "                      labelspacing=labelspacing,borderpad=borderpad,handletextpad=handletextpad,\n",
    "                      edgecolor=\"#000000\",fancybox=False,markerscale=markerscale)\n",
    "        ax.legend_.get_frame()._linewidth=0.5\n",
    "        legend.get_title().set_fontweight('normal')\n",
    "        legend.get_title().set_fontsize(6.5)\n",
    "        if legendsort is True:\n",
    "            # h: handle l:label\n",
    "            h,l = ax.get_legend_handles_labels()\n",
    "            l,h = zip(*sorted(zip(l,h), key=lambda t: int(t[0]))) \n",
    "            legend = ax.legend(h,l,title=legendtitle,prop=fontlegend,\n",
    "                      bbox_to_anchor=bbox_to_anchor,\n",
    "                      labelspacing=labelspacing,borderpad=borderpad,handletextpad=handletextpad,\n",
    "                      edgecolor=\"#000000\",fancybox=False,markerscale=markerscale)\n",
    "            ax.legend_.get_frame()._linewidth=0.5\n",
    "            legend.get_title().set_fontweight('normal')\n",
    "            legend.get_title().set_fontsize(6.5)\n",
    "        if sns is True:\n",
    "            h,l = ax.get_legend_handles_labels()\n",
    "            #l,h = zip(*sorted(zip(l,h), key=lambda t: int(t[0]))) \n",
    "            legend = ax.legend(h[1:],l[1:],title=legendtitle,prop=fontlegend,\n",
    "                      bbox_to_anchor=bbox_to_anchor,\n",
    "                      labelspacing=labelspacing,borderpad=borderpad,handletextpad=handletextpad,\n",
    "                      edgecolor=\"#000000\",fancybox=False,markerscale=markerscale)\n",
    "            ax.legend_.get_frame()._linewidth=0.5\n",
    "            legend.get_title().set_fontweight('normal')\n",
    "            legend.get_title().set_fontsize(6.5)\n",
    "\n",
    "    if cbar is not None:\n",
    "        #locator, formatter = cbar._get_ticker_locator_formatter()\n",
    "        #ticks, ticklabels, offset_string = cbar._ticker(locator, formatter)\n",
    "        #cbar.ax.spines['top'].set_visible(False)\n",
    "        #cbar.ax.spines['right'].set_visible(False)\n",
    "        #cbar.ax.spines['bottom'].set_visible(False)\n",
    "        #cbar.ax.spines['left'].set_visible(False)\n",
    "        cbar.ax.tick_params(direction='out', pad=3,width=0,length=0)\n",
    "        cbar.set_label(cbarlabel,fontdict = fontcbarlabel,Rotation=270,labelpad=7.5)\n",
    "        cbar.ax.set_yticks(cbar.ax.get_yticks())\n",
    "        cbar.ax.set_yticklabels(cbar.ax.get_yticklabels(),fontcbarticklabel)\n",
    "    return ax\n",
    "\n",
    "def gradient_func(val):\n",
    "    return '<span style=\"background: linear-gradient(90deg, #d65f5f {0}%, transparent 0%)\">{0:.3f}</span>'.format(val)\n",
    "\n",
    "def display_dataframe(df, filename=None, encoding='utf-8', format='csv', type='button',gradientfunc=False, **kwargs):\n",
    "    #display(df)\n",
    "    #if isinstance(df, pd.DataFrame):\n",
    "    #    display(df.style.set_caption(filename))\n",
    "    #else:\n",
    "    if gradientfunc == False:\n",
    "        display(df.style.set_caption(filename))    \n",
    "    else:\n",
    "        display(df.style.format(gradient_func).set_caption(filename)) \n",
    "    if filename is None:\n",
    "        filename = \"dataframe\"\n",
    "    if format == 'csv':\n",
    "        data = df.to_csv(**kwargs)\n",
    "        mime_type = 'text/csv'\n",
    "        filename = filename + '.csv'\n",
    "    elif format == 'tsv':\n",
    "        data = df.to_csv(**kwargs)\n",
    "        mime_type = 'text/plain'\n",
    "        filename = filename + '.txt'\n",
    "    else:\n",
    "        raise ValueError('unknown file format: {}'.format(format))\n",
    "    data = 'data:{mime_type};base64,'.format(mime_type=mime_type) + str(b64encode(bytes(data, encoding=encoding)), encoding=encoding)\n",
    "    if type == 'hyperlink':\n",
    "        display(HTML('<a href=\" \" download={filename} target=\"_blank\">{filename}</a >'.format(\n",
    "            mime_type=mime_type, filename=filename, data=data)))\n",
    "    elif type == 'button':\n",
    "        button_id = 'button_{}'.format(np.random.randint(1000000000))\n",
    "        display(HTML(r'<input type=\"button\" id=\"{0}\" value=\"Download\">'.format(button_id)))\n",
    "        display(HTML('''<script>\n",
    "    document.getElementById(\"{button_id}\").addEventListener(\"click\", function(event){{\n",
    "        var filename = \"{filename}\";\n",
    "        var data = \"{data}\";\n",
    "        const element = document.createElement('a');\n",
    "        element.setAttribute('href', data);\n",
    "        element.setAttribute('download', filename);\n",
    "        element.style.display = 'none';\n",
    "        document.body.appendChild(element);\n",
    "        element.click();\n",
    "        document.body.removeChild(element);\n",
    "    }});\n",
    "</script>'''.format(button_id=button_id, filename=filename, data=data)))"
   ]
  },
  {
   "cell_type": "code",
   "execution_count": 2,
   "metadata": {},
   "outputs": [],
   "source": [
    "mat1 = pd.read_table('/home/xieyufeng/ex/output/scirep/count_matrix/mirna_and_domains.txt',index_col=0)\n",
    "mat2 = pd.read_table('/Share/home/shibinbin/projects/exSeek-dev/output/cfRNA/count_matrix/mirna_and_domains.txt',index_col=0)\n",
    "#pd.concat([mat1, mat2], axis=1, join='inner')\n",
    "class_info2 = pd.read_table('/Share/home/shibinbin/projects/exSeek-dev/data/cfRNA/sample_classes.txt',index_col=0)\n",
    "class_info1 = pd.read_table('/home/xieyufeng/ex/data/scirep/sample_classes.no_stage.txt',index_col=0)\n",
    "\n"
   ]
  },
  {
   "cell_type": "code",
   "execution_count": 58,
   "metadata": {},
   "outputs": [
    {
     "data": {
      "text/html": [
       "<div>\n",
       "<style scoped>\n",
       "    .dataframe tbody tr th:only-of-type {\n",
       "        vertical-align: middle;\n",
       "    }\n",
       "\n",
       "    .dataframe tbody tr th {\n",
       "        vertical-align: top;\n",
       "    }\n",
       "\n",
       "    .dataframe thead th {\n",
       "        text-align: right;\n",
       "    }\n",
       "</style>\n",
       "<table border=\"1\" class=\"dataframe\">\n",
       "  <thead>\n",
       "    <tr style=\"text-align: right;\">\n",
       "      <th></th>\n",
       "      <th>RNA Isolation batch</th>\n",
       "      <th>library prepration day</th>\n",
       "      <th>gel cut size selection</th>\n",
       "    </tr>\n",
       "  </thead>\n",
       "  <tbody>\n",
       "    <tr>\n",
       "      <th>Sample_1S1</th>\n",
       "      <td>2</td>\n",
       "      <td>22</td>\n",
       "      <td>7</td>\n",
       "    </tr>\n",
       "    <tr>\n",
       "      <th>Sample_1S2</th>\n",
       "      <td>2</td>\n",
       "      <td>22</td>\n",
       "      <td>8</td>\n",
       "    </tr>\n",
       "    <tr>\n",
       "      <th>Sample_1S3</th>\n",
       "      <td>2</td>\n",
       "      <td>22</td>\n",
       "      <td>1</td>\n",
       "    </tr>\n",
       "    <tr>\n",
       "      <th>Sample_2S1</th>\n",
       "      <td>2</td>\n",
       "      <td>22</td>\n",
       "      <td>2</td>\n",
       "    </tr>\n",
       "    <tr>\n",
       "      <th>Sample_2S2</th>\n",
       "      <td>2</td>\n",
       "      <td>22</td>\n",
       "      <td>3</td>\n",
       "    </tr>\n",
       "    <tr>\n",
       "      <th>Sample_2S3</th>\n",
       "      <td>2</td>\n",
       "      <td>22</td>\n",
       "      <td>4</td>\n",
       "    </tr>\n",
       "    <tr>\n",
       "      <th>Sample_3S1</th>\n",
       "      <td>2</td>\n",
       "      <td>22</td>\n",
       "      <td>5</td>\n",
       "    </tr>\n",
       "    <tr>\n",
       "      <th>Sample_3S2</th>\n",
       "      <td>2</td>\n",
       "      <td>22</td>\n",
       "      <td>6</td>\n",
       "    </tr>\n",
       "    <tr>\n",
       "      <th>Sample_3S3</th>\n",
       "      <td>2</td>\n",
       "      <td>22</td>\n",
       "      <td>7</td>\n",
       "    </tr>\n",
       "    <tr>\n",
       "      <th>Sample_4S1</th>\n",
       "      <td>2</td>\n",
       "      <td>22</td>\n",
       "      <td>8</td>\n",
       "    </tr>\n",
       "    <tr>\n",
       "      <th>Sample_4S2</th>\n",
       "      <td>2</td>\n",
       "      <td>22</td>\n",
       "      <td>1</td>\n",
       "    </tr>\n",
       "    <tr>\n",
       "      <th>Sample_4S3</th>\n",
       "      <td>2</td>\n",
       "      <td>22</td>\n",
       "      <td>2</td>\n",
       "    </tr>\n",
       "    <tr>\n",
       "      <th>Sample_PC1</th>\n",
       "      <td>2</td>\n",
       "      <td>22</td>\n",
       "      <td>3</td>\n",
       "    </tr>\n",
       "    <tr>\n",
       "      <th>Sample_PC2</th>\n",
       "      <td>2</td>\n",
       "      <td>22</td>\n",
       "      <td>4</td>\n",
       "    </tr>\n",
       "    <tr>\n",
       "      <th>Sample_PC3</th>\n",
       "      <td>2</td>\n",
       "      <td>22</td>\n",
       "      <td>5</td>\n",
       "    </tr>\n",
       "    <tr>\n",
       "      <th>Sample_PC4</th>\n",
       "      <td>2</td>\n",
       "      <td>22</td>\n",
       "      <td>6</td>\n",
       "    </tr>\n",
       "    <tr>\n",
       "      <th>Sample_PC5</th>\n",
       "      <td>2</td>\n",
       "      <td>22</td>\n",
       "      <td>7</td>\n",
       "    </tr>\n",
       "    <tr>\n",
       "      <th>Sample_PC6</th>\n",
       "      <td>2</td>\n",
       "      <td>22</td>\n",
       "      <td>8</td>\n",
       "    </tr>\n",
       "    <tr>\n",
       "      <th>Sample_N1</th>\n",
       "      <td>2</td>\n",
       "      <td>22</td>\n",
       "      <td>1</td>\n",
       "    </tr>\n",
       "    <tr>\n",
       "      <th>Sample_N2</th>\n",
       "      <td>2</td>\n",
       "      <td>22</td>\n",
       "      <td>2</td>\n",
       "    </tr>\n",
       "    <tr>\n",
       "      <th>Sample_N3</th>\n",
       "      <td>2</td>\n",
       "      <td>22</td>\n",
       "      <td>3</td>\n",
       "    </tr>\n",
       "    <tr>\n",
       "      <th>Sample_N4</th>\n",
       "      <td>2</td>\n",
       "      <td>22</td>\n",
       "      <td>4</td>\n",
       "    </tr>\n",
       "    <tr>\n",
       "      <th>Sample_N5</th>\n",
       "      <td>2</td>\n",
       "      <td>22</td>\n",
       "      <td>5</td>\n",
       "    </tr>\n",
       "    <tr>\n",
       "      <th>Sample_N6</th>\n",
       "      <td>2</td>\n",
       "      <td>22</td>\n",
       "      <td>6</td>\n",
       "    </tr>\n",
       "    <tr>\n",
       "      <th>Sample_1S4</th>\n",
       "      <td>6</td>\n",
       "      <td>22</td>\n",
       "      <td>7</td>\n",
       "    </tr>\n",
       "    <tr>\n",
       "      <th>Sample_1S5</th>\n",
       "      <td>6</td>\n",
       "      <td>22</td>\n",
       "      <td>8</td>\n",
       "    </tr>\n",
       "    <tr>\n",
       "      <th>Sample_2S4</th>\n",
       "      <td>6</td>\n",
       "      <td>22</td>\n",
       "      <td>2</td>\n",
       "    </tr>\n",
       "    <tr>\n",
       "      <th>Sample_2S5</th>\n",
       "      <td>6</td>\n",
       "      <td>22</td>\n",
       "      <td>3</td>\n",
       "    </tr>\n",
       "    <tr>\n",
       "      <th>Sample_2S6</th>\n",
       "      <td>6</td>\n",
       "      <td>22</td>\n",
       "      <td>4</td>\n",
       "    </tr>\n",
       "    <tr>\n",
       "      <th>Sample_3S4</th>\n",
       "      <td>6</td>\n",
       "      <td>22</td>\n",
       "      <td>5</td>\n",
       "    </tr>\n",
       "    <tr>\n",
       "      <th>...</th>\n",
       "      <td>...</td>\n",
       "      <td>...</td>\n",
       "      <td>...</td>\n",
       "    </tr>\n",
       "    <tr>\n",
       "      <th>Sample_N21</th>\n",
       "      <td>3</td>\n",
       "      <td>26</td>\n",
       "      <td>3</td>\n",
       "    </tr>\n",
       "    <tr>\n",
       "      <th>Sample_1S13</th>\n",
       "      <td>4</td>\n",
       "      <td>26</td>\n",
       "      <td>2</td>\n",
       "    </tr>\n",
       "    <tr>\n",
       "      <th>Sample_1S14</th>\n",
       "      <td>4</td>\n",
       "      <td>26</td>\n",
       "      <td>6</td>\n",
       "    </tr>\n",
       "    <tr>\n",
       "      <th>Sample_1S15</th>\n",
       "      <td>4</td>\n",
       "      <td>26</td>\n",
       "      <td>5</td>\n",
       "    </tr>\n",
       "    <tr>\n",
       "      <th>Sample_2S15</th>\n",
       "      <td>4</td>\n",
       "      <td>26</td>\n",
       "      <td>3</td>\n",
       "    </tr>\n",
       "    <tr>\n",
       "      <th>Sample_3S13</th>\n",
       "      <td>4</td>\n",
       "      <td>26</td>\n",
       "      <td>1</td>\n",
       "    </tr>\n",
       "    <tr>\n",
       "      <th>Sample_3S14</th>\n",
       "      <td>4</td>\n",
       "      <td>26</td>\n",
       "      <td>2</td>\n",
       "    </tr>\n",
       "    <tr>\n",
       "      <th>Sample_3S15</th>\n",
       "      <td>4</td>\n",
       "      <td>26</td>\n",
       "      <td>6</td>\n",
       "    </tr>\n",
       "    <tr>\n",
       "      <th>Sample_4S13</th>\n",
       "      <td>4</td>\n",
       "      <td>26</td>\n",
       "      <td>4</td>\n",
       "    </tr>\n",
       "    <tr>\n",
       "      <th>Sample_4S14</th>\n",
       "      <td>4</td>\n",
       "      <td>26</td>\n",
       "      <td>5</td>\n",
       "    </tr>\n",
       "    <tr>\n",
       "      <th>Sample_PC22</th>\n",
       "      <td>4</td>\n",
       "      <td>26</td>\n",
       "      <td>6</td>\n",
       "    </tr>\n",
       "    <tr>\n",
       "      <th>Sample_PC23</th>\n",
       "      <td>4</td>\n",
       "      <td>26</td>\n",
       "      <td>1</td>\n",
       "    </tr>\n",
       "    <tr>\n",
       "      <th>Sample_PC24</th>\n",
       "      <td>4</td>\n",
       "      <td>26</td>\n",
       "      <td>3</td>\n",
       "    </tr>\n",
       "    <tr>\n",
       "      <th>Sample_PC25</th>\n",
       "      <td>4</td>\n",
       "      <td>26</td>\n",
       "      <td>2</td>\n",
       "    </tr>\n",
       "    <tr>\n",
       "      <th>Sample_PC26</th>\n",
       "      <td>4</td>\n",
       "      <td>26</td>\n",
       "      <td>4</td>\n",
       "    </tr>\n",
       "    <tr>\n",
       "      <th>Sample_N25</th>\n",
       "      <td>4</td>\n",
       "      <td>26</td>\n",
       "      <td>5</td>\n",
       "    </tr>\n",
       "    <tr>\n",
       "      <th>Sample_N28</th>\n",
       "      <td>4</td>\n",
       "      <td>26</td>\n",
       "      <td>4</td>\n",
       "    </tr>\n",
       "    <tr>\n",
       "      <th>Sample_N29</th>\n",
       "      <td>4</td>\n",
       "      <td>26</td>\n",
       "      <td>3</td>\n",
       "    </tr>\n",
       "    <tr>\n",
       "      <th>Sample_N30</th>\n",
       "      <td>4</td>\n",
       "      <td>26</td>\n",
       "      <td>1</td>\n",
       "    </tr>\n",
       "    <tr>\n",
       "      <th>Sample_1S16</th>\n",
       "      <td>5</td>\n",
       "      <td>26</td>\n",
       "      <td>4</td>\n",
       "    </tr>\n",
       "    <tr>\n",
       "      <th>Sample_1S17</th>\n",
       "      <td>5</td>\n",
       "      <td>26</td>\n",
       "      <td>3</td>\n",
       "    </tr>\n",
       "    <tr>\n",
       "      <th>Sample_N31</th>\n",
       "      <td>5</td>\n",
       "      <td>26</td>\n",
       "      <td>5</td>\n",
       "    </tr>\n",
       "    <tr>\n",
       "      <th>Sample_N33</th>\n",
       "      <td>5</td>\n",
       "      <td>26</td>\n",
       "      <td>2</td>\n",
       "    </tr>\n",
       "    <tr>\n",
       "      <th>Sample_N35</th>\n",
       "      <td>5</td>\n",
       "      <td>26</td>\n",
       "      <td>1</td>\n",
       "    </tr>\n",
       "    <tr>\n",
       "      <th>Sample_N36</th>\n",
       "      <td>5</td>\n",
       "      <td>26</td>\n",
       "      <td>6</td>\n",
       "    </tr>\n",
       "    <tr>\n",
       "      <th>Sample_1S21</th>\n",
       "      <td>7</td>\n",
       "      <td>26</td>\n",
       "      <td>5</td>\n",
       "    </tr>\n",
       "    <tr>\n",
       "      <th>Sample_4S20</th>\n",
       "      <td>7</td>\n",
       "      <td>26</td>\n",
       "      <td>2</td>\n",
       "    </tr>\n",
       "    <tr>\n",
       "      <th>Sample_N37</th>\n",
       "      <td>7</td>\n",
       "      <td>26</td>\n",
       "      <td>1</td>\n",
       "    </tr>\n",
       "    <tr>\n",
       "      <th>Sample_1S23</th>\n",
       "      <td>8</td>\n",
       "      <td>26</td>\n",
       "      <td>6</td>\n",
       "    </tr>\n",
       "    <tr>\n",
       "      <th>Sample_N44</th>\n",
       "      <td>8</td>\n",
       "      <td>26</td>\n",
       "      <td>4</td>\n",
       "    </tr>\n",
       "  </tbody>\n",
       "</table>\n",
       "<p>192 rows × 3 columns</p>\n",
       "</div>"
      ],
      "text/plain": [
       "             RNA Isolation batch  library prepration day  \\\n",
       "Sample_1S1                     2                      22   \n",
       "Sample_1S2                     2                      22   \n",
       "Sample_1S3                     2                      22   \n",
       "Sample_2S1                     2                      22   \n",
       "Sample_2S2                     2                      22   \n",
       "Sample_2S3                     2                      22   \n",
       "Sample_3S1                     2                      22   \n",
       "Sample_3S2                     2                      22   \n",
       "Sample_3S3                     2                      22   \n",
       "Sample_4S1                     2                      22   \n",
       "Sample_4S2                     2                      22   \n",
       "Sample_4S3                     2                      22   \n",
       "Sample_PC1                     2                      22   \n",
       "Sample_PC2                     2                      22   \n",
       "Sample_PC3                     2                      22   \n",
       "Sample_PC4                     2                      22   \n",
       "Sample_PC5                     2                      22   \n",
       "Sample_PC6                     2                      22   \n",
       "Sample_N1                      2                      22   \n",
       "Sample_N2                      2                      22   \n",
       "Sample_N3                      2                      22   \n",
       "Sample_N4                      2                      22   \n",
       "Sample_N5                      2                      22   \n",
       "Sample_N6                      2                      22   \n",
       "Sample_1S4                     6                      22   \n",
       "Sample_1S5                     6                      22   \n",
       "Sample_2S4                     6                      22   \n",
       "Sample_2S5                     6                      22   \n",
       "Sample_2S6                     6                      22   \n",
       "Sample_3S4                     6                      22   \n",
       "...                          ...                     ...   \n",
       "Sample_N21                     3                      26   \n",
       "Sample_1S13                    4                      26   \n",
       "Sample_1S14                    4                      26   \n",
       "Sample_1S15                    4                      26   \n",
       "Sample_2S15                    4                      26   \n",
       "Sample_3S13                    4                      26   \n",
       "Sample_3S14                    4                      26   \n",
       "Sample_3S15                    4                      26   \n",
       "Sample_4S13                    4                      26   \n",
       "Sample_4S14                    4                      26   \n",
       "Sample_PC22                    4                      26   \n",
       "Sample_PC23                    4                      26   \n",
       "Sample_PC24                    4                      26   \n",
       "Sample_PC25                    4                      26   \n",
       "Sample_PC26                    4                      26   \n",
       "Sample_N25                     4                      26   \n",
       "Sample_N28                     4                      26   \n",
       "Sample_N29                     4                      26   \n",
       "Sample_N30                     4                      26   \n",
       "Sample_1S16                    5                      26   \n",
       "Sample_1S17                    5                      26   \n",
       "Sample_N31                     5                      26   \n",
       "Sample_N33                     5                      26   \n",
       "Sample_N35                     5                      26   \n",
       "Sample_N36                     5                      26   \n",
       "Sample_1S21                    7                      26   \n",
       "Sample_4S20                    7                      26   \n",
       "Sample_N37                     7                      26   \n",
       "Sample_1S23                    8                      26   \n",
       "Sample_N44                     8                      26   \n",
       "\n",
       "             gel cut size selection  \n",
       "Sample_1S1                        7  \n",
       "Sample_1S2                        8  \n",
       "Sample_1S3                        1  \n",
       "Sample_2S1                        2  \n",
       "Sample_2S2                        3  \n",
       "Sample_2S3                        4  \n",
       "Sample_3S1                        5  \n",
       "Sample_3S2                        6  \n",
       "Sample_3S3                        7  \n",
       "Sample_4S1                        8  \n",
       "Sample_4S2                        1  \n",
       "Sample_4S3                        2  \n",
       "Sample_PC1                        3  \n",
       "Sample_PC2                        4  \n",
       "Sample_PC3                        5  \n",
       "Sample_PC4                        6  \n",
       "Sample_PC5                        7  \n",
       "Sample_PC6                        8  \n",
       "Sample_N1                         1  \n",
       "Sample_N2                         2  \n",
       "Sample_N3                         3  \n",
       "Sample_N4                         4  \n",
       "Sample_N5                         5  \n",
       "Sample_N6                         6  \n",
       "Sample_1S4                        7  \n",
       "Sample_1S5                        8  \n",
       "Sample_2S4                        2  \n",
       "Sample_2S5                        3  \n",
       "Sample_2S6                        4  \n",
       "Sample_3S4                        5  \n",
       "...                             ...  \n",
       "Sample_N21                        3  \n",
       "Sample_1S13                       2  \n",
       "Sample_1S14                       6  \n",
       "Sample_1S15                       5  \n",
       "Sample_2S15                       3  \n",
       "Sample_3S13                       1  \n",
       "Sample_3S14                       2  \n",
       "Sample_3S15                       6  \n",
       "Sample_4S13                       4  \n",
       "Sample_4S14                       5  \n",
       "Sample_PC22                       6  \n",
       "Sample_PC23                       1  \n",
       "Sample_PC24                       3  \n",
       "Sample_PC25                       2  \n",
       "Sample_PC26                       4  \n",
       "Sample_N25                        5  \n",
       "Sample_N28                        4  \n",
       "Sample_N29                        3  \n",
       "Sample_N30                        1  \n",
       "Sample_1S16                       4  \n",
       "Sample_1S17                       3  \n",
       "Sample_N31                        5  \n",
       "Sample_N33                        2  \n",
       "Sample_N35                        1  \n",
       "Sample_N36                        6  \n",
       "Sample_1S21                       5  \n",
       "Sample_4S20                       2  \n",
       "Sample_N37                        1  \n",
       "Sample_1S23                       6  \n",
       "Sample_N44                        4  \n",
       "\n",
       "[192 rows x 3 columns]"
      ]
     },
     "execution_count": 58,
     "metadata": {},
     "output_type": "execute_result"
    }
   ],
   "source": [
    "batch_info = pd.read_table('/home/xieyufeng/ex/data/scirep/batch_info.txt',index_col=0)\n",
    "batch_info"
   ]
  },
  {
   "cell_type": "code",
   "execution_count": 11,
   "metadata": {},
   "outputs": [],
   "source": []
  },
  {
   "cell_type": "code",
   "execution_count": 22,
   "metadata": {},
   "outputs": [],
   "source": [
    "def knn_score(X, y, K=10):\n",
    "    N = X.shape[0]\n",
    "    assert K < N\n",
    "    nn = NearestNeighbors(K)\n",
    "    nn.fit(X)\n",
    "    distances, indices = nn.kneighbors(X, K + 1)\n",
    "    neighbor_classes = np.take(y, indices[:, 1:])\n",
    "    same_class_fractions = np.sum(neighbor_classes == y[:, np.newaxis], axis=1)\n",
    "    classes, counts = np.unique(y, return_counts=True)\n",
    "    classes = np.argmax(y.reshape((-1, 1)) == classes.reshape((1, -1)), axis=1)\n",
    "    counts = np.take(counts, classes)\n",
    "    mean_r = K/(N - 1)*counts\n",
    "    max_r = np.minimum(K, counts)\n",
    "    #print (same_class_fractions.shape,mean_r.shape,max_r.shape)\n",
    "    #scores = (np.mean(same_class_fractions) - mean_r)/(max_r - mean_r)\n",
    "    scores = (same_class_fractions - mean_r)/(max_r - mean_r)\n",
    "    #print(scores)\n",
    "    return scores.mean()"
   ]
  },
  {
   "cell_type": "code",
   "execution_count": 23,
   "metadata": {},
   "outputs": [],
   "source": [
    "def get_knn_score(data,sampleclass,method_PCA = True,prediction_algorithm='knn'):\n",
    "    X = np.log2(data + 0.001).T\n",
    "    X = StandardScaler().fit_transform(X)\n",
    "    if method_PCA == True:\n",
    "        transform = PCA()\n",
    "    else:\n",
    "        transform = TSNE()\n",
    "    X_pca = transform.fit_transform(X)\n",
    "    X_, y_ = X_pca, sampleclass.loc[data.columns.values].values.ravel() \n",
    "    knn_score_ = knn_score(X_, y_)\n",
    "    return knn_score_"
   ]
  },
  {
   "cell_type": "code",
   "execution_count": 91,
   "metadata": {},
   "outputs": [],
   "source": [
    "def uca_scores(X,y, prediction_algorithm='knn'):\n",
    "    from sklearn.metrics import adjusted_rand_score as ARI\n",
    "    from sklearn.metrics import normalized_mutual_info_score as NMI\n",
    "    from sklearn.metrics import silhouette_score\n",
    "    from sklearn.mixture import GaussianMixture as GMM\n",
    "    from sklearn.cluster import KMeans\n",
    "\n",
    "    cluster_num = np.unique(y).shape[0]\n",
    "    if prediction_algorithm == 'knn':\n",
    "        labels_pred = KMeans(cluster_num, n_init=200).fit_predict(X)  \n",
    "    elif prediction_algorithm == 'gmm':\n",
    "        gmm = GMM(cluster_num)\n",
    "        gmm.fit(X)\n",
    "        labels_pred = gmm.predict(X)\n",
    "    labels = y\n",
    "    #asw_score = silhouette_score(X, labels)\n",
    "    #nmi_score = NMI(labels, labels_pred)\n",
    "    #ari_score = ARI(labels, labels_pred)\n",
    "    labels_int = convert_label_to_int(labels)\n",
    "    uca_score = unsupervised_clustering_accuracy(labels_int, labels_pred)[0]\n",
    "    return uca_score"
   ]
  },
  {
   "cell_type": "code",
   "execution_count": 105,
   "metadata": {
    "code_folding": [
     0,
     5
    ]
   },
   "outputs": [],
   "source": [
    "def convert_label_to_int(sample_class):\n",
    "    classes, counts = np.unique(sample_class, return_counts=True)\n",
    "    classes = np.argmax(sample_class.reshape((-1, 1)) == classes.reshape((1, -1)), axis=1)\n",
    "    return classes\n",
    "\n",
    "def unsupervised_clustering_accuracy(y, y_pred):\n",
    "    from sklearn.utils.linear_assignment_ import linear_assignment\n",
    "    assert len(y_pred) == len(y)\n",
    "    u = np.unique(np.concatenate((y, y_pred)))\n",
    "    n_clusters = len(u)\n",
    "    mapping = dict(zip(u, range(n_clusters)))\n",
    "    reward_matrix = np.zeros((n_clusters, n_clusters), dtype=np.int64)\n",
    "    for y_pred_, y_ in zip(y_pred, y):\n",
    "        if y_ in mapping:\n",
    "            reward_matrix[mapping[y_pred_], mapping[y_]] += 1\n",
    "    cost_matrix = reward_matrix.max() - reward_matrix\n",
    "    ind = linear_assignment(cost_matrix)\n",
    "    return sum([reward_matrix[i, j] for i, j in ind]) * 1.0 / y_pred.size, ind"
   ]
  },
  {
   "cell_type": "code",
   "execution_count": 92,
   "metadata": {},
   "outputs": [],
   "source": [
    "def get_uca_score(data,sampleclass,method_PCA = True,prediction_algorithm='knn'):\n",
    "    X = np.log2(data + 0.001).T\n",
    "    X = StandardScaler().fit_transform(X)\n",
    "    if method_PCA == True:\n",
    "        transform = PCA()\n",
    "    else:\n",
    "        transform = TSNE()\n",
    "    X_pca = transform.fit_transform(X)\n",
    "    X_, y_ = X_pca, sampleclass.loc[data.columns.values].values.ravel() \n",
    "    uca_score = uca_scores(X_, y_,prediction_algorithm)\n",
    "    return uca_score"
   ]
  },
  {
   "cell_type": "markdown",
   "metadata": {},
   "source": [
    "# batch 0"
   ]
  },
  {
   "cell_type": "code",
   "execution_count": 66,
   "metadata": {},
   "outputs": [],
   "source": [
    "sampleclass = batch_info.iloc[:,0]"
   ]
  },
  {
   "cell_type": "code",
   "execution_count": 67,
   "metadata": {},
   "outputs": [
    {
     "name": "stdout",
     "output_type": "stream",
     "text": [
      "/home/xieyufeng/ex\n"
     ]
    }
   ],
   "source": [
    "cd ~/ex"
   ]
  },
  {
   "cell_type": "code",
   "execution_count": 68,
   "metadata": {
    "code_folding": []
   },
   "outputs": [
    {
     "data": {
      "application/vnd.jupyter.widget-view+json": {
       "model_id": "2025996e4e504c83befbaa743ea399d8",
       "version_major": 2,
       "version_minor": 0
      },
      "text/html": [
       "<p>Failed to display Jupyter Widget of type <code>HBox</code>.</p>\n",
       "<p>\n",
       "  If you're reading this message in the Jupyter Notebook or JupyterLab Notebook, it may mean\n",
       "  that the widgets JavaScript is still loading. If this message persists, it\n",
       "  likely means that the widgets JavaScript library is either not installed or\n",
       "  not enabled. See the <a href=\"https://ipywidgets.readthedocs.io/en/stable/user_install.html\">Jupyter\n",
       "  Widgets Documentation</a> for setup instructions.\n",
       "</p>\n",
       "<p>\n",
       "  If you're reading this message in another frontend (for example, a static\n",
       "  rendering on GitHub or <a href=\"https://nbviewer.jupyter.org/\">NBViewer</a>),\n",
       "  it may mean that your frontend doesn't currently support widgets.\n",
       "</p>\n"
      ],
      "text/plain": [
       "HBox(children=(IntProgress(value=0, max=75), HTML(value='')))"
      ]
     },
     "metadata": {},
     "output_type": "display_data"
    },
    {
     "name": "stdout",
     "output_type": "stream",
     "text": [
      "\n"
     ]
    }
   ],
   "source": [
    "uca_summary = pd.read_table('output/'+'scirep'+'/select_preprocess_method/uca_score/'+'domains_combined'+'/summary.txt',\n",
    "                           index_col=0)\n",
    "knn_list=[]\n",
    "for i in tqdm(uca_summary.index):\n",
    "    table = pd.read_table('~/ex/output/'+'scirep'+'/matrix_processing/'+i+'.domains_combined.txt',\n",
    "                           index_col=0)\n",
    "    knn_list.append(get_knn_score(table,sampleclass))\n",
    "    "
   ]
  },
  {
   "cell_type": "code",
   "execution_count": 69,
   "metadata": {},
   "outputs": [],
   "source": [
    "knn_summary = pd.DataFrame(data={'preprocess_method':uca_summary.index,'knn_score':list(knn_list)})\n",
    "knn_summary = knn_summary.set_index('preprocess_method')"
   ]
  },
  {
   "cell_type": "code",
   "execution_count": 70,
   "metadata": {
    "scrolled": true
   },
   "outputs": [
    {
     "data": {
      "text/html": [
       "<style  type=\"text/css\" >\n",
       "</style>  \n",
       "<table id=\"T_b9048e1c_3f13_11e9_a1dc_07440e142ae7\" ><caption>Imputation Methods knn Score</caption> \n",
       "<thead>    <tr> \n",
       "        <th class=\"blank level0\" ></th> \n",
       "        <th class=\"col_heading level0 col0\" >knn_score</th> \n",
       "    </tr>    <tr> \n",
       "        <th class=\"index_name level0\" >imputation</th> \n",
       "        <th class=\"blank\" ></th> \n",
       "    </tr></thead> \n",
       "<tbody>    <tr> \n",
       "        <th id=\"T_b9048e1c_3f13_11e9_a1dc_07440e142ae7level0_row0\" class=\"row_heading level0 row0\" >null</th> \n",
       "        <td id=\"T_b9048e1c_3f13_11e9_a1dc_07440e142ae7row0_col0\" class=\"data row0 col0\" >0.279079</td> \n",
       "    </tr>    <tr> \n",
       "        <th id=\"T_b9048e1c_3f13_11e9_a1dc_07440e142ae7level0_row1\" class=\"row_heading level0 row1\" >scimpute_count</th> \n",
       "        <td id=\"T_b9048e1c_3f13_11e9_a1dc_07440e142ae7row1_col0\" class=\"data row1 col0\" >0.280723</td> \n",
       "    </tr>    <tr> \n",
       "        <th id=\"T_b9048e1c_3f13_11e9_a1dc_07440e142ae7level0_row2\" class=\"row_heading level0 row2\" >viper_count</th> \n",
       "        <td id=\"T_b9048e1c_3f13_11e9_a1dc_07440e142ae7row2_col0\" class=\"data row2 col0\" >0.248548</td> \n",
       "    </tr></tbody> \n",
       "</table> "
      ],
      "text/plain": [
       "<pandas.io.formats.style.Styler at 0x7ffb0b83eda0>"
      ]
     },
     "metadata": {},
     "output_type": "display_data"
    },
    {
     "data": {
      "text/html": [
       "<input type=\"button\" id=\"button_427628137\" value=\"Download\">"
      ],
      "text/plain": [
       "<IPython.core.display.HTML object>"
      ]
     },
     "metadata": {},
     "output_type": "display_data"
    },
    {
     "data": {
      "text/html": [
       "<script>\n",
       "    document.getElementById(\"button_427628137\").addEventListener(\"click\", function(event){\n",
       "        var filename = \"Imputation Methods knn Score.csv\";\n",
       "        var data = \"data:text/csv;base64,aW1wdXRhdGlvbixrbm5fc2NvcmUKbnVsbCwwLjI3OTA3OTM0OTExODk5NDEKc2NpbXB1dGVfY291bnQsMC4yODA3MjM0OTYyNjMzOTgxCnZpcGVyX2NvdW50LDAuMjQ4NTQ3NjU3NzYxMzMzNgo=\";\n",
       "        const element = document.createElement('a');\n",
       "        element.setAttribute('href', data);\n",
       "        element.setAttribute('download', filename);\n",
       "        element.style.display = 'none';\n",
       "        document.body.appendChild(element);\n",
       "        element.click();\n",
       "        document.body.removeChild(element);\n",
       "    });\n",
       "</script>"
      ],
      "text/plain": [
       "<IPython.core.display.HTML object>"
      ]
     },
     "metadata": {},
     "output_type": "display_data"
    },
    {
     "data": {
      "text/html": [
       "<style  type=\"text/css\" >\n",
       "</style>  \n",
       "<table id=\"T_b90643b0_3f13_11e9_a1dc_07440e142ae7\" ><caption>Normalization Methods knn Score</caption> \n",
       "<thead>    <tr> \n",
       "        <th class=\"blank level0\" ></th> \n",
       "        <th class=\"col_heading level0 col0\" >knn_score</th> \n",
       "    </tr>    <tr> \n",
       "        <th class=\"index_name level0\" >normalization</th> \n",
       "        <th class=\"blank\" ></th> \n",
       "    </tr></thead> \n",
       "<tbody>    <tr> \n",
       "        <th id=\"T_b90643b0_3f13_11e9_a1dc_07440e142ae7level0_row0\" class=\"row_heading level0 row0\" >Norm_CPM</th> \n",
       "        <td id=\"T_b90643b0_3f13_11e9_a1dc_07440e142ae7row0_col0\" class=\"data row0 col0\" >0.267633</td> \n",
       "    </tr>    <tr> \n",
       "        <th id=\"T_b90643b0_3f13_11e9_a1dc_07440e142ae7level0_row1\" class=\"row_heading level0 row1\" >Norm_CPM_top</th> \n",
       "        <td id=\"T_b90643b0_3f13_11e9_a1dc_07440e142ae7row1_col0\" class=\"data row1 col0\" >0.264693</td> \n",
       "    </tr>    <tr> \n",
       "        <th id=\"T_b90643b0_3f13_11e9_a1dc_07440e142ae7level0_row2\" class=\"row_heading level0 row2\" >Norm_RLE</th> \n",
       "        <td id=\"T_b90643b0_3f13_11e9_a1dc_07440e142ae7row2_col0\" class=\"data row2 col0\" >0.273684</td> \n",
       "    </tr>    <tr> \n",
       "        <th id=\"T_b90643b0_3f13_11e9_a1dc_07440e142ae7level0_row3\" class=\"row_heading level0 row3\" >Norm_SCnorm</th> \n",
       "        <td id=\"T_b90643b0_3f13_11e9_a1dc_07440e142ae7row3_col0\" class=\"data row3 col0\" >0.279327</td> \n",
       "    </tr>    <tr> \n",
       "        <th id=\"T_b90643b0_3f13_11e9_a1dc_07440e142ae7level0_row4\" class=\"row_heading level0 row4\" >Norm_TMM</th> \n",
       "        <td id=\"T_b90643b0_3f13_11e9_a1dc_07440e142ae7row4_col0\" class=\"data row4 col0\" >0.261914</td> \n",
       "    </tr></tbody> \n",
       "</table> "
      ],
      "text/plain": [
       "<pandas.io.formats.style.Styler at 0x7ffb0bb26438>"
      ]
     },
     "metadata": {},
     "output_type": "display_data"
    },
    {
     "data": {
      "text/html": [
       "<input type=\"button\" id=\"button_753586226\" value=\"Download\">"
      ],
      "text/plain": [
       "<IPython.core.display.HTML object>"
      ]
     },
     "metadata": {},
     "output_type": "display_data"
    },
    {
     "data": {
      "text/html": [
       "<script>\n",
       "    document.getElementById(\"button_753586226\").addEventListener(\"click\", function(event){\n",
       "        var filename = \"Normalization Methods knn Score.csv\";\n",
       "        var data = \"data:text/csv;base64,bm9ybWFsaXphdGlvbixrbm5fc2NvcmUKTm9ybV9DUE0sMC4yNjc2MzMzMzI1NzM5OTE3Ck5vcm1fQ1BNX3RvcCwwLjI2NDY5MjU3ODQ1MDUzNzczCk5vcm1fUkxFLDAuMjczNjg0NDY2MjIwOTA2NzUKTm9ybV9TQ25vcm0sMC4yNzkzMjY5NTQyOTc4MzMwNQpOb3JtX1RNTSwwLjI2MTkxMzUwNzAyOTYwNzE0Cg==\";\n",
       "        const element = document.createElement('a');\n",
       "        element.setAttribute('href', data);\n",
       "        element.setAttribute('download', filename);\n",
       "        element.style.display = 'none';\n",
       "        document.body.appendChild(element);\n",
       "        element.click();\n",
       "        document.body.removeChild(element);\n",
       "    });\n",
       "</script>"
      ],
      "text/plain": [
       "<IPython.core.display.HTML object>"
      ]
     },
     "metadata": {},
     "output_type": "display_data"
    },
    {
     "data": {
      "text/html": [
       "<style  type=\"text/css\" >\n",
       "</style>  \n",
       "<table id=\"T_b9077e56_3f13_11e9_a1dc_07440e142ae7\" ><caption>Batch Removal Methods knn Score</caption> \n",
       "<thead>    <tr> \n",
       "        <th class=\"blank level0\" ></th> \n",
       "        <th class=\"col_heading level0 col0\" >knn_score</th> \n",
       "    </tr>    <tr> \n",
       "        <th class=\"index_name level0\" >batch_removal</th> \n",
       "        <th class=\"blank\" ></th> \n",
       "    </tr></thead> \n",
       "<tbody>    <tr> \n",
       "        <th id=\"T_b9077e56_3f13_11e9_a1dc_07440e142ae7level0_row0\" class=\"row_heading level0 row0\" >Batch_Combat_1</th> \n",
       "        <td id=\"T_b9077e56_3f13_11e9_a1dc_07440e142ae7row0_col0\" class=\"data row0 col0\" >0.0676102</td> \n",
       "    </tr>    <tr> \n",
       "        <th id=\"T_b9077e56_3f13_11e9_a1dc_07440e142ae7level0_row1\" class=\"row_heading level0 row1\" >Batch_Combat_2</th> \n",
       "        <td id=\"T_b9077e56_3f13_11e9_a1dc_07440e142ae7row1_col0\" class=\"data row1 col0\" >0.227371</td> \n",
       "    </tr>    <tr> \n",
       "        <th id=\"T_b9077e56_3f13_11e9_a1dc_07440e142ae7level0_row2\" class=\"row_heading level0 row2\" >Batch_Combat_3</th> \n",
       "        <td id=\"T_b9077e56_3f13_11e9_a1dc_07440e142ae7row2_col0\" class=\"data row2 col0\" >0.411901</td> \n",
       "    </tr>    <tr> \n",
       "        <th id=\"T_b9077e56_3f13_11e9_a1dc_07440e142ae7level0_row3\" class=\"row_heading level0 row3\" >Batch_RUV</th> \n",
       "        <td id=\"T_b9077e56_3f13_11e9_a1dc_07440e142ae7row3_col0\" class=\"data row3 col0\" >0.217858</td> \n",
       "    </tr>    <tr> \n",
       "        <th id=\"T_b9077e56_3f13_11e9_a1dc_07440e142ae7level0_row4\" class=\"row_heading level0 row4\" >Batch_null</th> \n",
       "        <td id=\"T_b9077e56_3f13_11e9_a1dc_07440e142ae7row4_col0\" class=\"data row4 col0\" >0.422511</td> \n",
       "    </tr></tbody> \n",
       "</table> "
      ],
      "text/plain": [
       "<pandas.io.formats.style.Styler at 0x7ffb0b83eb00>"
      ]
     },
     "metadata": {},
     "output_type": "display_data"
    },
    {
     "data": {
      "text/html": [
       "<input type=\"button\" id=\"button_180562234\" value=\"Download\">"
      ],
      "text/plain": [
       "<IPython.core.display.HTML object>"
      ]
     },
     "metadata": {},
     "output_type": "display_data"
    },
    {
     "data": {
      "text/html": [
       "<script>\n",
       "    document.getElementById(\"button_180562234\").addEventListener(\"click\", function(event){\n",
       "        var filename = \"Batch Removal Methods knn Score.csv\";\n",
       "        var data = \"data:text/csv;base64,YmF0Y2hfcmVtb3ZhbCxrbm5fc2NvcmUKQmF0Y2hfQ29tYmF0XzEsMC4wNjc2MTAyMjQzOTAxMzc4MgpCYXRjaF9Db21iYXRfMiwwLjIyNzM3MDc1Mjg0NzMzMTYKQmF0Y2hfQ29tYmF0XzMsMC40MTE5MDA2MTA3MjcxMTEyCkJhdGNoX1JVViwwLjIxNzg1ODM3MjQyNzEyODk0CkJhdGNoX251bGwsMC40MjI1MTA4NzgxODExNjY4NAo=\";\n",
       "        const element = document.createElement('a');\n",
       "        element.setAttribute('href', data);\n",
       "        element.setAttribute('download', filename);\n",
       "        element.style.display = 'none';\n",
       "        document.body.appendChild(element);\n",
       "        element.click();\n",
       "        document.body.removeChild(element);\n",
       "    });\n",
       "</script>"
      ],
      "text/plain": [
       "<IPython.core.display.HTML object>"
      ]
     },
     "metadata": {},
     "output_type": "display_data"
    }
   ],
   "source": [
    "knn_summary_table = pd.DataFrame(np.ndarray([knn_summary.shape[0],4]))\n",
    "knn_summary_table.columns = ['imputation','normalization','batch_removal','knn_score']\n",
    "for i in range(knn_summary.shape[0]):\n",
    "    splittmp = knn_summary.index[i].split('.')\n",
    "    knn_summary_table.iloc[i,0] = splittmp[1]\n",
    "    knn_summary_table.iloc[i,1] = splittmp[2]\n",
    "    knn_summary_table.iloc[i,2] = splittmp[3]\n",
    "    knn_summary_table.iloc[i,3] = knn_summary.values[i]\n",
    "display_dataframe(knn_summary_table.groupby(knn_summary_table.columns[0]).mean(),filename='Imputation Methods knn Score',gradientfunc=False)\n",
    "display_dataframe(knn_summary_table.groupby(knn_summary_table.columns[1]).mean(),filename='Normalization Methods knn Score',gradientfunc=False)\n",
    "display_dataframe(knn_summary_table.groupby(knn_summary_table.columns[2]).mean(),filename='Batch Removal Methods knn Score',gradientfunc=False)\n",
    "knn_mean_summary = pd.concat((knn_summary_table.groupby(knn_summary_table.columns[0]).mean(),\n",
    "          knn_summary_table.groupby(knn_summary_table.columns[1]).mean(),\n",
    "          knn_summary_table.groupby(knn_summary_table.columns[2]).mean()))\n",
    "knn_mean_summary =  knn_mean_summary.rename(index={'null': 'imputation_null'})"
   ]
  },
  {
   "cell_type": "code",
   "execution_count": 71,
   "metadata": {},
   "outputs": [
    {
     "data": {
      "text/html": [
       "<object width=\"640\" height=\"480\" data=\"data:application/pdf;base64,JVBERi0xLjQKJazcIKu6CjEgMCBvYmoKPDwgL1BhZ2VzIDIgMCBSIC9UeXBlIC9DYXRhbG9nID4+CmVuZG9iago4IDAgb2JqCjw8IC9FeHRHU3RhdGUgNCAwIFIgL0ZvbnQgMyAwIFIgL1BhdHRlcm4gNSAwIFIKL1Byb2NTZXQgWyAvUERGIC9UZXh0IC9JbWFnZUIgL0ltYWdlQyAvSW1hZ2VJIF0gL1NoYWRpbmcgNiAwIFIKL1hPYmplY3QgNyAwIFIgPj4KZW5kb2JqCjEwIDAgb2JqCjw8IC9Bbm5vdHMgWyBdIC9Db250ZW50cyA5IDAgUgovR3JvdXAgPDwgL0NTIC9EZXZpY2VSR0IgL1MgL1RyYW5zcGFyZW5jeSAvVHlwZSAvR3JvdXAgPj4KL01lZGlhQm94IFsgMCAwIDUwNCAyODggXSAvUGFyZW50IDIgMCBSIC9SZXNvdXJjZXMgOCAwIFIgL1R5cGUgL1BhZ2UgPj4KZW5kb2JqCjkgMCBvYmoKPDwgL0ZpbHRlciAvRmxhdGVEZWNvZGUgL0xlbmd0aCAxMSAwIFIgPj4Kc3RyZWFtCnicxVhNb9w2EL3rV+jYHkpzZjj8ONpuGiBoiibZtoeiWKSOYzvdXae2k/z9Pkq7IqUKWRUosAbWWr3VcOaRM8MnUvuhofamte0HfL60v7d/4PqupfY5PjeNxd22Uetw3XRXjhHf7P562zTvm7NzPPqIJ543HE1svTeqMHMxmbC/2+zvOAj+b/oHDzfdKH+3lbHz1qSWbTCk7cN1+1u7a60hJvXRc1DcOL//C7gJVmNkUU7tA6Je/GQjAT+Lihui9moo+uh4iLwglNRY/OMcdTEdwR2ZV+3/RKd5uPkPxJvAhih4nwY6KZnobAplIQqS4w7BSxTAxXQEn5QOWY9IKFod+JA445ISyUCogvCoSd6FwBkv1iP8tJQcGceaSsKRT4ZcYhcLowJRLhu16lzGB+MRfFpCwRsbrQ1ljdiKiVZyAh0YVRDFaCT5SLlaKusRflJKTIDEMVGhJNE4DUqpUCoQJTYq3nYVU1mP8NNScmokRnG+UEL3JSKvrlAqUG4CJKI2t/nKeoSflhJq2jrUSFklgdfgNcSyShVEMeQWp9RRKtYj/KSUhJzxyXsKhZJj4ygl1kKpQCkYH4RzE6hsK/S0dFwyyJSgXOiEYGxw1hc2A0KBDJMX6XbXYjvCT0soOmOti7GsjyMygSPKoiidArF6Q54UWbaprUf4SSk5isZrsiyFkvOodhahQqlABCxKcIE6qoP1CD8tJRUjJJjdSoqSseJhVenRAWKPr06j6ygV6xE+UDo7517u3kAiQzaDYBHOEMH5l0bJCKOjlBAqRIzNETQX0N5fmotVe/YDptpou3oPZU3td4QxEEZOlqDOJ/SuYCREQsmvtp0qX71rvrnbfvz09Pbp7n633n3abL5tVx/aZ6umi6iJalJIUq1rhSyKAG0xry1hf87btuZRKu+PV53/6/XV/afd09g5sTUoWKdFiNbQIvfE3C2E89QtEuQ2xFwYxfD57uP1w2wAqobxcK2zKmhZAIrOZL04SVGzfwt1Mvb/0/3Ddn3588uJc4iz5Chwxb6CljlPZLy3rlswzD4krnqedb5+uv84DoDZGU0afaXJKmhRAMzeoNZU0Xqxp6CQk00yQ//1j88m3jUZrjzvb5d5zU2im2VkfLBzjN9c7nCZuEyC8BxJ5baClrmGstGILscxy1TQD3N0Vy8nqy2YGtXIodIhFbTIt4jFZAfL1ge0NCjI6Ka5dvH26ep2fXm//fPt05omMcANE5d9dTuClsXgnUlCaLIWDfp4CDwJAaojekjHahoqaFkIeDfViD5O/Xv10RhkHIMT6O08h9X+XEGLYnB4m2SbdwaUYJgv+z6G17/8OnHvsbcFbCxF79TQMvceOyZe61JSsdQiLwJPu17v/t8tf3T6wpDsw2Y36xPTi/6ecxwrz3svGB7C2M4MjA6m/Y67H7wARx1gK8HrEhKhe3zvRGecEHEuQvwdvFTIUTeEr4yOZfvnez80RwYJZvzgors5PrqgokI1TTTLQCGJqJ6nCjnuA8KQ42SmeJYB9IuX0UwV5LifAHltJzPFc3zY4r1iSKj93dHx2WLzrlNK5jgwqsuPcqpCjvvIFtOsklkOCqNRVlXIcT8uYtjJXLlZPt2B5sHF/nTz2Oh4u5E6q9zAgNsX/cksbIrEPPv++vPd1fXr5xft1eOk5utT1ebN145j8evZufRC9kXbnwH3Z74NUlB9lpqQq8b1zQ8KJm/IUmObAQs56nxAPFgekNtM/3BAvFTCd0fRnZKuLJqvi/7cXfdBQ250M7tt8uHSBNxUIGyi68FiXoH70+2R3KcZsT9eWlQhT5zmhf1rt1s/Xt0/XB9W91XzD/FE03wKZW5kc3RyZWFtCmVuZG9iagoxMSAwIG9iagoxMzgxCmVuZG9iagoxNiAwIG9iago8PCAvRmlsdGVyIC9GbGF0ZURlY29kZSAvTGVuZ3RoIDQyID4+CnN0cmVhbQp4nDMyt1AwULA0BBKGQNLQwEAhxZALzM/lggrkcBmisEA0lEoDAH7MDBIKZW5kc3RyZWFtCmVuZG9iagoxNyAwIG9iago8PCAvRmlsdGVyIC9GbGF0ZURlY29kZSAvTGVuZ3RoIDI3MiA+PgpzdHJlYW0KeJw1UUtuBTEI288pfIFK/EnOM1V3vf+2JumTZgQJ2BgnsyAIw5cqUhZaN7714Y2n43eS8GaJX6IWMhvvs5jLhhJVwRg89xS0N5qdZn64rPPE93G9Nx7NqPAu1E5WQoLoTRkLRfpgRzFnpQq5WVlUV4HYhjRjJYXClhzNwVkTR/FUFqyIIc5E2WXUtw9bYpPeN5IoqnQZYa3gutbHhBE88X1MbqbJ37mrURXvyaKmY5rpDP+fq/7xbDLzPK4o99Ee9DqUAi5qzoXljKqjQE/isaY6xtz2MWYIgqchnHiHTRbUPR0ZF5NrMENSVnDljCgOuZHD3e8NTSnjo/HB8jyA0vA8W9LUFnxWeZ+fP/SWZUsKZW5kc3RyZWFtCmVuZG9iagoxOCAwIG9iago8PCAvRmlsdGVyIC9GbGF0ZURlY29kZSAvTGVuZ3RoIDExNCA+PgpzdHJlYW0KeJw1TssNQzEMumcKRvDf8Tyv6ind/1rHai8GYUC4BwhM1VdTkVx48bqU8FmyvfEMegwLhRtBtJU2CzGsCs/iSFgWWAMWNqXmdj/NXKvT7Lt7ZFJet2UjRNsjaQh3KBFiJ5RjxjzrP+v8Vp31/gItliJeCmVuZHN0cmVhbQplbmRvYmoKMTkgMCBvYmoKPDwgL0ZpbHRlciAvRmxhdGVEZWNvZGUgL0xlbmd0aCAyNjcgPj4Kc3RyZWFtCnicNVFJcsMwDLv7FXiCuIvvSaen5P/Xgsx0xjJocwOgiMSBNl9xDCWNH3kmvI7PBgfvx84C61RgBpd5UvB6wtBsVIg6+kI48fXMh9yCpEGVR3gymNHmBL0wN1gRa2ZNj7HbY4Yr/N7FUGVmI861bsQllnP5mR5vpDlMCukJrS9yj8X3zyFRUpZK5LnDLSj2krAVwuuLZ/cw4Kr3iIpqTAulC+llriySKA5UkfVKp4g4RGoj56AkTXfiGuRclbRgVgQnLuqQn8hph3fCaZTTc7dYIsycWjvGJFeK9rsm9Yq1cG4PjJ26JqnRfNbqofWslduUNhmhXaNBkqIP9YTO9b7+7/n9/P4BKx1g2AplbmRzdHJlYW0KZW5kb2JqCjIwIDAgb2JqCjw8IC9GaWx0ZXIgL0ZsYXRlRGVjb2RlIC9MZW5ndGggMzY2ID4+CnN0cmVhbQp4nDWSSXIlMQhE93UKLuAIMUo6z3d45b7/th9U96ICSkyZCZklS8LkS01SVbZe+daHFz1X/jzqS2yp/D4aSzSVb4tqEle5Lp/HVlIm5ilF8l5tPo/TDcejZIc4n65Oj0VvVwmlT+2xtm5H2osrQZ4dp2aLT8SZ6/R3MpwM269l+IzgxS82xUDmPhFLehfIbablIHztHUvOrvFcWwRQwjEieiI0ong51NzXpnfNeOBuRokAnialU4NW1ShhWNC2OmOZ4/G+IFVn6Plfo3npgiLRXVEYbKmHCJTTHfilk3GK0iMKzNotsJbJZlSL12uzqrEAmY20IL3QNVDrvuLTpUkjSaVD9kpZ0woo5SVCNCtf61PTHifQGbGpAVlEQwxohRkL66XZu7AzkZ6+z+R6dh2y2O7IBSlz+tiMyFi+Jsxx9frp0EC4wez5zs+dpfaR9n217bur8TRhx0k2G545RS4zWqkr/+748/z8BfNwirMKZW5kc3RyZWFtCmVuZG9iagoyMSAwIG9iago8PCAvRmlsdGVyIC9GbGF0ZURlY29kZSAvTGVuZ3RoIDkwID4+CnN0cmVhbQp4nE2NQRLAIAgD776CJxgoUv7T6cn+/1qRcfRCdhIgqo0qQcbQepOh0YMiHMY3FQbqBQew8gARn+u9XMBBmcazTXka6aYaP2ZPamxno5oOz30V8ap8fzHZISkKZW5kc3RyZWFtCmVuZG9iagoyMiAwIG9iago8PCAvRmlsdGVyIC9GbGF0ZURlY29kZSAvTGVuZ3RoIDI0NiA+PgpzdHJlYW0KeJxFUTtuxTAM230KXqCA9bV9nhSdXu+/lkwCdEjE2BJJMVWNiXR8maGssWbj2wZPbG/8DouEncJnWE5Y6WkYO20bTuIazpFl8Gj0hBOyXCMsBCIPViPWgc3N8+RbXOlBDr+rR+lGaBfUEZ6IzfEKcZXzi48V4iyKzLtSnE7vEzqKQ3cnqKUbU0/TvWbz0QyXg1qI2FrJn4U/I0n+j9pdt6R9UW1kTCKfhtSW2chVcMqpymLdSOaTprPYaQoimVJ03/HGG7On1hKyxX4qGZWymNWdBLMzuiSHfowyVX2yFjIqcMY4IyKuynxTLAvvv7vGzx8eSlj2CmVuZHN0cmVhbQplbmRvYmoKMjMgMCBvYmoKPDwgL0ZpbHRlciAvRmxhdGVEZWNvZGUgL0xlbmd0aCAzNTAgPj4Kc3RyZWFtCnicRZJLdsUwCEPnbxUswRiM7fW0p6N2/9NekX4mQUE2kUSqtg3bwaM8bXvZu7/6/UtFjc9X5PxFtxplcmscS87UTXt7rVFW+9qKabW2reVWc4spupeO2FpPjRAjNCad0ZPWSiaXmNiWDuvTgrvJyTguZtKpw9llwVnNCNedYtI8q43MvE9FIwzId1qh0fGy7jT3Vr2PcWUV/vl+SofarqGWN5hgWRyftDN4Qc8kHn170OusPl+OpPRFajGjEWFhViiuqgzBzOhBvGkYJhJByRpyXTHYyU33EDJhq64p441SzEAvjGI9MpHELfOZ3qYTzdV34p5eQuCgMBTuXd9ar9C/8gcxEAt4A+BgN9CYIw9u57T8aYSQaxhMYtPH/hHv+juuE5h2S/0JFFTJPtnAeeqzm0ZBZ1ybGEnCmrunse+p3SNewjMOtUPCZMiWdi9b/E3xZyv+bLWHj2+hy4rECmVuZHN0cmVhbQplbmRvYmoKMjQgMCBvYmoKPDwgL0ZpbHRlciAvRmxhdGVEZWNvZGUgL0xlbmd0aCAyOTIgPj4Kc3RyZWFtCnicJVJLbgUxCNvnFL5ApfAn55nqrV7vv63JLEYQIMZ2plSxERs/Isg2lDZ+ZUU3NAR/a4qqhe/KNIgfJE99EBXg6VmhhgPPF8Q6b3yW7XMz9YRDTsOC5QuREFF+gi5IzXgq1GS46IkJxn1E33ArpLOkOIqIHhTdSCFskncklHn24CvBSwymftUYpUx8lse5WQgjyUU2smZJCjfMFkoOCsiiKdzA9VVU2ZQfFBhkE5acKdIJMhjmToykNjdy8LoWTKQFtm+mzY7RSOa5p6NCpBYIO+FBHeSzB03C4UFXOOvEn2iUP84xowkyeumilEP37Zyp8smoTKhb5z4nuec4ml4OtQOrnkDKdJqJV2II0C6RMS8GlnSi5sXGjPc/eNbnHx7UZ4EKZW5kc3RyZWFtCmVuZG9iagoyNSAwIG9iago8PCAvRmlsdGVyIC9GbGF0ZURlY29kZSAvTGVuZ3RoIDc5ID4+CnN0cmVhbQp4nE3NMRKAMAgEwJ5X8AQuICT/cazi/1sh42gaboHi3IOFY+RwKAecT9Da74o6TDpGbHJFCmGbDK2+IZu09ff7q1uimj5I5uqbdD2T3htmCmVuZHN0cmVhbQplbmRvYmoKMjYgMCBvYmoKPDwgL0ZpbHRlciAvRmxhdGVEZWNvZGUgL0xlbmd0aCA1NyA+PgpzdHJlYW0KeJwzNTVTMFAwNwYSpkaGCuaGZgophlxgfi6IAgnkcBmaWSCxLEyADJBqOMMASIP15HClAQB+bw+xCmVuZHN0cmVhbQplbmRvYmoKMjcgMCBvYmoKPDwgL0ZpbHRlciAvRmxhdGVEZWNvZGUgL0xlbmd0aCAxMTMgPj4Kc3RyZWFtCnicPU6xEQMxCOs9hUZAgMGeJ7lUn/3bYL8/DRISIIYZBOmr9EQy8Gbb/XfBEq6mzMNsBFRmMRcFg3AaqAFXAcXwaq6jlAl31kTC+4BylBMm584TdjMpjIg/9rkTam8plraR5cTO5pndf17t8wN+YCW1CmVuZHN0cmVhbQplbmRvYmoKMjggMCBvYmoKPDwgL0ZpbHRlciAvRmxhdGVEZWNvZGUgL0xlbmd0aCA3NCA+PgpzdHJlYW0KeJw1jLkRwDAIBHOqoASd+Mb9eBzJ/acWCCfcsgwXc/Lg8D1cN8D5BtX+ZqRYhJAm04th2nTc/3ho1E0q4cHm0pSmmhc9H174FwsKZW5kc3RyZWFtCmVuZG9iagoyOSAwIG9iago8PCAvRmlsdGVyIC9GbGF0ZURlY29kZSAvTGVuZ3RoIDIwMSA+PgpzdHJlYW0KeJxFUEmSAyEMu/MKPwG8yPCeTM2p8/9rZFOVHBoJvEhqIGVK1gF1yQX5W6Pv74J6eIb5l53b5MapZeIByXnkNfwsMpNQriIPd0EGK4EtiCOxU2AQTOUHVsBNkWjp7i/sbcWcqpgudtiFEAuvbQqxpa2s1LGIxtdYqc2eZpPYOe7VaOU9LLLZM3ztZg6u2AxEc97SUbFMpYQc3hhttxkDBGeDc1Fxt1X4fa06fydYdTeGqfCufNHDEBX+2i28dov9/D3j/wPzQEt+CmVuZHN0cmVhbQplbmRvYmoKMzAgMCBvYmoKPDwgL0ZpbHRlciAvRmxhdGVEZWNvZGUgL0xlbmd0aCAyNzggPj4Kc3RyZWFtCnicRZG7cQQxDEPzrYIlUPxK9ZzH0br/1ADlGQd3xAr8PFFtJip9+KdHepV8rWe+fxh48D5+6k9F6ajUPQUZSwru58kOqe1SihNklSHahlPISeRUItJhhAsHKupIeUhYTa0fY7fa4tmSq8U9JeKIG+cE5vhC/nFxNZCU2FHWoItVzAxzl9wp6yQckiroE3mMAZqFjrzPRg4oIsWMFC0WzTmosVbwuNgucWzDpptXYjIoEu7Cz2uI4BgcbMcV1Gujzid+ntVXvaPI0BeJn6HctnePApTpqEgAYVD0lljOK+LCgSfj+gJjeeXIWX8U8nCS6Hd64l3yKHTKUKwEtYuLJm4cPhHq0vAEdzrjxaX653uf719lwWhXCmVuZHN0cmVhbQplbmRvYmoKMzEgMCBvYmoKPDwgL0ZpbHRlciAvRmxhdGVEZWNvZGUgL0xlbmd0aCA0MzkgPj4Kc3RyZWFtCnicLZPLcQQxCETvEwUJbJX4SopnXT7Z+V/9YH2CkVDT3TBVW5ZEyktVSlO2HfnShxPzJb+PepAd+SE7YstE44huYgX5lfej+4paceuiiyovucGF1ZGzxBe4Lh7V4f34sU5CXfaRCJXTMFFX7pXgQzUkG827PrVEUyXNp/PEadCZcdsV3bXfWPabuEsMwAa1QzMn3uwba0bQobfTx9XE0QpdCDZJW1SU0ovb3W80OLk+vAKX7h7a7wd1gYWQijshvY874RidBZbSrdwaB75V4MCxzkYFFqzma9xvheOumYFbTMStvSeLPtFWRFyNlitASXoWqEsyj5TtvoFXgp0X17I+uY5jvMy1mWcTzoT4oeYUSwAnXeNQwheH8K3YBKd7R1juNZnZpSJm4qU+OwDa/WxFS5/ozWUybTeZAlNROMWe9Vioyc3E2k4cBjGslQX1gbrW6uxD3J7XKKPGqc+CFxwT/b4ardgyA7e32ECbOD511iyKOkVLMpfP+mBa+9Z+0+yw2NXdY8sLY5bOb+G5JkL4fH4UY8gUaE+wZj16u5lzuyKnsy5PFtl7YFSa/P9S7+f7D4E2pEkKZW5kc3RyZWFtCmVuZG9iagozMiAwIG9iago8PCAvRmlsdGVyIC9GbGF0ZURlY29kZSAvTGVuZ3RoIDY4ID4+CnN0cmVhbQp4nDMzNFQwUDAyBhKmloYK5oZmCimGXEamlkCBXDBtZmyokMMFVAFngBTlcMGUQ1gQSWNTEySWAUg52KQcrjQAFgwUGwplbmRzdHJlYW0KZW5kb2JqCjMzIDAgb2JqCjw8IC9GaWx0ZXIgL0ZsYXRlRGVjb2RlIC9MZW5ndGggMTkzID4+CnN0cmVhbQp4nE2QQXJDMQhD9z6FLtAZIzDY5/mdrNL7byt+kk5XPGMQgiIxUQdfZsggyhLfNlbUjT/jk3ze5JNvok+kO6yItILpfY2chr2xyrACiwfcSsdOEKGSnuPJO16DJ26iH9mwUyKlTb2xYAzUhs0UUnkpW2bbJe/Qdq4heDm08n/k09/EkHgraZwdca4ermbzJS1FU9WakAN9qHTLpmlzychMtauQN0Fo4V6xu9k7Lxctom9G6XTs2dffFZ/j8QtapUMmCmVuZHN0cmVhbQplbmRvYmoKMzQgMCBvYmoKPDwgL0ZpbHRlciAvRmxhdGVEZWNvZGUgL0xlbmd0aCA5OCA+PgpzdHJlYW0KeJw1jbENxDAMA3tNwRFM05KiefL4Kr9/+4qRFAKIE3iMSAysvvBCMvChzWM2+Nna4DKOfNIsgXUnNaMvaA6QDonIwmlabJBQP+kBRe3KaR56NO9Wa7ozbvGevOz7B8FBG4sKZW5kc3RyZWFtCmVuZG9iagozNSAwIG9iago8PCAvRmlsdGVyIC9GbGF0ZURlY29kZSAvTGVuZ3RoIDUyID4+CnN0cmVhbQp4nDM1NVMwUNA1NAFiSwsFUzNzIMPYRCHFkAsumAtlAoVzuOAqYEygghyE2hyuNACK7Q/eCmVuZHN0cmVhbQplbmRvYmoKMzYgMCBvYmoKPDwgL0ZpbHRlciAvRmxhdGVEZWNvZGUgL0xlbmd0aCA0MzcgPj4Kc3RyZWFtCnicNZJJciUxCET3dQou4AgxaDrP7/DKff9tv6TciyqQEJCZMOeyYbnsy92ml80c9sefGmWr7O+T2xXOGuYYHzbt88QZ9jUtandieLb9PD7fUu5hYSeMcp9nUvuozE39PTeXclZY8fhM+lqMxfWibGyjQVTZvRZTr923xbrkHot9OzWOEpxTXJ4PMm+Rhk8eHQCSY9OStuTn5YuOyKPza89rZ/yPHG7OBRp5O63iKDKHld6iQ02hiLaoAcm+GbIIBfjKxrbwAoaFdnc285z3lUTS/jycCowqRhAetSSZj2OFfp5pc0j8zXyEMAZqxstT04pWTzniJi/RUC8SuTXTzyMMk5EWnOvyTfytSRZ1Sxg2rKhYh6gLex3eiBEqtwqy2dXwAj1/2vOcxJhYdekljAVXwRsMaTSG0SgCSxY8HHpDotjvqr3SB+RZuvXuloYWCBnajtAaqG1I0KutQ1Bgx7gtNTcjzTUAiHupSe8koH0dgBKBeNvsHHmqwlJdmLC8p8XfDUnznEJQ1jsYFNH5HkUThff9XQz2LreKYY+a9zwuECAkYs4+NcF3l36p/jzf/wAZT6ZTCmVuZHN0cmVhbQplbmRvYmoKMzcgMCBvYmoKPDwgL0ZpbHRlciAvRmxhdGVEZWNvZGUgL0xlbmd0aCAyNTEgPj4Kc3RyZWFtCnicTZFLbsRACET3fQouMBL/bs7j0ayc+29T4ImUhUWJooGHI5KYMuglQiFBW5LessQ38j8LDtPdoY17Sdg/5dmmFFNwktqmMCatmHgt0ydjgahGdhJDBI6Lk9chN3yHybGHowrOhmPofYqcA1VFthVOMJTVrGnsEzX7TSvZ6FRGgir3opwxaCCYGzqAWjLxWqo1Sg4+p8YF4/XlBpODJw0XGMWoCpRhS9nQeroWmx0DdvYwPf7MNNUWFrjZBjJW+iL3KMApdqonavaZWvWpusLmDbCBgV4BKEdW+zwHQ85EAABxMvgZXSHt8KyFnrabKefdH8q1Pr/wIlwGCmVuZHN0cmVhbQplbmRvYmoKMzggMCBvYmoKPDwgL0ZpbHRlciAvRmxhdGVEZWNvZGUgL0xlbmd0aCAyNDYgPj4Kc3RyZWFtCnicNVFJcgQxCLv7FfpAqgzCxn5Pp3JK/n+NYGYOXcLGaKHXnJjgxZcZ4hoWJ75txAzYnfgbdWl58TviqLKLWIl0hJ0afAbVXSCtSTxX4zN8siuLDXOYjuvofk/VUbOWre0iFM0FjQixbsdOlIdnnIUogmplwlb5LBo7kpUdl+NyXcKFYuIrB/V+meabtjQiyr6+t/84LrXd6gkuKibFS71mRk9yCWnNKx4xcGpSUTxvo6IyujI5i/AOFlZeTCemOq45f6Hv7qiqFdcLq2VsfbOT3YXcHWzXQqNA8mqqILV+gUiu1/Vhb4fSrlV/ft0zfv4BzmpYzQplbmRzdHJlYW0KZW5kb2JqCjM5IDAgb2JqCjw8IC9GaWx0ZXIgL0ZsYXRlRGVjb2RlIC9MZW5ndGggMjU1ID4+CnN0cmVhbQp4nDVQyW0EMQz7uwo2EECnZdezQV6b/r+hNBuMByJskZSYuSHwwpcqUhPpgm9dYQrdhd+ValB2vVfcgoohSrAV4Qae1/Lr4BcxInae+lomZ5AGeRQRRx7e5yWONtUab8tsmaKGga+hMh0x7RoHKRsmNdNZ3alk9AtRSE5HBLnkvziqU8VmI4891XZzBmXwJmAcbCqt6WM16L2UmkoXJVOdfyXn2bNSoDhKTAK96u5NXXeDjmBfOHM73e3nPoFJB8DZPqHSq7OTy3jDHsR49cDTp9sP5ya7MXU67aC+PZnYkU825ve5YQJBd63DvcchGe3lHk4l7vvv+Fo/f0kXXLoKZW5kc3RyZWFtCmVuZG9iago0MCAwIG9iago8PCAvRmlsdGVyIC9GbGF0ZURlY29kZSAvTGVuZ3RoIDE3MyA+PgpzdHJlYW0KeJxNULsRQzEI6z2FRuBr8DzJpXrZvw3wcrkUtoR0BmH3DcLuyzIRvPHkNfW7oYVrsdsfMz/NjsFpQ2zDlaB0Bh9LLW4lGS4Ca4eiHNOAnVI8YcF1aqx5O1kq54TQODfKGScrzLWM6IftfFko9FQX8uLVUbqbukxfrcrcIYcHH0v2V7GenBCuRGrl9D4mBI5KQQLed5JyKq3WP/XuKjYoOW+Kdab5r2u9PvyNPrMKZW5kc3RyZWFtCmVuZG9iago0MSAwIG9iago8PCAvRmlsdGVyIC9GbGF0ZURlY29kZSAvTGVuZ3RoIDY3ID4+CnN0cmVhbQp4nDMyMlIwUDAzAxKGpiYK5oZmCimGXEC+maGpQi6IARLK4YJJQlggyRyYKjDDAKLY1NASqgTBMoCpyOFKAwCVehVMCmVuZHN0cmVhbQplbmRvYmoKNDIgMCBvYmoKPDwgL0ZpbHRlciAvRmxhdGVEZWNvZGUgL0xlbmd0aCA4NyA+PgpzdHJlYW0KeJxNjLERwDAIA3tPwQiAjcD75FIl+7cBx7lLgx6QZMzEBOQYE+QCOqSt/S6pw9XExo86R1KHkslMGo5N6kFdy1dlXK6IpZpphe0G5a+rfnit5wNRixrkCmVuZHN0cmVhbQplbmRvYmoKNDMgMCBvYmoKPDwgL0ZpbHRlciAvRmxhdGVEZWNvZGUgL0xlbmd0aCA0OCA+PgpzdHJlYW0KeJwzMjJSMFAwMwEShqZGCuaGZgophlxgfi6IAgnkcMGkICwDIA1WkcOVBgCADgwlCmVuZHN0cmVhbQplbmRvYmoKNDQgMCBvYmoKPDwgL0ZpbHRlciAvRmxhdGVEZWNvZGUgL0xlbmd0aCAyNzQgPj4Kc3RyZWFtCnicTVJLdsQwCNv7FBzB/PF5pq+r6f23FTjT10UiYoGQkpQqbYrALeOQ66YvXvP80+B86L3Y/F9lFl0FkyUTl5AdJtkY30mvJYo5EZLIEdQtg6+ltu8J5rpDDzp3gDHZUMGlRYY5M6CeZuqAgbZdldj1qEVctWiWnVIwV+0gHS79TCRrBqjee7racB/Ff6iYeypkiizSCiBywXnvCagUBRSs9xmS2zgQnNiBJ+xxI6+Lr+Uu9wQprfsP8nB7szTkVqREfnQMbm4GVXtSdHxQNT9VBvxh33bMQVW832i/LwPLNvuk5HEgnvdEwViSMHZqM3x6Gl8ucxJyIHG2N/YabfZWjEGJM8z1NH/Ge33/Amewap8KZW5kc3RyZWFtCmVuZG9iago0NSAwIG9iago8PCAvRmlsdGVyIC9GbGF0ZURlY29kZSAvTGVuZ3RoIDE4MSA+PgpzdHJlYW0KeJxNUEESAjEIu/cVPKEQ6MJ7dDzp/68GHB0P2wRS0rARR7acPjwvCWy565r61RBa8lzq8cecH1lCYqsYcsage/C24PrpXOyYC6p9QMXNOGN0sHnOg26nWjnJSsUvdq2o8sb2VjIEmXMfUR/UmSHbTIKqH0Ljy+iG4iwdkTWc2dqXWTqbWztCnBtQQW+W4+DhYmWDt2U8p2M6ybVYa8/ooQMrpQqvQcvetFlnmj/5XI83nlNDuwplbmRzdHJlYW0KZW5kb2JqCjQ2IDAgb2JqCjw8IC9GaWx0ZXIgL0ZsYXRlRGVjb2RlIC9MZW5ndGggMjMyID4+CnN0cmVhbQp4nC1QQZLEQAi65xV+YKtaRTv9ntma2/7/umBygsRGwKq2ZZn2427lxyqX/frFP1HH/kSyysgRbe5p2Gmfy2vzvVt4jCZ2D36uxB6GRdlqQ7mhNcHhFzfIJ3EGozcnw9bi+2NOPW4iOTV9bHNBMgBh0XFMOpU7fILLXPi5Yj1VHDAmc+28ZVDkUFHntrcdWwTenmJ+OM6bYiJzucvKT9neFhnWj1XLKZmDJHlATvOu9zkcswDBCgeD0aEJWYZOwCAbo8FSOl0YrJc8A5hXJpjcchVTCL1QrEejoLnpyuAZDz6lvv9UzlbCCmVuZHN0cmVhbQplbmRvYmoKNDcgMCBvYmoKPDwgL0ZpbHRlciAvRmxhdGVEZWNvZGUgL0xlbmd0aCAyNzYgPj4Kc3RyZWFtCnicTZFLcsMwDEP3PgUvkBnxK+k86XSV3H/bR7npdGGThigAhDNLhlTJQ/eS1JL0IV96faB3d6lbXpfG/y5Su6uQmFN0gewppoOZIc/LPCTNxcoOp+2b+3l5jNP53MwuCXXuFicREza+pkmEgjK1Nyc5pnjO49DVTrXyPumuVUeJohULN9Y6UUuwFsgFLkeIWcsDQ4uBhyq27orh+kUw/kg4VSawNt+GegkHmmwVDfM+Ab3+orpzMRJ9n04X15IHA52PjtUybDsZY6AQW9EFV0RF49zGswPriTFYVoNIDIIdp1q1g+56i57oKH3l6eFKQmVlZyKOyDoV8Rw3op2LH4txbGn1DwHBl5vJZ5Xn9f0DZepl8gplbmRzdHJlYW0KZW5kb2JqCjQ4IDAgb2JqCjw8IC9GaWx0ZXIgL0ZsYXRlRGVjb2RlIC9MZW5ndGggMTQ0ID4+CnN0cmVhbQp4nE2PMbIDIQxD+z2Fj2DJNrDnyZ9fbe7fRoYUKUACzZPHEWFuo3RFTqtw+8O13++Wwm3Phcwfl+nthtwchkUrd6NOgfa6CBUxjTF2IeuoknVcQMrvSG+mf5Ldy1u9QeMM6S2aW0XHcURJY09MNo0lBm4QE+IxpsXMTkouaSglvrZyYie9+XN2fa7/D8M0MY8KZW5kc3RyZWFtCmVuZG9iago0OSAwIG9iago8PCAvRmlsdGVyIC9GbGF0ZURlY29kZSAvTGVuZ3RoIDQwOCA+PgpzdHJlYW0KeJwtkzlyA0EIRfM5BRdQVbP0dh65HNn3T/0+cqCBoaf5C2iOYcPS7eVutdxmDvvyh4rPab+P+zFfx34ejzDP5LfMB7957Bx7P36G7WHhYTSI2eH9xO0kubauZYWdSTmp+aC+ifEfK3WibKXlAmgfrkzzO3Qi2EtlpMU4YEyL0IlfEEWoFtXRHYP77+dS2GV7W9BjFSLFaoKYYbROmigclUlqlNGhYop2lchumTLtLKsj2mV1S7C4MnmTFxPdvgbxthl0CbDHbS9FThE/9idLvp8BH0TrroQLmZO7wYEJVcFCi05iUnQpMAsX82PjXFiXzCUxPK8cFvnRhlf2N9hVSApMKKYVlR3hMqIz36po1vTPHibPCimjGxoU83qfkO3bO5BM1AsrVw+hGI3Mn7dV+cbW3O0G32a2GylXxNXloJ6hkYoXnuWJnhea2a1gDaQ9Cuboitg9JO6M3XvqJz5xysHOpJu3O1v+0jTaMyhcKIDRqyfwuPYSfvTei9Wrt0PTUyaNdNLGUWWfYAkNufz5Y7yf7z+F45iZCmVuZHN0cmVhbQplbmRvYmoKNTAgMCBvYmoKPDwgL0ZpbHRlciAvRmxhdGVEZWNvZGUgL0xlbmd0aCAxNzAgPj4Kc3RyZWFtCnicRVA5DsMwDNv9Cn4ggEUfst6TolP7/7WUUySLSZCySJu+UGELxwTd4LXiZYVjwQPfkprhU9gHjgay7cnaE85iziTWHYcGW8VK1ZgrTbuaIRp6qmtgdiwiIk8bTJHooypA8zcZFiKybjIVIGvGLnixy8ymD/uvkPswu+8a1dH13DqEHbHLuiOkK0UNbamcpRwTclgFA1SC4CzkJuyE6x+ubzrL+wcyhj2JCmVuZHN0cmVhbQplbmRvYmoKNTEgMCBvYmoKPDwgL0ZpbHRlciAvRmxhdGVEZWNvZGUgL0xlbmd0aCAxODkgPj4Kc3RyZWFtCnicTVDBbQAxCPtnCi9QKUAgME+rvq77f2uSq9QHMjJgA+6BiVj4EMHKBZfCl4w1m/85uAPPsHBIwmSeVl1y8HPoy0iSYY87grRoQTZkFkxRAZ9k0xCJvZCFYIM4yVZmD5cQrwO1m77LPENc/2Vq8maSbWeMnqSXZRuHHV2hC3WkFDzr7rknx4+TXifSFGFi3JNVM7vdxr9w2rYeMUuiVReKp4bCeJIwGvsZXYl3zb8/3mw2nnc+4/sX9s1EjAplbmRzdHJlYW0KZW5kb2JqCjUyIDAgb2JqCjw8IC9GaWx0ZXIgL0ZsYXRlRGVjb2RlIC9MZW5ndGggOTggPj4Kc3RyZWFtCnicNY3BDcAwCAP/TOERwAktmadVX+n+3zpS+gAsA+d0hyOaWq9CxsAdxljua/KXMy08t2KcoNdSHIizg10AFVPTOy5jlpABHro4dFFNP9SmjdqcP02cQYXNHTrt+QAByBvjCmVuZHN0cmVhbQplbmRvYmoKMTQgMCBvYmoKPDwgL0Jhc2VGb250IC9BcmlhbE1UIC9DaGFyUHJvY3MgMTUgMCBSCi9FbmNvZGluZyA8PAovRGlmZmVyZW5jZXMgWyA0NiAvdW5pMDAwMDAwMTEgNDggL3VuaTAwMDAwMDEzIC91bmkwMDAwMDAxNCAvdW5pMDAwMDAwMTUgL3VuaTAwMDAwMDE2Ci91bmkwMDAwMDAxNyAvdW5pMDAwMDAwMTggNjYgL3VuaTAwMDAwMDI1IC91bmkwMDAwMDAyNiA2OSAvdW5pMDAwMDAwMjggNzYKL3VuaTAwMDAwMDJmIC91bmkwMDAwMDAzMCAvdW5pMDAwMDAwMzEgODAgL3VuaTAwMDAwMDMzIDgyIC91bmkwMDAwMDAzNQovdW5pMDAwMDAwMzYgL3VuaTAwMDAwMDM3IC91bmkwMDAwMDAzOCAvdW5pMDAwMDAwMzkgOTUgL3VuaTAwMDAwMDQyIDk3Ci91bmkwMDAwMDA0NCAvdW5pMDAwMDAwNDUgL3VuaTAwMDAwMDQ2IDEwMSAvdW5pMDAwMDAwNDggMTA0IC91bmkwMDAwMDA0YgovdW5pMDAwMDAwNGMgMTA3IC91bmkwMDAwMDA0ZSAvdW5pMDAwMDAwNGYgL3VuaTAwMDAwMDUwIC91bmkwMDAwMDA1MQovdW5pMDAwMDAwNTIgL3VuaTAwMDAwMDUzIDExNCAvdW5pMDAwMDAwNTUgL3VuaTAwMDAwMDU2IC91bmkwMDAwMDA1NwovdW5pMDAwMDAwNTggL3VuaTAwMDAwMDU5IF0KL1R5cGUgL0VuY29kaW5nID4+Ci9GaXJzdENoYXIgMCAvRm9udEJCb3ggWyAtNjY1IC0zMjUgMjAwMCAxMDQwIF0gL0ZvbnREZXNjcmlwdG9yIDEzIDAgUgovRm9udE1hdHJpeCBbIDAuMDAxIDAgMCAwLjAwMSAwIDAgXSAvTGFzdENoYXIgMjU1IC9OYW1lIC9BcmlhbE1UCi9TdWJ0eXBlIC9UeXBlMyAvVHlwZSAvRm9udCAvV2lkdGhzIDEyIDAgUiA+PgplbmRvYmoKMTMgMCBvYmoKPDwgL0FzY2VudCA5MDYgL0NhcEhlaWdodCA3MTYgL0Rlc2NlbnQgLTIxMiAvRmxhZ3MgMzIKL0ZvbnRCQm94IFsgLTY2NSAtMzI1IDIwMDAgMTA0MCBdIC9Gb250TmFtZSAvQXJpYWxNVCAvSXRhbGljQW5nbGUgMAovTWF4V2lkdGggMTAxNSAvU3RlbVYgMCAvVHlwZSAvRm9udERlc2NyaXB0b3IgL1hIZWlnaHQgNTE5ID4+CmVuZG9iagoxMiAwIG9iagpbIDc1MCA3NTAgNzUwIDc1MCA3NTAgNzUwIDc1MCA3NTAgNzUwIDc1MCA3NTAgNzUwIDc1MCA3NTAgNzUwIDc1MCA3NTAgNzUwCjc1MCA3NTAgNzUwIDc1MCA3NTAgNzUwIDc1MCA3NTAgNzUwIDc1MCA3NTAgNzUwIDc1MCA3NTAgMjc4IDI3OCAzNTUgNTU2IDU1Ngo4ODkgNjY3IDE5MSAzMzMgMzMzIDM4OSA1ODQgMjc4IDMzMyAyNzggMjc4IDU1NiA1NTYgNTU2IDU1NiA1NTYgNTU2IDU1NiA1NTYKNTU2IDU1NiAyNzggMjc4IDU4NCA1ODQgNTg0IDU1NiAxMDE1IDY2NyA2NjcgNzIyIDcyMiA2NjcgNjExIDc3OCA3MjIgMjc4CjUwMCA2NjcgNTU2IDgzMyA3MjIgNzc4IDY2NyA3NzggNzIyIDY2NyA2MTEgNzIyIDY2NyA5NDQgNjY3IDY2NyA2MTEgMjc4IDI3OAoyNzggNDY5IDU1NiAzMzMgNTU2IDU1NiA1MDAgNTU2IDU1NiAyNzggNTU2IDU1NiAyMjIgMjIyIDUwMCAyMjIgODMzIDU1NiA1NTYKNTU2IDU1NiAzMzMgNTAwIDI3OCA1NTYgNTAwIDcyMiA1MDAgNTAwIDUwMCAzMzQgMjYwIDMzNCA1ODQgNzUwIDU1NiA3NTAgMjIyCjU1NiAzMzMgMTAwMCA1NTYgNTU2IDMzMyAxMDAwIDY2NyAzMzMgMTAwMCA3NTAgNjExIDc1MCA3NTAgMjIyIDIyMiAzMzMgMzMzCjM1MCA1NTYgMTAwMCAzMzMgMTAwMCA1MDAgMzMzIDk0NCA3NTAgNTAwIDY2NyAyNzggMzMzIDU1NiA1NTYgNTU2IDU1NiAyNjAKNTU2IDMzMyA3MzcgMzcwIDU1NiA1ODQgMzMzIDczNyA1NTIgNDAwIDU0OSAzMzMgMzMzIDMzMyA1NzYgNTM3IDMzMyAzMzMgMzMzCjM2NSA1NTYgODM0IDgzNCA4MzQgNjExIDY2NyA2NjcgNjY3IDY2NyA2NjcgNjY3IDEwMDAgNzIyIDY2NyA2NjcgNjY3IDY2NwoyNzggMjc4IDI3OCAyNzggNzIyIDcyMiA3NzggNzc4IDc3OCA3NzggNzc4IDU4NCA3NzggNzIyIDcyMiA3MjIgNzIyIDY2NyA2NjcKNjExIDU1NiA1NTYgNTU2IDU1NiA1NTYgNTU2IDg4OSA1MDAgNTU2IDU1NiA1NTYgNTU2IDI3OCAyNzggMjc4IDI3OCA1NTYgNTU2CjU1NiA1NTYgNTU2IDU1NiA1NTYgNTQ5IDYxMSA1NTYgNTU2IDU1NiA1NTYgNTAwIDU1NiA1MDAgXQplbmRvYmoKMTUgMCBvYmoKPDwgL3VuaTAwMDAwMDExIDE2IDAgUiAvdW5pMDAwMDAwMTMgMTcgMCBSIC91bmkwMDAwMDAxNCAxOCAwIFIKL3VuaTAwMDAwMDE1IDE5IDAgUiAvdW5pMDAwMDAwMTYgMjAgMCBSIC91bmkwMDAwMDAxNyAyMSAwIFIKL3VuaTAwMDAwMDE4IDIyIDAgUiAvdW5pMDAwMDAwMjUgMjMgMCBSIC91bmkwMDAwMDAyNiAyNCAwIFIKL3VuaTAwMDAwMDI4IDI1IDAgUiAvdW5pMDAwMDAwMmYgMjYgMCBSIC91bmkwMDAwMDAzMCAyNyAwIFIKL3VuaTAwMDAwMDMxIDI4IDAgUiAvdW5pMDAwMDAwMzMgMjkgMCBSIC91bmkwMDAwMDAzNSAzMCAwIFIKL3VuaTAwMDAwMDM2IDMxIDAgUiAvdW5pMDAwMDAwMzcgMzIgMCBSIC91bmkwMDAwMDAzOCAzMyAwIFIKL3VuaTAwMDAwMDM5IDM0IDAgUiAvdW5pMDAwMDAwNDIgMzUgMCBSIC91bmkwMDAwMDA0NCAzNiAwIFIKL3VuaTAwMDAwMDQ1IDM3IDAgUiAvdW5pMDAwMDAwNDYgMzggMCBSIC91bmkwMDAwMDA0OCAzOSAwIFIKL3VuaTAwMDAwMDRiIDQwIDAgUiAvdW5pMDAwMDAwNGMgNDEgMCBSIC91bmkwMDAwMDA0ZSA0MiAwIFIKL3VuaTAwMDAwMDRmIDQzIDAgUiAvdW5pMDAwMDAwNTAgNDQgMCBSIC91bmkwMDAwMDA1MSA0NSAwIFIKL3VuaTAwMDAwMDUyIDQ2IDAgUiAvdW5pMDAwMDAwNTMgNDcgMCBSIC91bmkwMDAwMDA1NSA0OCAwIFIKL3VuaTAwMDAwMDU2IDQ5IDAgUiAvdW5pMDAwMDAwNTcgNTAgMCBSIC91bmkwMDAwMDA1OCA1MSAwIFIKL3VuaTAwMDAwMDU5IDUyIDAgUiA+PgplbmRvYmoKMyAwIG9iago8PCAvRjEgMTQgMCBSID4+CmVuZG9iago0IDAgb2JqCjw8IC9BMSA8PCAvQ0EgMCAvVHlwZSAvRXh0R1N0YXRlIC9jYSAxID4+Ci9BMiA8PCAvQ0EgMSAvVHlwZSAvRXh0R1N0YXRlIC9jYSAxID4+Ci9BMyA8PCAvQ0EgMC44IC9UeXBlIC9FeHRHU3RhdGUgL2NhIDAuOCA+PiA+PgplbmRvYmoKNSAwIG9iago8PCA+PgplbmRvYmoKNiAwIG9iago8PCA+PgplbmRvYmoKNyAwIG9iago8PCA+PgplbmRvYmoKMiAwIG9iago8PCAvQ291bnQgMSAvS2lkcyBbIDEwIDAgUiBdIC9UeXBlIC9QYWdlcyA+PgplbmRvYmoKNTMgMCBvYmoKPDwgL0NyZWF0aW9uRGF0ZSAoRDoyMDE5MDMwNTE0NTU1NyswOCcwMCcpCi9DcmVhdG9yIChtYXRwbG90bGliIDMuMC4yLCBodHRwOi8vbWF0cGxvdGxpYi5vcmcpCi9Qcm9kdWNlciAobWF0cGxvdGxpYiBwZGYgYmFja2VuZCAzLjAuMikgL1RpdGxlIChJbWFnZSkgPj4KZW5kb2JqCnhyZWYKMCA1NAowMDAwMDAwMDAwIDY1NTM1IGYgCjAwMDAwMDAwMTYgMDAwMDAgbiAKMDAwMDAxNDgzOCAwMDAwMCBuIAowMDAwMDE0NjAxIDAwMDAwIG4gCjAwMDAwMTQ2MzMgMDAwMDAgbiAKMDAwMDAxNDc3NSAwMDAwMCBuIAowMDAwMDE0Nzk2IDAwMDAwIG4gCjAwMDAwMTQ4MTcgMDAwMDAgbiAKMDAwMDAwMDA2NSAwMDAwMCBuIAowMDAwMDAwMzg1IDAwMDAwIG4gCjAwMDAwMDAyMDggMDAwMDAgbiAKMDAwMDAwMTg0MSAwMDAwMCBuIAowMDAwMDEyNzg4IDAwMDAwIG4gCjAwMDAwMTI1ODggMDAwMDAgbiAKMDAwMDAxMTc3OCAwMDAwMCBuIAowMDAwMDEzODM5IDAwMDAwIG4gCjAwMDAwMDE4NjIgMDAwMDAgbiAKMDAwMDAwMTk3NiAwMDAwMCBuIAowMDAwMDAyMzIxIDAwMDAwIG4gCjAwMDAwMDI1MDggMDAwMDAgbiAKMDAwMDAwMjg0OCAwMDAwMCBuIAowMDAwMDAzMjg3IDAwMDAwIG4gCjAwMDAwMDM0NDkgMDAwMDAgbiAKMDAwMDAwMzc2OCAwMDAwMCBuIAowMDAwMDA0MTkxIDAwMDAwIG4gCjAwMDAwMDQ1NTYgMDAwMDAgbiAKMDAwMDAwNDcwNyAwMDAwMCBuIAowMDAwMDA0ODM2IDAwMDAwIG4gCjAwMDAwMDUwMjIgMDAwMDAgbiAKMDAwMDAwNTE2OCAwMDAwMCBuIAowMDAwMDA1NDQyIDAwMDAwIG4gCjAwMDAwMDU3OTMgMDAwMDAgbiAKMDAwMDAwNjMwNSAwMDAwMCBuIAowMDAwMDA2NDQ1IDAwMDAwIG4gCjAwMDAwMDY3MTEgMDAwMDAgbiAKMDAwMDAwNjg4MSAwMDAwMCBuIAowMDAwMDA3MDA1IDAwMDAwIG4gCjAwMDAwMDc1MTUgMDAwMDAgbiAKMDAwMDAwNzgzOSAwMDAwMCBuIAowMDAwMDA4MTU4IDAwMDAwIG4gCjAwMDAwMDg0ODYgMDAwMDAgbiAKMDAwMDAwODczMiAwMDAwMCBuIAowMDAwMDA4ODcxIDAwMDAwIG4gCjAwMDAwMDkwMzAgMDAwMDAgbiAKMDAwMDAwOTE1MCAwMDAwMCBuIAowMDAwMDA5NDk3IDAwMDAwIG4gCjAwMDAwMDk3NTEgMDAwMDAgbiAKMDAwMDAxMDA1NiAwMDAwMCBuIAowMDAwMDEwNDA1IDAwMDAwIG4gCjAwMDAwMTA2MjIgMDAwMDAgbiAKMDAwMDAxMTEwMyAwMDAwMCBuIAowMDAwMDExMzQ2IDAwMDAwIG4gCjAwMDAwMTE2MDggMDAwMDAgbiAKMDAwMDAxNDg5OCAwMDAwMCBuIAp0cmFpbGVyCjw8IC9JbmZvIDUzIDAgUiAvUm9vdCAxIDAgUiAvU2l6ZSA1NCA+PgpzdGFydHhyZWYKMTUwNjcKJSVFT0YK\" download=\"Image.pdf\"></object>"
      ],
      "text/plain": [
       "<IPython.core.display.HTML object>"
      ]
     },
     "metadata": {},
     "output_type": "display_data"
    }
   ],
   "source": [
    "fig, ax = plt.subplots(1,figsize=(7, 4))\n",
    "knn_mean_summary.plot(kind='bar',ax=ax,width=0.8,\n",
    "                legend=True)\n",
    "std_plot(ax,'','')\n",
    "legend = ax.legend(prop=fontlegend,\n",
    "              bbox_to_anchor=[0.2,1],\n",
    "              borderpad=1,\n",
    "              edgecolor=\"#000000\",fancybox=False)\n",
    "ax.legend_.get_frame()._linewidth=0.5\n",
    "legend.get_title().set_fontweight('normal')\n",
    "legend.get_title().set_fontsize(6.5)\n",
    "fig.tight_layout()\n",
    "\n",
    "embed_pdf_figure()\n",
    "#fig.tight_layout()\n",
    "#plt.figure(linewidth=30.5)\n",
    "#ax.spines['right'].set_visible(False)\n",
    "#ax.spines['top'].set_visible(False)"
   ]
  },
  {
   "cell_type": "code",
   "execution_count": 72,
   "metadata": {},
   "outputs": [],
   "source": [
    "merge = pd.concat([knn_summary,uca_summary],axis=1)\n",
    "merge['impute'] = [method.split('.')[1] for method in merge.index]\n",
    "merge['normalization'] = [method.split('.')[2] for method in merge.index]\n",
    "merge['batch'] = [method.split('.')[3] for method in merge.index]\n",
    "sizelist=[10,50,200]\n",
    "impute_list = np.unique(merge['impute'])\n",
    "merge['imputation_size'] = merge['impute']\n",
    "for i in np.arange(len(impute_list)):\n",
    "    where = np.where(merge['imputation_size']==impute_list[i])\n",
    "    for j in where:\n",
    "        merge['imputation_size'].iloc[j]=sizelist[i]"
   ]
  },
  {
   "cell_type": "code",
   "execution_count": 74,
   "metadata": {},
   "outputs": [
    {
     "data": {
      "text/html": [
       "<object width=\"640\" height=\"480\" data=\"data:application/pdf;base64,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\" download=\"Image.pdf\"></object>"
      ],
      "text/plain": [
       "<IPython.core.display.HTML object>"
      ]
     },
     "metadata": {},
     "output_type": "display_data"
    }
   ],
   "source": [
    "fig,ax=plt.subplots(figsize=(7,5))\n",
    "ax = sns.scatterplot(x='uca_score',y='knn_score',data = merge,hue='batch',style='normalization',size='impute')\n",
    "std_plot(ax,'UCA score','kNN score','method batch visualization')\n",
    "legend = ax.legend(prop=fontlegend,\n",
    "                  #labelspacing=labelspacing,borderpad=borderpad,handletextpad=handletextpad,\n",
    "                  edgecolor=\"#000000\",fancybox=False)\n",
    "ax.legend_.get_frame()._linewidth=0.5\n",
    "legend.get_title().set_fontweight('normal')\n",
    "legend.get_title().set_fontsize(6.5)\n",
    "\n",
    "fig.tight_layout()\n",
    "embed_pdf_figure()"
   ]
  },
  {
   "cell_type": "markdown",
   "metadata": {},
   "source": [
    "# batch 1"
   ]
  },
  {
   "cell_type": "code",
   "execution_count": 75,
   "metadata": {},
   "outputs": [],
   "source": [
    "sampleclass = batch_info.iloc[:,1]"
   ]
  },
  {
   "cell_type": "code",
   "execution_count": 76,
   "metadata": {},
   "outputs": [
    {
     "name": "stdout",
     "output_type": "stream",
     "text": [
      "/home/xieyufeng/ex\n"
     ]
    }
   ],
   "source": [
    "cd ~/ex"
   ]
  },
  {
   "cell_type": "code",
   "execution_count": 77,
   "metadata": {},
   "outputs": [
    {
     "data": {
      "application/vnd.jupyter.widget-view+json": {
       "model_id": "59b61de1420344a4add2f95713ac16e0",
       "version_major": 2,
       "version_minor": 0
      },
      "text/html": [
       "<p>Failed to display Jupyter Widget of type <code>HBox</code>.</p>\n",
       "<p>\n",
       "  If you're reading this message in the Jupyter Notebook or JupyterLab Notebook, it may mean\n",
       "  that the widgets JavaScript is still loading. If this message persists, it\n",
       "  likely means that the widgets JavaScript library is either not installed or\n",
       "  not enabled. See the <a href=\"https://ipywidgets.readthedocs.io/en/stable/user_install.html\">Jupyter\n",
       "  Widgets Documentation</a> for setup instructions.\n",
       "</p>\n",
       "<p>\n",
       "  If you're reading this message in another frontend (for example, a static\n",
       "  rendering on GitHub or <a href=\"https://nbviewer.jupyter.org/\">NBViewer</a>),\n",
       "  it may mean that your frontend doesn't currently support widgets.\n",
       "</p>\n"
      ],
      "text/plain": [
       "HBox(children=(IntProgress(value=0, max=75), HTML(value='')))"
      ]
     },
     "metadata": {},
     "output_type": "display_data"
    },
    {
     "name": "stdout",
     "output_type": "stream",
     "text": [
      "\n"
     ]
    }
   ],
   "source": [
    "uca_summary = pd.read_table('output/'+'scirep'+'/select_preprocess_method/uca_score/'+'domains_combined'+'/summary.txt',\n",
    "                           index_col=0)\n",
    "knn_list=[]\n",
    "for i in tqdm(uca_summary.index):\n",
    "    table = pd.read_table('~/ex/output/'+'scirep'+'/matrix_processing/'+i+'.domains_combined.txt',\n",
    "                           index_col=0)\n",
    "    knn_list.append(get_knn_score(table,sampleclass))\n",
    "    "
   ]
  },
  {
   "cell_type": "code",
   "execution_count": 78,
   "metadata": {},
   "outputs": [],
   "source": [
    "knn_summary = pd.DataFrame(data={'preprocess_method':uca_summary.index,'knn_score':list(knn_list)})\n",
    "knn_summary = knn_summary.set_index('preprocess_method')"
   ]
  },
  {
   "cell_type": "code",
   "execution_count": 79,
   "metadata": {
    "scrolled": true
   },
   "outputs": [
    {
     "data": {
      "text/html": [
       "<style  type=\"text/css\" >\n",
       "</style>  \n",
       "<table id=\"T_1399beb0_3f14_11e9_a1dc_07440e142ae7\" ><caption>Imputation Methods knn Score</caption> \n",
       "<thead>    <tr> \n",
       "        <th class=\"blank level0\" ></th> \n",
       "        <th class=\"col_heading level0 col0\" >knn_score</th> \n",
       "    </tr>    <tr> \n",
       "        <th class=\"index_name level0\" >imputation</th> \n",
       "        <th class=\"blank\" ></th> \n",
       "    </tr></thead> \n",
       "<tbody>    <tr> \n",
       "        <th id=\"T_1399beb0_3f14_11e9_a1dc_07440e142ae7level0_row0\" class=\"row_heading level0 row0\" >null</th> \n",
       "        <td id=\"T_1399beb0_3f14_11e9_a1dc_07440e142ae7row0_col0\" class=\"data row0 col0\" >0.228718</td> \n",
       "    </tr>    <tr> \n",
       "        <th id=\"T_1399beb0_3f14_11e9_a1dc_07440e142ae7level0_row1\" class=\"row_heading level0 row1\" >scimpute_count</th> \n",
       "        <td id=\"T_1399beb0_3f14_11e9_a1dc_07440e142ae7row1_col0\" class=\"data row1 col0\" >0.232035</td> \n",
       "    </tr>    <tr> \n",
       "        <th id=\"T_1399beb0_3f14_11e9_a1dc_07440e142ae7level0_row2\" class=\"row_heading level0 row2\" >viper_count</th> \n",
       "        <td id=\"T_1399beb0_3f14_11e9_a1dc_07440e142ae7row2_col0\" class=\"data row2 col0\" >0.192154</td> \n",
       "    </tr></tbody> \n",
       "</table> "
      ],
      "text/plain": [
       "<pandas.io.formats.style.Styler at 0x7ffb0cee9d68>"
      ]
     },
     "metadata": {},
     "output_type": "display_data"
    },
    {
     "data": {
      "text/html": [
       "<input type=\"button\" id=\"button_75941773\" value=\"Download\">"
      ],
      "text/plain": [
       "<IPython.core.display.HTML object>"
      ]
     },
     "metadata": {},
     "output_type": "display_data"
    },
    {
     "data": {
      "text/html": [
       "<script>\n",
       "    document.getElementById(\"button_75941773\").addEventListener(\"click\", function(event){\n",
       "        var filename = \"Imputation Methods knn Score.csv\";\n",
       "        var data = \"data:text/csv;base64,aW1wdXRhdGlvbixrbm5fc2NvcmUKbnVsbCwwLjIyODcxNzgxNzU3MjU2NTMKc2NpbXB1dGVfY291bnQsMC4yMzIwMzQ3OTc5NDYzOTU0NQp2aXBlcl9jb3VudCwwLjE5MjE1NDQ5NTAzMzQwNzY3Cg==\";\n",
       "        const element = document.createElement('a');\n",
       "        element.setAttribute('href', data);\n",
       "        element.setAttribute('download', filename);\n",
       "        element.style.display = 'none';\n",
       "        document.body.appendChild(element);\n",
       "        element.click();\n",
       "        document.body.removeChild(element);\n",
       "    });\n",
       "</script>"
      ],
      "text/plain": [
       "<IPython.core.display.HTML object>"
      ]
     },
     "metadata": {},
     "output_type": "display_data"
    },
    {
     "data": {
      "text/html": [
       "<style  type=\"text/css\" >\n",
       "</style>  \n",
       "<table id=\"T_139acaf8_3f14_11e9_a1dc_07440e142ae7\" ><caption>Normalization Methods knn Score</caption> \n",
       "<thead>    <tr> \n",
       "        <th class=\"blank level0\" ></th> \n",
       "        <th class=\"col_heading level0 col0\" >knn_score</th> \n",
       "    </tr>    <tr> \n",
       "        <th class=\"index_name level0\" >normalization</th> \n",
       "        <th class=\"blank\" ></th> \n",
       "    </tr></thead> \n",
       "<tbody>    <tr> \n",
       "        <th id=\"T_139acaf8_3f14_11e9_a1dc_07440e142ae7level0_row0\" class=\"row_heading level0 row0\" >Norm_CPM</th> \n",
       "        <td id=\"T_139acaf8_3f14_11e9_a1dc_07440e142ae7row0_col0\" class=\"data row0 col0\" >0.214303</td> \n",
       "    </tr>    <tr> \n",
       "        <th id=\"T_139acaf8_3f14_11e9_a1dc_07440e142ae7level0_row1\" class=\"row_heading level0 row1\" >Norm_CPM_top</th> \n",
       "        <td id=\"T_139acaf8_3f14_11e9_a1dc_07440e142ae7row1_col0\" class=\"data row1 col0\" >0.216023</td> \n",
       "    </tr>    <tr> \n",
       "        <th id=\"T_139acaf8_3f14_11e9_a1dc_07440e142ae7level0_row2\" class=\"row_heading level0 row2\" >Norm_RLE</th> \n",
       "        <td id=\"T_139acaf8_3f14_11e9_a1dc_07440e142ae7row2_col0\" class=\"data row2 col0\" >0.223377</td> \n",
       "    </tr>    <tr> \n",
       "        <th id=\"T_139acaf8_3f14_11e9_a1dc_07440e142ae7level0_row3\" class=\"row_heading level0 row3\" >Norm_SCnorm</th> \n",
       "        <td id=\"T_139acaf8_3f14_11e9_a1dc_07440e142ae7row3_col0\" class=\"data row3 col0\" >0.221737</td> \n",
       "    </tr>    <tr> \n",
       "        <th id=\"T_139acaf8_3f14_11e9_a1dc_07440e142ae7level0_row4\" class=\"row_heading level0 row4\" >Norm_TMM</th> \n",
       "        <td id=\"T_139acaf8_3f14_11e9_a1dc_07440e142ae7row4_col0\" class=\"data row4 col0\" >0.212739</td> \n",
       "    </tr></tbody> \n",
       "</table> "
      ],
      "text/plain": [
       "<pandas.io.formats.style.Styler at 0x7ffb0becbbe0>"
      ]
     },
     "metadata": {},
     "output_type": "display_data"
    },
    {
     "data": {
      "text/html": [
       "<input type=\"button\" id=\"button_411742467\" value=\"Download\">"
      ],
      "text/plain": [
       "<IPython.core.display.HTML object>"
      ]
     },
     "metadata": {},
     "output_type": "display_data"
    },
    {
     "data": {
      "text/html": [
       "<script>\n",
       "    document.getElementById(\"button_411742467\").addEventListener(\"click\", function(event){\n",
       "        var filename = \"Normalization Methods knn Score.csv\";\n",
       "        var data = \"data:text/csv;base64,bm9ybWFsaXphdGlvbixrbm5fc2NvcmUKTm9ybV9DUE0sMC4yMTQzMDMxMTY2NTY1NDIKTm9ybV9DUE1fdG9wLDAuMjE2MDIzMTc2MDQ3ODU2MTIKTm9ybV9STEUsMC4yMjMzNzY2MTYyMDUwOTQ0NwpOb3JtX1NDbm9ybSwwLjIyMTczNjU2NDkxNjc2NTQ3Ck5vcm1fVE1NLDAuMjEyNzM5MDQzNzYxMDIyNwo=\";\n",
       "        const element = document.createElement('a');\n",
       "        element.setAttribute('href', data);\n",
       "        element.setAttribute('download', filename);\n",
       "        element.style.display = 'none';\n",
       "        document.body.appendChild(element);\n",
       "        element.click();\n",
       "        document.body.removeChild(element);\n",
       "    });\n",
       "</script>"
      ],
      "text/plain": [
       "<IPython.core.display.HTML object>"
      ]
     },
     "metadata": {},
     "output_type": "display_data"
    },
    {
     "data": {
      "text/html": [
       "<style  type=\"text/css\" >\n",
       "</style>  \n",
       "<table id=\"T_139bcc6e_3f14_11e9_a1dc_07440e142ae7\" ><caption>Batch Removal Methods knn Score</caption> \n",
       "<thead>    <tr> \n",
       "        <th class=\"blank level0\" ></th> \n",
       "        <th class=\"col_heading level0 col0\" >knn_score</th> \n",
       "    </tr>    <tr> \n",
       "        <th class=\"index_name level0\" >batch_removal</th> \n",
       "        <th class=\"blank\" ></th> \n",
       "    </tr></thead> \n",
       "<tbody>    <tr> \n",
       "        <th id=\"T_139bcc6e_3f14_11e9_a1dc_07440e142ae7level0_row0\" class=\"row_heading level0 row0\" >Batch_Combat_1</th> \n",
       "        <td id=\"T_139bcc6e_3f14_11e9_a1dc_07440e142ae7row0_col0\" class=\"data row0 col0\" >0.090888</td> \n",
       "    </tr>    <tr> \n",
       "        <th id=\"T_139bcc6e_3f14_11e9_a1dc_07440e142ae7level0_row1\" class=\"row_heading level0 row1\" >Batch_Combat_2</th> \n",
       "        <td id=\"T_139bcc6e_3f14_11e9_a1dc_07440e142ae7row1_col0\" class=\"data row1 col0\" >0.16599</td> \n",
       "    </tr>    <tr> \n",
       "        <th id=\"T_139bcc6e_3f14_11e9_a1dc_07440e142ae7level0_row2\" class=\"row_heading level0 row2\" >Batch_Combat_3</th> \n",
       "        <td id=\"T_139bcc6e_3f14_11e9_a1dc_07440e142ae7row2_col0\" class=\"data row2 col0\" >0.34479</td> \n",
       "    </tr>    <tr> \n",
       "        <th id=\"T_139bcc6e_3f14_11e9_a1dc_07440e142ae7level0_row3\" class=\"row_heading level0 row3\" >Batch_RUV</th> \n",
       "        <td id=\"T_139bcc6e_3f14_11e9_a1dc_07440e142ae7row3_col0\" class=\"data row3 col0\" >0.149175</td> \n",
       "    </tr>    <tr> \n",
       "        <th id=\"T_139bcc6e_3f14_11e9_a1dc_07440e142ae7level0_row4\" class=\"row_heading level0 row4\" >Batch_null</th> \n",
       "        <td id=\"T_139bcc6e_3f14_11e9_a1dc_07440e142ae7row4_col0\" class=\"data row4 col0\" >0.337336</td> \n",
       "    </tr></tbody> \n",
       "</table> "
      ],
      "text/plain": [
       "<pandas.io.formats.style.Styler at 0x7ffb0bac16a0>"
      ]
     },
     "metadata": {},
     "output_type": "display_data"
    },
    {
     "data": {
      "text/html": [
       "<input type=\"button\" id=\"button_79821852\" value=\"Download\">"
      ],
      "text/plain": [
       "<IPython.core.display.HTML object>"
      ]
     },
     "metadata": {},
     "output_type": "display_data"
    },
    {
     "data": {
      "text/html": [
       "<script>\n",
       "    document.getElementById(\"button_79821852\").addEventListener(\"click\", function(event){\n",
       "        var filename = \"Batch Removal Methods knn Score.csv\";\n",
       "        var data = \"data:text/csv;base64,YmF0Y2hfcmVtb3ZhbCxrbm5fc2NvcmUKQmF0Y2hfQ29tYmF0XzEsMC4wOTA4ODgwMTg3MDU1MDQ5NwpCYXRjaF9Db21iYXRfMiwwLjE2NTk4OTU0Njc2NjkxODc0CkJhdGNoX0NvbWJhdF8zLDAuMzQ0NzkwMDIzMzg1MTkyMTYKQmF0Y2hfUlVWLDAuMTQ5MTc1MTI2MTcxNjE0NTcKQmF0Y2hfbnVsbCwwLjMzNzMzNTgwMjU1ODA1MDM1Cg==\";\n",
       "        const element = document.createElement('a');\n",
       "        element.setAttribute('href', data);\n",
       "        element.setAttribute('download', filename);\n",
       "        element.style.display = 'none';\n",
       "        document.body.appendChild(element);\n",
       "        element.click();\n",
       "        document.body.removeChild(element);\n",
       "    });\n",
       "</script>"
      ],
      "text/plain": [
       "<IPython.core.display.HTML object>"
      ]
     },
     "metadata": {},
     "output_type": "display_data"
    }
   ],
   "source": [
    "knn_summary_table = pd.DataFrame(np.ndarray([knn_summary.shape[0],4]))\n",
    "knn_summary_table.columns = ['imputation','normalization','batch_removal','knn_score']\n",
    "for i in range(knn_summary.shape[0]):\n",
    "    splittmp = knn_summary.index[i].split('.')\n",
    "    knn_summary_table.iloc[i,0] = splittmp[1]\n",
    "    knn_summary_table.iloc[i,1] = splittmp[2]\n",
    "    knn_summary_table.iloc[i,2] = splittmp[3]\n",
    "    knn_summary_table.iloc[i,3] = knn_summary.values[i]\n",
    "display_dataframe(knn_summary_table.groupby(knn_summary_table.columns[0]).mean(),filename='Imputation Methods knn Score',gradientfunc=False)\n",
    "display_dataframe(knn_summary_table.groupby(knn_summary_table.columns[1]).mean(),filename='Normalization Methods knn Score',gradientfunc=False)\n",
    "display_dataframe(knn_summary_table.groupby(knn_summary_table.columns[2]).mean(),filename='Batch Removal Methods knn Score',gradientfunc=False)\n",
    "knn_mean_summary = pd.concat((knn_summary_table.groupby(knn_summary_table.columns[0]).mean(),\n",
    "          knn_summary_table.groupby(knn_summary_table.columns[1]).mean(),\n",
    "          knn_summary_table.groupby(knn_summary_table.columns[2]).mean()))\n",
    "knn_mean_summary =  knn_mean_summary.rename(index={'null': 'imputation_null'})"
   ]
  },
  {
   "cell_type": "code",
   "execution_count": 80,
   "metadata": {},
   "outputs": [
    {
     "data": {
      "text/html": [
       "<object width=\"640\" height=\"480\" data=\"data:application/pdf;base64,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\" download=\"Image.pdf\"></object>"
      ],
      "text/plain": [
       "<IPython.core.display.HTML object>"
      ]
     },
     "metadata": {},
     "output_type": "display_data"
    }
   ],
   "source": [
    "fig, ax = plt.subplots(1,figsize=(7, 4))\n",
    "knn_mean_summary.plot(kind='bar',ax=ax,width=0.8,\n",
    "                legend=True)\n",
    "std_plot(ax,'','')\n",
    "legend = ax.legend(prop=fontlegend,\n",
    "              bbox_to_anchor=[0.2,1],\n",
    "              borderpad=1,\n",
    "              edgecolor=\"#000000\",fancybox=False)\n",
    "ax.legend_.get_frame()._linewidth=0.5\n",
    "legend.get_title().set_fontweight('normal')\n",
    "legend.get_title().set_fontsize(6.5)\n",
    "fig.tight_layout()\n",
    "\n",
    "embed_pdf_figure()\n",
    "#fig.tight_layout()\n",
    "#plt.figure(linewidth=30.5)\n",
    "#ax.spines['right'].set_visible(False)\n",
    "#ax.spines['top'].set_visible(False)"
   ]
  },
  {
   "cell_type": "code",
   "execution_count": 81,
   "metadata": {},
   "outputs": [],
   "source": [
    "merge = pd.concat([knn_summary,uca_summary],axis=1)\n",
    "merge['impute'] = [method.split('.')[1] for method in merge.index]\n",
    "merge['normalization'] = [method.split('.')[2] for method in merge.index]\n",
    "merge['batch'] = [method.split('.')[3] for method in merge.index]\n",
    "sizelist=[10,50,200]\n",
    "impute_list = np.unique(merge['impute'])\n",
    "merge['imputation_size'] = merge['impute']\n",
    "for i in np.arange(len(impute_list)):\n",
    "    where = np.where(merge['imputation_size']==impute_list[i])\n",
    "    for j in where:\n",
    "        merge['imputation_size'].iloc[j]=sizelist[i]"
   ]
  },
  {
   "cell_type": "code",
   "execution_count": 82,
   "metadata": {},
   "outputs": [
    {
     "data": {
      "text/html": [
       "<object width=\"640\" height=\"480\" data=\"data:application/pdf;base64,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\" download=\"Image.pdf\"></object>"
      ],
      "text/plain": [
       "<IPython.core.display.HTML object>"
      ]
     },
     "metadata": {},
     "output_type": "display_data"
    }
   ],
   "source": [
    "fig,ax=plt.subplots(figsize=(7,5))\n",
    "ax = sns.scatterplot(x='uca_score',y='knn_score',data = merge,hue='batch',style='normalization',size='impute')\n",
    "std_plot(ax,'UCA score','kNN score','method batch visualization')\n",
    "legend = ax.legend(prop=fontlegend,\n",
    "                  #labelspacing=labelspacing,borderpad=borderpad,handletextpad=handletextpad,\n",
    "                  edgecolor=\"#000000\",fancybox=False)\n",
    "ax.legend_.get_frame()._linewidth=0.5\n",
    "legend.get_title().set_fontweight('normal')\n",
    "legend.get_title().set_fontsize(6.5)\n",
    "\n",
    "fig.tight_layout()\n",
    "embed_pdf_figure()"
   ]
  },
  {
   "cell_type": "markdown",
   "metadata": {},
   "source": [
    "# batch 2"
   ]
  },
  {
   "cell_type": "code",
   "execution_count": 83,
   "metadata": {},
   "outputs": [],
   "source": [
    "sampleclass = batch_info.iloc[:,2]"
   ]
  },
  {
   "cell_type": "code",
   "execution_count": 84,
   "metadata": {},
   "outputs": [
    {
     "name": "stdout",
     "output_type": "stream",
     "text": [
      "/home/xieyufeng/ex\n"
     ]
    }
   ],
   "source": [
    "cd ~/ex"
   ]
  },
  {
   "cell_type": "code",
   "execution_count": 85,
   "metadata": {},
   "outputs": [
    {
     "data": {
      "application/vnd.jupyter.widget-view+json": {
       "model_id": "a3147a3cff0d49128025da6494f3e8b6",
       "version_major": 2,
       "version_minor": 0
      },
      "text/html": [
       "<p>Failed to display Jupyter Widget of type <code>HBox</code>.</p>\n",
       "<p>\n",
       "  If you're reading this message in the Jupyter Notebook or JupyterLab Notebook, it may mean\n",
       "  that the widgets JavaScript is still loading. If this message persists, it\n",
       "  likely means that the widgets JavaScript library is either not installed or\n",
       "  not enabled. See the <a href=\"https://ipywidgets.readthedocs.io/en/stable/user_install.html\">Jupyter\n",
       "  Widgets Documentation</a> for setup instructions.\n",
       "</p>\n",
       "<p>\n",
       "  If you're reading this message in another frontend (for example, a static\n",
       "  rendering on GitHub or <a href=\"https://nbviewer.jupyter.org/\">NBViewer</a>),\n",
       "  it may mean that your frontend doesn't currently support widgets.\n",
       "</p>\n"
      ],
      "text/plain": [
       "HBox(children=(IntProgress(value=0, max=75), HTML(value='')))"
      ]
     },
     "metadata": {},
     "output_type": "display_data"
    },
    {
     "name": "stdout",
     "output_type": "stream",
     "text": [
      "\n"
     ]
    }
   ],
   "source": [
    "uca_summary = pd.read_table('output/'+'scirep'+'/select_preprocess_method/uca_score/'+'domains_combined'+'/summary.txt',\n",
    "                           index_col=0)\n",
    "knn_list=[]\n",
    "for i in tqdm(uca_summary.index):\n",
    "    table = pd.read_table('~/ex/output/'+'scirep'+'/matrix_processing/'+i+'.domains_combined.txt',\n",
    "                           index_col=0)\n",
    "    knn_list.append(get_knn_score(table,sampleclass))\n",
    "    "
   ]
  },
  {
   "cell_type": "code",
   "execution_count": 86,
   "metadata": {},
   "outputs": [],
   "source": [
    "knn_summary = pd.DataFrame(data={'preprocess_method':uca_summary.index,'knn_score':list(knn_list)})\n",
    "knn_summary = knn_summary.set_index('preprocess_method')"
   ]
  },
  {
   "cell_type": "code",
   "execution_count": 87,
   "metadata": {},
   "outputs": [
    {
     "data": {
      "text/html": [
       "<style  type=\"text/css\" >\n",
       "</style>  \n",
       "<table id=\"T_90f2ebde_3f14_11e9_a1dc_07440e142ae7\" ><caption>Imputation Methods knn Score</caption> \n",
       "<thead>    <tr> \n",
       "        <th class=\"blank level0\" ></th> \n",
       "        <th class=\"col_heading level0 col0\" >knn_score</th> \n",
       "    </tr>    <tr> \n",
       "        <th class=\"index_name level0\" >imputation</th> \n",
       "        <th class=\"blank\" ></th> \n",
       "    </tr></thead> \n",
       "<tbody>    <tr> \n",
       "        <th id=\"T_90f2ebde_3f14_11e9_a1dc_07440e142ae7level0_row0\" class=\"row_heading level0 row0\" >null</th> \n",
       "        <td id=\"T_90f2ebde_3f14_11e9_a1dc_07440e142ae7row0_col0\" class=\"data row0 col0\" >0.00976294</td> \n",
       "    </tr>    <tr> \n",
       "        <th id=\"T_90f2ebde_3f14_11e9_a1dc_07440e142ae7level0_row1\" class=\"row_heading level0 row1\" >scimpute_count</th> \n",
       "        <td id=\"T_90f2ebde_3f14_11e9_a1dc_07440e142ae7row1_col0\" class=\"data row1 col0\" >0.00910413</td> \n",
       "    </tr>    <tr> \n",
       "        <th id=\"T_90f2ebde_3f14_11e9_a1dc_07440e142ae7level0_row2\" class=\"row_heading level0 row2\" >viper_count</th> \n",
       "        <td id=\"T_90f2ebde_3f14_11e9_a1dc_07440e142ae7row2_col0\" class=\"data row2 col0\" >0.0119819</td> \n",
       "    </tr></tbody> \n",
       "</table> "
      ],
      "text/plain": [
       "<pandas.io.formats.style.Styler at 0x7ffb0b758ac8>"
      ]
     },
     "metadata": {},
     "output_type": "display_data"
    },
    {
     "data": {
      "text/html": [
       "<input type=\"button\" id=\"button_358560809\" value=\"Download\">"
      ],
      "text/plain": [
       "<IPython.core.display.HTML object>"
      ]
     },
     "metadata": {},
     "output_type": "display_data"
    },
    {
     "data": {
      "text/html": [
       "<script>\n",
       "    document.getElementById(\"button_358560809\").addEventListener(\"click\", function(event){\n",
       "        var filename = \"Imputation Methods knn Score.csv\";\n",
       "        var data = \"data:text/csv;base64,aW1wdXRhdGlvbixrbm5fc2NvcmUKbnVsbCwwLjAwOTc2MjkzNjQ0MTYzOTI4NApzY2ltcHV0ZV9jb3VudCwwLjAwOTEwNDEyOTQwMDQ5Nzk1NQp2aXBlcl9jb3VudCwwLjAxMTk4MTkyNTgwNTM5NzQxNQo=\";\n",
       "        const element = document.createElement('a');\n",
       "        element.setAttribute('href', data);\n",
       "        element.setAttribute('download', filename);\n",
       "        element.style.display = 'none';\n",
       "        document.body.appendChild(element);\n",
       "        element.click();\n",
       "        document.body.removeChild(element);\n",
       "    });\n",
       "</script>"
      ],
      "text/plain": [
       "<IPython.core.display.HTML object>"
      ]
     },
     "metadata": {},
     "output_type": "display_data"
    },
    {
     "data": {
      "text/html": [
       "<style  type=\"text/css\" >\n",
       "</style>  \n",
       "<table id=\"T_90f3a740_3f14_11e9_a1dc_07440e142ae7\" ><caption>Normalization Methods knn Score</caption> \n",
       "<thead>    <tr> \n",
       "        <th class=\"blank level0\" ></th> \n",
       "        <th class=\"col_heading level0 col0\" >knn_score</th> \n",
       "    </tr>    <tr> \n",
       "        <th class=\"index_name level0\" >normalization</th> \n",
       "        <th class=\"blank\" ></th> \n",
       "    </tr></thead> \n",
       "<tbody>    <tr> \n",
       "        <th id=\"T_90f3a740_3f14_11e9_a1dc_07440e142ae7level0_row0\" class=\"row_heading level0 row0\" >Norm_CPM</th> \n",
       "        <td id=\"T_90f3a740_3f14_11e9_a1dc_07440e142ae7row0_col0\" class=\"data row0 col0\" >0.0119364</td> \n",
       "    </tr>    <tr> \n",
       "        <th id=\"T_90f3a740_3f14_11e9_a1dc_07440e142ae7level0_row1\" class=\"row_heading level0 row1\" >Norm_CPM_top</th> \n",
       "        <td id=\"T_90f3a740_3f14_11e9_a1dc_07440e142ae7row1_col0\" class=\"data row1 col0\" >0.0142308</td> \n",
       "    </tr>    <tr> \n",
       "        <th id=\"T_90f3a740_3f14_11e9_a1dc_07440e142ae7level0_row2\" class=\"row_heading level0 row2\" >Norm_RLE</th> \n",
       "        <td id=\"T_90f3a740_3f14_11e9_a1dc_07440e142ae7row2_col0\" class=\"data row2 col0\" >0.00835493</td> \n",
       "    </tr>    <tr> \n",
       "        <th id=\"T_90f3a740_3f14_11e9_a1dc_07440e142ae7level0_row3\" class=\"row_heading level0 row3\" >Norm_SCnorm</th> \n",
       "        <td id=\"T_90f3a740_3f14_11e9_a1dc_07440e142ae7row3_col0\" class=\"data row3 col0\" >0.00978494</td> \n",
       "    </tr>    <tr> \n",
       "        <th id=\"T_90f3a740_3f14_11e9_a1dc_07440e142ae7level0_row4\" class=\"row_heading level0 row4\" >Norm_TMM</th> \n",
       "        <td id=\"T_90f3a740_3f14_11e9_a1dc_07440e142ae7row4_col0\" class=\"data row4 col0\" >0.00710796</td> \n",
       "    </tr></tbody> \n",
       "</table> "
      ],
      "text/plain": [
       "<pandas.io.formats.style.Styler at 0x7ffb0cee9cf8>"
      ]
     },
     "metadata": {},
     "output_type": "display_data"
    },
    {
     "data": {
      "text/html": [
       "<input type=\"button\" id=\"button_832798806\" value=\"Download\">"
      ],
      "text/plain": [
       "<IPython.core.display.HTML object>"
      ]
     },
     "metadata": {},
     "output_type": "display_data"
    },
    {
     "data": {
      "text/html": [
       "<script>\n",
       "    document.getElementById(\"button_832798806\").addEventListener(\"click\", function(event){\n",
       "        var filename = \"Normalization Methods knn Score.csv\";\n",
       "        var data = \"data:text/csv;base64,bm9ybWFsaXphdGlvbixrbm5fc2NvcmUKTm9ybV9DUE0sMC4wMTE5MzYzODk3NzYxMzA0OTUKTm9ybV9DUE1fdG9wLDAuMDE0MjMwNzY4MjYzNTk1NTE2Ck5vcm1fUkxFLDAuMDA4MzU0OTI2Mjk2MzYyMjUzCk5vcm1fU0Nub3JtLDAuMDA5Nzg0OTQwMjAzNjc2NApOb3JtX1RNTSwwLjAwNzEwNzk2MTUzOTQ1OTc2Mwo=\";\n",
       "        const element = document.createElement('a');\n",
       "        element.setAttribute('href', data);\n",
       "        element.setAttribute('download', filename);\n",
       "        element.style.display = 'none';\n",
       "        document.body.appendChild(element);\n",
       "        element.click();\n",
       "        document.body.removeChild(element);\n",
       "    });\n",
       "</script>"
      ],
      "text/plain": [
       "<IPython.core.display.HTML object>"
      ]
     },
     "metadata": {},
     "output_type": "display_data"
    },
    {
     "data": {
      "text/html": [
       "<style  type=\"text/css\" >\n",
       "</style>  \n",
       "<table id=\"T_90f450c8_3f14_11e9_a1dc_07440e142ae7\" ><caption>Batch Removal Methods knn Score</caption> \n",
       "<thead>    <tr> \n",
       "        <th class=\"blank level0\" ></th> \n",
       "        <th class=\"col_heading level0 col0\" >knn_score</th> \n",
       "    </tr>    <tr> \n",
       "        <th class=\"index_name level0\" >batch_removal</th> \n",
       "        <th class=\"blank\" ></th> \n",
       "    </tr></thead> \n",
       "<tbody>    <tr> \n",
       "        <th id=\"T_90f450c8_3f14_11e9_a1dc_07440e142ae7level0_row0\" class=\"row_heading level0 row0\" >Batch_Combat_1</th> \n",
       "        <td id=\"T_90f450c8_3f14_11e9_a1dc_07440e142ae7row0_col0\" class=\"data row0 col0\" >0.00572827</td> \n",
       "    </tr>    <tr> \n",
       "        <th id=\"T_90f450c8_3f14_11e9_a1dc_07440e142ae7level0_row1\" class=\"row_heading level0 row1\" >Batch_Combat_2</th> \n",
       "        <td id=\"T_90f450c8_3f14_11e9_a1dc_07440e142ae7row1_col0\" class=\"data row1 col0\" >0.0124363</td> \n",
       "    </tr>    <tr> \n",
       "        <th id=\"T_90f450c8_3f14_11e9_a1dc_07440e142ae7level0_row2\" class=\"row_heading level0 row2\" >Batch_Combat_3</th> \n",
       "        <td id=\"T_90f450c8_3f14_11e9_a1dc_07440e142ae7row2_col0\" class=\"data row2 col0\" >-0.015056</td> \n",
       "    </tr>    <tr> \n",
       "        <th id=\"T_90f450c8_3f14_11e9_a1dc_07440e142ae7level0_row3\" class=\"row_heading level0 row3\" >Batch_RUV</th> \n",
       "        <td id=\"T_90f450c8_3f14_11e9_a1dc_07440e142ae7row3_col0\" class=\"data row3 col0\" >0.0308668</td> \n",
       "    </tr>    <tr> \n",
       "        <th id=\"T_90f450c8_3f14_11e9_a1dc_07440e142ae7level0_row4\" class=\"row_heading level0 row4\" >Batch_null</th> \n",
       "        <td id=\"T_90f450c8_3f14_11e9_a1dc_07440e142ae7row4_col0\" class=\"data row4 col0\" >0.0174397</td> \n",
       "    </tr></tbody> \n",
       "</table> "
      ],
      "text/plain": [
       "<pandas.io.formats.style.Styler at 0x7ffb0b758a90>"
      ]
     },
     "metadata": {},
     "output_type": "display_data"
    },
    {
     "data": {
      "text/html": [
       "<input type=\"button\" id=\"button_879378599\" value=\"Download\">"
      ],
      "text/plain": [
       "<IPython.core.display.HTML object>"
      ]
     },
     "metadata": {},
     "output_type": "display_data"
    },
    {
     "data": {
      "text/html": [
       "<script>\n",
       "    document.getElementById(\"button_879378599\").addEventListener(\"click\", function(event){\n",
       "        var filename = \"Batch Removal Methods knn Score.csv\";\n",
       "        var data = \"data:text/csv;base64,YmF0Y2hfcmVtb3ZhbCxrbm5fc2NvcmUKQmF0Y2hfQ29tYmF0XzEsMC4wMDU3MjgyNzQ3NDc2NjQwMDkKQmF0Y2hfQ29tYmF0XzIsMC4wMTI0MzYyNTM3MDI5MjAxOTcKQmF0Y2hfQ29tYmF0XzMsLTAuMDE1MDU2MDA1MDY5NjI3OTQ4CkJhdGNoX1JVViwwLjAzMDg2Njc5ODgzMDg0NDkwOApCYXRjaF9udWxsLDAuMDE3NDM5NjYzODY3NDIzMjU2Cg==\";\n",
       "        const element = document.createElement('a');\n",
       "        element.setAttribute('href', data);\n",
       "        element.setAttribute('download', filename);\n",
       "        element.style.display = 'none';\n",
       "        document.body.appendChild(element);\n",
       "        element.click();\n",
       "        document.body.removeChild(element);\n",
       "    });\n",
       "</script>"
      ],
      "text/plain": [
       "<IPython.core.display.HTML object>"
      ]
     },
     "metadata": {},
     "output_type": "display_data"
    }
   ],
   "source": [
    "knn_summary_table = pd.DataFrame(np.ndarray([knn_summary.shape[0],4]))\n",
    "knn_summary_table.columns = ['imputation','normalization','batch_removal','knn_score']\n",
    "for i in range(knn_summary.shape[0]):\n",
    "    splittmp = knn_summary.index[i].split('.')\n",
    "    knn_summary_table.iloc[i,0] = splittmp[1]\n",
    "    knn_summary_table.iloc[i,1] = splittmp[2]\n",
    "    knn_summary_table.iloc[i,2] = splittmp[3]\n",
    "    knn_summary_table.iloc[i,3] = knn_summary.values[i]\n",
    "display_dataframe(knn_summary_table.groupby(knn_summary_table.columns[0]).mean(),filename='Imputation Methods knn Score',gradientfunc=False)\n",
    "display_dataframe(knn_summary_table.groupby(knn_summary_table.columns[1]).mean(),filename='Normalization Methods knn Score',gradientfunc=False)\n",
    "display_dataframe(knn_summary_table.groupby(knn_summary_table.columns[2]).mean(),filename='Batch Removal Methods knn Score',gradientfunc=False)\n",
    "knn_mean_summary = pd.concat((knn_summary_table.groupby(knn_summary_table.columns[0]).mean(),\n",
    "          knn_summary_table.groupby(knn_summary_table.columns[1]).mean(),\n",
    "          knn_summary_table.groupby(knn_summary_table.columns[2]).mean()))\n",
    "knn_mean_summary =  knn_mean_summary.rename(index={'null': 'imputation_null'})"
   ]
  },
  {
   "cell_type": "code",
   "execution_count": 88,
   "metadata": {},
   "outputs": [
    {
     "data": {
      "text/html": [
       "<object width=\"640\" height=\"480\" data=\"data:application/pdf;base64,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\" download=\"Image.pdf\"></object>"
      ],
      "text/plain": [
       "<IPython.core.display.HTML object>"
      ]
     },
     "metadata": {},
     "output_type": "display_data"
    }
   ],
   "source": [
    "fig, ax = plt.subplots(1,figsize=(7, 4))\n",
    "knn_mean_summary.plot(kind='bar',ax=ax,width=0.8,\n",
    "                legend=True)\n",
    "std_plot(ax,'','')\n",
    "legend = ax.legend(prop=fontlegend,\n",
    "              bbox_to_anchor=[0.2,1],\n",
    "              borderpad=1,\n",
    "              edgecolor=\"#000000\",fancybox=False)\n",
    "ax.legend_.get_frame()._linewidth=0.5\n",
    "legend.get_title().set_fontweight('normal')\n",
    "legend.get_title().set_fontsize(6.5)\n",
    "fig.tight_layout()\n",
    "\n",
    "embed_pdf_figure()\n",
    "#fig.tight_layout()\n",
    "#plt.figure(linewidth=30.5)\n",
    "#ax.spines['right'].set_visible(False)\n",
    "#ax.spines['top'].set_visible(False)"
   ]
  },
  {
   "cell_type": "code",
   "execution_count": 89,
   "metadata": {},
   "outputs": [],
   "source": [
    "merge = pd.concat([knn_summary,uca_summary],axis=1)\n",
    "merge['impute'] = [method.split('.')[1] for method in merge.index]\n",
    "merge['normalization'] = [method.split('.')[2] for method in merge.index]\n",
    "merge['batch'] = [method.split('.')[3] for method in merge.index]\n",
    "sizelist=[10,50,200]\n",
    "impute_list = np.unique(merge['impute'])\n",
    "merge['imputation_size'] = merge['impute']\n",
    "for i in np.arange(len(impute_list)):\n",
    "    where = np.where(merge['imputation_size']==impute_list[i])\n",
    "    for j in where:\n",
    "        merge['imputation_size'].iloc[j]=sizelist[i]"
   ]
  },
  {
   "cell_type": "code",
   "execution_count": 90,
   "metadata": {},
   "outputs": [
    {
     "data": {
      "text/html": [
       "<object width=\"640\" height=\"480\" data=\"data:application/pdf;base64,JVBERi0xLjQKJazcIKu6CjEgMCBvYmoKPDwgL1BhZ2VzIDIgMCBSIC9UeXBlIC9DYXRhbG9nID4+CmVuZG9iago4IDAgb2JqCjw8IC9FeHRHU3RhdGUgNCAwIFIgL0ZvbnQgMyAwIFIgL1BhdHRlcm4gNSAwIFIKL1Byb2NTZXQgWyAvUERGIC9UZXh0IC9JbWFnZUIgL0ltYWdlQyAvSW1hZ2VJIF0gL1NoYWRpbmcgNiAwIFIKL1hPYmplY3QgNyAwIFIgPj4KZW5kb2JqCjEwIDAgb2JqCjw8IC9Bbm5vdHMgWyBdIC9Db250ZW50cyA5IDAgUgovR3JvdXAgPDwgL0NTIC9EZXZpY2VSR0IgL1MgL1RyYW5zcGFyZW5jeSAvVHlwZSAvR3JvdXAgPj4KL01lZGlhQm94IFsgMCAwIDUwNCAzNjAgXSAvUGFyZW50IDIgMCBSIC9SZXNvdXJjZXMgOCAwIFIgL1R5cGUgL1BhZ2UgPj4KZW5kb2JqCjkgMCBvYmoKPDwgL0ZpbHRlciAvRmxhdGVEZWNvZGUgL0xlbmd0aCAxMSAwIFIgPj4Kc3RyZWFtCnicvX3JkmXHkd0+v+ItpQUfYh6WJLtFM5lIE9loaSGTwaAkGgT1CiAxkGb6+j4n7hDHb96bqFJnEjSiKg88PU54eHh4jNff/vzkb1/f3O3P+P/fb//r9r/x5x9v/vYb/P/rJ4efPjxll/DnY/wZC//m1j//9PT0b0+f/RKiP0DiN08p3nvItxjvDb+XWr07v/380J/bPRDYxJcfh7a/3lRJwg+uVfzk0j3dvv/q9j9v394++2UYJd598Lm0EiDg7qms/9Qnd68utxZiDv32/deoC+p3h5St4kcreAJVcOxg2m6h13sJrcfKOsZ+T77lrHBKUNZrrR1ou7uae2Fd/FTR7q36XOvt+SmlgDq23on3O4r3jTrCPcPKKD860Ekl+WJRb3XseLj3XmrsN9FM+73kQVR07KyjyzuPvYLRlbv3KXiomNYQFCpivfvSQqhWukwaojif04hp0pikgbrsamqmgop6q2PHp/GmZjX05GGbZbLWRpw11AY/9Y5nevSvnoYmX4PDr4cWIFhD6sN35m+1NKxcOrsFG8Kn6rrKP7SRr+ULRHp7Id5QXTj7QbrDNi3kOPqikBFp4W6kdwNfSSsTlRbii3lihklDbjGNpg0+RnT/D0+xwFc8/imKPwzu3b30VlwhLnoUX0sBh+hDCSyl3RNcIkaWwgZN3mWv+MPgHh0G5Ech6A699FTbNZzu3sUA1zpoucLLvUdffRr4ZHmJGz3+nlryvb6CK01RM+FhIc8I2JuLHTGx4geXU3e+F9eWEPraf356Ci3e0T45tJtHA+UCKTp5aMsPvSj+sHi9115LqgNffijpGq8oHRb0+aDnEof3lF5bHPjkeYkbPR5hoKcX6nfYshQrCD4s7Ng3VqvBgBh1UnYwabqZ/wJjX0o+HSRh9wLPS+hP4YZuda8hxsKBKVSP38MvRuD1npxDtyPDGtHPe+1J5YmnO9i2lF+R7wiDCKbtIM/AkFP2/SDfwz1FesvD0DHiQl/FC6IRBubkr8UNG5FX9m/i2RnRv6fmK9q030NyHAhg4dzvaBUXveIPg8NlSs6++cHRIbGJgRa7xDFglx57Puq5wiO6eSTTh+F5iRs95V6aKy69gitP1SP45tvnqdTtmIt9QtIVEsKVS2iPWwiR6URFpWH5lO+9eYRP4Am9zGNcIsOEsTc3aFd54v0eodXVV+QLqLQ2Yr+RbwjUYJWO8v2OLKDHYTHlY+SFv5EP7NPOxVfkDR+RF/7LyKalI1GB+RqiOv3TbzgTqRU3bDlOTpxj2In8O8auycRX1jcivlvmHgnQihvmHlnHxCdzI//CPowZSExgvuFFBdme42AoONsYQbHBBYkW9AmMqCG1Oxyi+TTiEUJNrh4JHnHorkgSibdeM51j+o/vHtHL1eItigZNLrShQuB4h+9Tm1EMr2jIY5OlkTGZ8r0tOiZp4FCNnPGmFQTaO3I8otMcE30eZnLds7ZGmp7QYvNWc7wXh3hRjzyQmqOpfbSsd/c1NRRUzSGw2E4Ui52FhmmVSVrbcFZQ2/vMO57fZuRAFoYBylWwLgHJs2thjM1Iw3JlvJ/oQ9HMaqGrDJTDWeihvoKjL8Dllyg9tZyiGIcD0vVlZBB+V7jRgmCF2FNG1nOFG46iR/B3HDEiwj6mPAhcAXORUCIZLhZ3bKqsOFGMo84PEA3PORGmgzn63ilZMaqDfqJPcWqDGnDyCLzBMXMfv5d9GrMmTKAq5mtIUA3aqZg55qJjwzELg2tvZW+aMTXHqJ1dMTwSw2FPffj25Mye4luq+abVY0/BxLaRxjTGRKkCeW9Fv2pWGlMGX3OJVjMnfehX7UgDrZJ77smQ5ijn+KumgoIacyguxpua1dCTh22WyVracFZQW/vMN7ZJevAMFPgPfkRZZJI+BnpOQKKfCjqP4g+DZ/b8HNMY2wMHIFfZxpc4OJeecz/qucLDHZlAraNc4XmJqx6PlACJGqYh17jyVD2Cr322jViHvhjZLdHtYI9a8vhh9FAk6kufvZB8Okg+DSYFgxTySvoxcnuOWLS8w8DY09qKsfRSN0s6xBPfVZ44RgMkWPUV8Uab1lAO4p2jZ631IA7HxkyihRETlY3KC3sjz+l7y7GUa3lDR+WF/mr3vI4ypTMCus22jJXDrgnj/GL3C8mng6Sxe0cE6q4sadGsaEf3K3Cvbu0ypdWKV8KYrKR0kPUOow3KX7LzKewdPBqpxJKdTyJWfvK28tOCV/JKZkor8zcZ9l1FmMdktI+JoUvoxCOt9XHHa97wh5HnssLE/an8OybkwgQlIlvDhJvMHSPfyKcmHNxwa5hhoEjgRrDHlGJXgZw+5mW88BgkfMIcEjDiN+b57GFAkd6FRmGkth5B/YB2o2KDm+PijmMqKophvBMWnBFsKoRyizuLWTuA8GvMbG+mUXaUKtA5e0wjixTpPFmI4nTOIk4WkzLQUAvih6meoGoLhafhRLEYWVhoiwhlaT6pnjb1mV+8UZIsujPrndEtV59zzYdg8NFW+FdKA62t58Ea3WzT4e++Ie/Ia3snX1KOA88t+0UYU4JeKByQWyZ0giNaVMWOw+ioChMIVRxPaSSlIaTTTkPql5AIYUwsxtITXdyu58KVdSNdJo2puFywyJOFcIYb9Bq5Yqn1E9RYw+C77USzP6Nh2kQ4SwtK/aS1z3zj+T0nEGSXK/ctQs73lFyOizfuTLg+ljnlHdkFWhHi0Rn5h7rNtXxlL2+5HOXpLUjWylEeIhjS6mHMOMgLfyO/N9y1vOEj8sL/rXs8N6NS5V7e0uMTugRaUHBaJhQfOYkE2sCE+0hAG+ZBTCaYdiF2xTGnGIEfAQzBnLufiHXMtIC2itZf0O4xQ4gWjdTckl917DgTTB85A1HNmXkE3NHy4OZXRF3XsLGzLtAdkEffTA0rEmHMcqLx8okuPaWEzjUPFc73WjN3yI1iRGXk9unIgqG/omNZzogK6ICpmvopqtZQfNpONU87Cw1tFOUsTTirJ6195hvP75jzcKFq2QTCZPte+4hBH564rhWKQ8qsONHmnBtBD46NnxtX15gRUwVBJJqxkTNhTGRLXIQbR+M4hJvvniBSl5waB3EDdtWwwcgfah8rXaI1nlGISkH4xklhrxvb0cXGWfM0hIDPwz5wkJC6FY7KYlccz1kEZbFTDghtZWRPs3ITM3ZQeLdZ0LY4oWDaImpb7BT2uplGPvGIbZ2Aikqs6yaLr9AUhrvsv1O5+Oha5pyElq4oqav0Q9r1UpqHElCjo3Th+q+vR+mKmoYWF3gyMdKTt5HeLHspbZhMaeH9fmsD0vAx3mNFOEjG2lwmS2ihnoyhRJpwu/fkUvXX4pVLR8m/EEf7w+HHkC7iCG4NyXfOxt4H6Z25lYZTcuesX4pbLiIu1N9iGObco1W4pB971R4DzGJcTGDQq+gIgmM0YLqa3IJmpJ9jyTxNHdybaCiL3a0hI6yhhDEDRmLZxi4LjwT1Ap/hBiLayDEJVNSrCsEDtzMjMhlRjA51wgJ+KSomZ05bNhqzfpz4YBKV802tMVHq4PYzijXCmIptLKbe2s5Z1DZZTM7ohSWmWE3tBFRTCDztJmrFxkLCNMhkrK23100b+swt3jPnlhK5xIq5JzMMOiLnzB15g+JEe+2By81Aq3dtnc7HTQesgfnRyKGIIwog5Rp4diWlZY7eO2y+LnImhPh4RIvq2HHMZCombYsbbZqBnvDgBGnqmKyB7zxmDYHWgAmAaQFBn4edMGNnEqjCbtIQxe6cBtxgpzFJA+WGWrcVVFTNYfHNeKJZDe0ummWy1kbcK6jtfeYdb7P2YHy9MCr0WofnMTV1KSw9riZMzbgRfwgSqfWx/8X+iUwX+YUVf8ekdbYBh6uA/DyUQXwaC2lObMgPyiC+u7DIPzTIXskzOcuu+vJCPvGgYxrnzYx8gQVAu1qDWXnxISO/R7prcaUj4sL+/dbMhUgbqWP1zZodBsJEGlmytcqUNka8kkbkRkaRD9JMBnjytVtp7p5jvtm7NbiRnryN9G6/C2FDZBdW1u84LBTkty6MlQ/MMHpoY5VgDJcePTUp/jB4YbjyLo0+O9UovGbzXJ/PhVn52JrEtN/5tZANT2HDH0YeE2rBy6n8mwSpvQLMynkCq0RrB8EfFucGa3TjgJ+qEXi1A1cPM6YEzA9gJWQHYxEWTcWDQHE9wcAkJY6OlytXAhKHiSlPHKG/de4cX8sjKfOpLB1b5TOXIurSF1S+3iOkx0liw8fIC38jzy1SH6p/Rd7wEXnh/44RJXGijBw/3Yq/8wRLGUn4ehQMFZ0w13BgmVDbDeSg1NcFrFwNjgRLwTyYs1WuAyVUJ9Vb4YnM6lMYi0MVNHK5odY+u8gxWsBMra2UVcGEe+ixLUtOm9YyToN3Q4AzSzAcGaeQ5T6ny0N2Vqtxo4FHJtUEO0gFiPTIMNAAKgtr1LGzp1q5axYY/C0DLgBEUFOy6F/FYfgztVJQLDBhsdZUKnadBEwbTLLSXrNa0rInXvBGOc5Uzd5TS+lu8bAy8b7hDyPP40kTd6fy75jkCJOxOJHdONrskQbyFDk7KfdLO7KEeGCOaSKPvxONjY2AP6z0Oy5aTB5c7srcyw+2Twsu/WSspHUXq9dOtSy19rhMR2cHXBZbed1BuurYdXEIb/mItu6Zp5uOzdXW2hC7w80ohsUQ+rgHqDS4oh142sR07mUFnEdwtHdztRwjJIKu+ragpn8b6b3PGM17Bzvw2HujYb13XFNDQY09DL5bTzRPQwsN0ypCWtpwVlDb+8w73qqvj6tdYd0RQJViHcM4F/+RxdWs+MPiSH+4Fbfgokfwf0ifGQf7I/pqXvtMjujqRXHyLvg5LYc2U21sEo1oPA5aU1pbp97hYZ5xtqMBq3PD0XiYu3Jbi4tvPvWRMikarY4dh5cjV/bLJs6uOZ/yKKpjsu518pg17Nz8qI53VsQeE106DW+XjZVukfaTh2h25zzGIbyVx2QNFDP/7pOpoaLR6tjxaT3V7E95mHaZrLUVZw21xc/84133hbRERMyA8S4cxs3WN9yOPj0o7k7l/zF9ie2ORh5zGl6srRXTUIGH93keNSOWUnRhcck+FbTkWlz9N/rAzUJ6WUBwjEtfXGMI0Yo8K3WLInsTFQIjTo4NNlXcT1l0YbEx5px/J7HXbWz7lGB9ZoJLF2oI3TUZ2bBRMGr9OQW/G03o7jHTVM2gUTTssBht6q2nHLQxwrSZtNxeN23jE394fs85TYRwxyRtTB0SCmxjxsrjzwtc/QY/VJo7Uzsc0pn0O643TB7joDaSmz7SzZjv49pfGFs5mBvGZW9G5BPPuqS68EbqiUF/PUC6i79jfxciPIHkXFjtPYn7iEZCqtEPxP1YUfXjLIgyV/k3yUwCE3jv1iVSTMPDuOTrY0JFy7L5seMPizfeusrLAqHqEfwdx4HAka7nENbUk9diSBwzOld76gI/DOzx1x7CuAAq9bnGEe+QgS57lqrnCq9cOPXLApSwvMRVz7TjNa48VY/g/5AggmkbcoOwmD3uaFpR49G8JryhoZ7Ivo03dwxj0TFSZ179RHUWb955cFksYoKx7PpGzA9yikzVpvzSmuifLr8iX3i7oq55ucoHBMW6HBI38rz62eKyq6x8VF74G/mAcFARtvIr8spH5YX/PyjW8TCrC+OaufjFOJu54IdYFwSfvmHk39Gf0S0db4/y/DwvbvnBewRgROwo8MPAlYP78iiB95wRpxDrJdzuY/GoHpScw56pDuatI/rv/M5RqwIzmTwu11/Bht6uQ9B3jNi+sDc0HsnwyKiyD8suDSqOqTmzH8EfFufB2BqWugeP7IFndl7B2WjoPOmo5wpv95DRVCM2K88r3OgZb2dw4nONK0/VI/g79k6UyM1jxiceuIpjVPkwPIAXLDih7Ezr0F13y6AWtaq8cehr+eFrvb+QHxTKEkdVnhRiXOKW8jHywt/I7459LW/4iLzwf9/ostaojMMw0ZfV5eklXeFhlZq9H8vd6O08CkYThlUBDxo1bnw8D8si2lc4JuDWS+L512nuwhhcxoBkwK4KNnicLw40umhtZwyaMphs22Qw69W5Pdp5AFdssIPPwzTBu8jZiMgWYbBrLecMsjDY2e5NrPWaoLGBwru9srTCCQPTCkVaYWcw6yVte+IH+9nF+R95eoGeNMagEDjtjAjLDZGf04dDJ0H61FOsy3oGQgnGqWxkN/1MHlt1Y8CJvFW99P7O4/9e0Yeg47YWwmNcElbeBst5uyV2ivMYKpLRflBzAWPSXJCebyFxZXiNGzUjKgVOQy5xZal6BH/PkDtDWWMq57hbz0aNE+8bfgh9WXF/Kj9bdhtKeCsN40kphyF14nbI46WkjMlkOgydlzgfH4h5dTbRc4Vj6Aw918OIdwUbLXPgvMSVpeoR/D3D+vQzjjWOB0DXLrv1honbXhJ4USu17g/+qvibTIZksMtcwHF8hcEO+tzmh0VXLnOwnvKW+5U8N0dLRPZ2kC9Mb1JejjSrPFqVRxPCwfOt/ORv5afNLuWVj8gr/3f0Dna5XjuZoHDM/9y4wuvh+0ilgqIPQQOiSOJ1+4FOHYq/4zobd8hicrzrz91y5vHDX7j5hhAAIwv+sHji8Qy/xOCtPlcoD6/WMN7WMDqu8I7QHcMyMVeOV7jRs1vxGjcsRY/g7zgpEia8m8HTCEl9RVC1oocmNO0yURIdir+nh+92YuElxLRsaM52E/xhcfxq7nk5BLb7/gWKX+tI4vxRxxXO9NOvx+WU4xVu9Mwed4kblqJH8HfMKaSd+dwI0qhlzXP3iomqr4xd8J6XjEp0KP6evhJQRcdnFmgn+v4yVjruiEY+CCf4w+IYGmJYXUjUTPg94+FeYBirwaksW9+Tn+APi4838EIulrjB3zOmpHtIqfct+4utL+MPR8geXFb8YfFw75wL+EONLnHeqAjLC6BGzxWeeUQpL0dDlecVbvRMS17ihqfoEXzNna22HJiWHtp34odaN7BNPR7bV/H3jAN01p74RgrXS5FsLXcjXWcKyaOUgj8MztdzMU9Ni52nHsVf2idyG7flHI7+v+MH/2eS7/1yOF/1CL6VYnzAxRE3Phx9ZsUPvsT91daPhV/BfE4k+mXpU7Vc4Vz2wO/Woydd4UaP+MQVrjRFzYTfM0LsLc8jeZ4no6L1IMGNB40riJhgrfnI1KP4+40mPNQSPTcFeOQYhhtLJTwCk0tKAvKsTMwYAvhsZq58zADz6u13Mb/J0XO7nW/qhdJau2U4Jzddx0s6sYLDDfMFjDPc1duh4uav7hiCaW08nTy1MVU+Fss9ne13N3ol7aVulSi8uZh5z33WdmL4XY++WvyylrSire8F7wqBvSy4ta3gnWCDhzb4aJOKCDYrPMFpmF3fNN8sV+w8CUqD7BWRdjtp4Od3DKZ8xtZXt74ZUFpaRgEueyd0maDwQ2HP1blQA/vH7glXaL7z2MlRwzna7p6Nyvgi5K7gqWO2zhWq3ESFwO/Ycce5s0I/51WY5SrhbOzO8TmOywHjpjjCiUg+2F9CDrlfSfLWTRqL/yKZ+U7asgogory3k9tY25DyVXZSVVkHZ+1cZ7yQFQpTdJIdpv397a/7ZxJu2wcQmnz/wPH7B7evj59sWH9yd9pirA39/elXn98++y/+Vu759vm/PfF6suN1CV6b5rtJ+Mvnf3z6Tw4j7n++ff7n2z9//jSKGqZAeyHQrNoFeKWAVngiAiMZBNOLMpItYxyDgt+h5mshirxSCg8juXHQPrZxu9oWUw7FdD9euMEgtRUjyGvFYHSLzuUhGV8U02wxfDSxZYz6bStGkVeKGe97xpDKInooJrpDMfSblmoIezGCvFYM77xi5OAjsDwJcijm0P58FB+TYU6P1mIUec3F4vjCQ8zJU/RYzMEF0H6IaY2T6K0YQV4rhh9XCC10SvoXxRxcgF9+4ElyzKn2zjKRV4pJfKKyuJDiED0Wc3AB+9EU/YjKa0U0fu8Aoftlp0x72x+aMvGSX21UjcDMB/3C8jv/+utf3n54/u77r471N4ECmueXXVZSf+VS8u0X7saN7nsf321B3evg9fzhaP471wR6G2TdStdFlvqEUv/6xODGMZf/m3+Fns++/P6bLx+/+Onbb9z456s/3v7pu6ff43+GakVUz5Pr8uNrZEvnDsYnkA1vR5aZb59klx9fI8spR/4k0/o3ZJvqvYtt15+vwgYvkQwu4wj8YuKVlDv1Mj9eMN+Uj4Wjn9M8HuNTzf5UMx9Qd8J8/fln9fM91mqYh3P9SHe9qB8//rx23qgy7ON573PMK6X/LT//vH6+cWnYp4vezU8xSfdevsz0M9qRl/O7OaI9nwcd+u8v6Mk+bxGHpz5b5FEsSHwYX5yijv/7u9/ZIBRu/3X5TNVdv+L02T999bdvnr/6w29+dXv+4SKX2erwLz/zeSoIuFHIki55kyx9vdWkjarz+MGaBEU+Nj44f/jqxz9998fb//nyx+c/3f72zQ8/ffn45v99+eM33327VeKzX0ZmZPsnt0xd3PrRrafkxwvIw7J1ddYx8IYNeExg3E0Ypn/oLyo8EsI1GfRb7e7Hj2GNopGTD4G/7/nhcSxz6OdLCXyOchszRp2nR73xKukfXvlU11Enzdd5lmpwLO3eSy7jqHEKy9Yl332aONHmuf+yfMWj+RoSUI+R2fGUJtHG4/W8O0C8pxjW48oJGWSjjrCXWPl+hnP83JRF1/KoQ/AwnjSNS4m7Zj6Sn2LJhkflYzaFd2uen5Q18JI633PQGvLzLGsNxR4ThQ6/f0LBSCOpcW7cPBDNni9cMNc58PBwjJoT7xsIa55ieVlDRdUeFt+sp5qnpYWHaRdhLa0oNZQWP/WPbeo/uubPur7bNND5f0Xn/+IP//o/tg7wH9hQh6v7p9f325X/eOIxLZf8tPUnbvyb462jSY1/82FN5qYH/y48kjFeTFOPBYq5FU1q0LCVZ/2b60G1k5LRzJWjSEqGB581HQejrX+XzPv8/EXTg/NeQ23PLDy09UVaPGVqVr9SHuKFwlo8VmqoqNpD8Wk91TwtrTy0XZT1bEWpobT4qX98kn/zi0TL1GD696+/+4Ao/4VkVW+8XrxE+Y/TeegFY0XIv4jyE1d/4qOznvcXjPdlz6jRXkR54IwyhyjPN3FdzYcon+NWnu0FfIUXOfshymfGXIzTthfkzCiaXkT5zK8RVneI8kC3Gqo9ivBQHxHp6U+iWbzP8BBfFdbi11JDRdUeik/rqeZpaeWh7aKsZytqDd2pPdzk8Qm9AEWXXlo96QWa+7/tUvHoBR+p0/YCXjY7dIABqRctFwxd78bn+IBrbePRDXVQPmSTfLA+zruELsXuLcoc2Do9b2/yRedunD6NNysPI1Aq9xh4rsK6PJ+3hSWcNy7PK9emdQdgHX2Vmd4iqsS3tFxxxMlRfFaqY9FwcG4xkOrcbanli92V7GwkrZM/1tvfw6c5NMpLh6zl258ej+nLb7wcP3z5I3VaX46889pepDU7rG7Cj73ExB1l9SnelOp1PDan/sd3QYtz1nsjoleIMOgRXQqzfo25bvV8RN/4dURorfXIofKFGlcPfj1W0APf+jR1q1vd1A51chBfENnpNqJWfEw5iD9OvuK6UjVFxQ4W3oymenf7KgdpCyU8G07r5s/s4HcOn+DvIBNOk5g4M/Wv16nw/9cUmGtHbu9R33z4y08/yqppIEn8+zfj3wcP9+Pboy331cUjj5cWxelJm1E87/2Vdoi643sia7YRd0fyfISl+RF4IeCC88ttA741Gw9oUQ07yofeUK6/Gb3tlEOfGiZfVmjjMOsW+NxoXlxmWmKii5PDswKflVDpurMQzeKMwgIV3a02GXt+pa4wQdHaKVpUw45Oq6nedMphtobwlZaTukkrn/rEJ7m554RlW4n52zd/+er7L56/++nbHz/SE12EphxqXD3Rp9b4+MbE2bKOT8f1cQsCdcesaaAl8uXOgXbapm7BEjFgfLeHH+EtS6jjN8ViGsfq+IIG6lktWqG5zznkjjfmlqRkNPMhvrBlMjsPznf88kKCsvaO30jhL2oN+ZXoMgoxrbCjiz/GMqgaaR56GtVSzZ5JxjCC5TF8ZJhMWftx1Jzm1RoqqvZQfFpPNU9LKw9tF2EtrSg1lBY/9Y9P8kqecFqSbrqlzTNe80eebMGYMLyRJ/n5XEWZ6Ign/Ig098zHN0eWbKCuv11QatnjkR9PbvJJnPFUnI7OfD0nxVLMkN15v2v++kQLv8Xqb6Kzn5XepfSNJ88ubcXPCo1LtqFm63s7uLgePwLGZ3VEtq3lG631jICvm6Em1TkoS50M6OXXN3RaauqsZ6WL8Xei0kyzRrM5Txr+U9yMT58MB/vheRl+bej7j43vDSaYE8Bvv/v+w4sV/dd9uZZ7tSnsQCQZrNyDOE7IKnf2XszHKr8UfJiOVT40c5yN8flWm7Q2rige52LNM3jYqRhfj305E2s8UXGciAE0vjt+NmnqKrEnfKJmOpeWOPPIyW0OsFKJCW51FWSaZOqbtpslq5UnSWmQWZOl1Q7t+iluCq19zxN/B0f64vPf/vZVH9o71XjRcp0KTQZcuN52fWb82WUf2vrnslxUfylb/alsnLJiBZGdfI1s+RlZdyYrfD/ewoW5XhAD/8uv2WFftfFeYmZmts42wxG0tkw7KIR38OP5Zj46YQj/+r//9osfv/vLq4zbVmTiswtzX+uIPhTNTtDwM2g41XCOpolOZheoaBC7n6PuVMNEP8HKY3tcTfxxgTs2vqGMuemw7z4z4ipOHq1mOgJXl3pevjkusweV/njKCX9L+6AzaP/hv/3zRvv3T/8O/tBNrgplbmRzdHJlYW0KZW5kb2JqCjExIDAgb2JqCjgxNDIKZW5kb2JqCjE2IDAgb2JqCjw8IC9GaWx0ZXIgL0ZsYXRlRGVjb2RlIC9MZW5ndGggMTcgPj4Kc3RyZWFtCnicMzK3UDCAwxRDLgAa4wLxCmVuZHN0cmVhbQplbmRvYmoKMTcgMCBvYmoKPDwgL0ZpbHRlciAvRmxhdGVEZWNvZGUgL0xlbmd0aCA0MiA+PgpzdHJlYW0KeJwzMrdQMFCwNAQShkDS0MBAIcWQC8zP5YIK5HAZorBANJRKAwB+zAwSCmVuZHN0cmVhbQplbmRvYmoKMTggMCBvYmoKPDwgL0ZpbHRlciAvRmxhdGVEZWNvZGUgL0xlbmd0aCAyNzIgPj4Kc3RyZWFtCnicNVFLbgUxCNvPKXyBSvxJzjNVd73/tibpk2YECdgYJ7MgCMOXKlIWWje+9eGNp+N3kvBmiV+iFjIb77OYy4YSVcEYPPcUtDeanWZ+uKzzxPdxvTcezajwLtROVkKC6E0ZC0X6YEcxZ6UKuVlZVFeB2IY0YyWFwpYczcFZE0fxVBasiCHORNll1LcPW2KT3jeSKKp0GWGt4LrWx4QRPPF9TG6myd+5q1EV78mipmOa6Qz/n6v+8Wwy8zyuKPfRHvQ6lAIuas6F5Yyqo0BP4rGmOsbc9jFmCIKnIZx4h00W1D0dGReTazBDUlZw5YwoDrmRw93vDU0p46PxwfI8gNLwPFvS1BZ8Vnmfnz/0lmVLCmVuZHN0cmVhbQplbmRvYmoKMTkgMCBvYmoKPDwgL0ZpbHRlciAvRmxhdGVEZWNvZGUgL0xlbmd0aCAxMTQgPj4Kc3RyZWFtCnicNU7LDUMxDLpnCkbw3/E8r+op3f9ax2ovBmFAuAcITNVXU5FcePG6lPBZsr3xDHoMC4UbQbSVNgsxrArP4khYFlgDFjal5nY/zVyr0+y7e2RSXrdlI0TbI2kIdygRYieUY8Y86z/r/Fad9f4CLZYiXgplbmRzdHJlYW0KZW5kb2JqCjIwIDAgb2JqCjw8IC9GaWx0ZXIgL0ZsYXRlRGVjb2RlIC9MZW5ndGggMjY3ID4+CnN0cmVhbQp4nDVRSXLDMAy7+xV4griL70mnp+T/14LMdMYyaHMDoIjEgTZfcQwljR95JryOzwYH78fOAutUYAaXeVLwesLQbFSIOvpCOPH1zIfcgqRBlUd4MpjR5gS9MDdYEWtmTY+x22OGK/zexVBlZiPOtW7EJZZz+Zkeb6Q5TArpCa0vco/F988hUVKWSuS5wy0o9pKwFcLri2f3MOCq94iKakwLpQvpZa4skigOVJH1SqeIOERqI+egJE134hrkXJW0YFYEJy7qkJ/IaYd3wmmU03O3WCLMnFo7xiRXiva7JvWKtXBuD4yduiap0XzW6qH1rJXblDYZoV2jQZKiD/WEzvW+/u/5/fz+ASsdYNgKZW5kc3RyZWFtCmVuZG9iagoyMSAwIG9iago8PCAvRmlsdGVyIC9GbGF0ZURlY29kZSAvTGVuZ3RoIDM2NiA+PgpzdHJlYW0KeJw1kklyJTEIRPd1Ci7gCDFKOs93eOW+/7YfVPeiAkpMmQmZJUvC5EtNUlW2XvnWhxc9V/486ktsqfw+Gks0lW+LahJXuS6fx1ZSJuYpRfJebT6P0w3Ho2SHOJ+uTo9Fb1cJpU/tsbZuR9qLK0GeHadmi0/Emev0dzKcDNuvZfiM4MUvNsVA5j4RS3oXyG2m5SB87R1Lzq7xXFsEUMIxInoiNKJ4OdTc16Z3zXjgbkaJAJ4mpVODVtUoYVjQtjpjmePxviBVZ+j5X6N56YIi0V1RGGyphwiU0x34pZNxitIjCszaLbCWyWZUi9drs6qxAJmNtCC90DVQ677i06VJI0mlQ/ZKWdMKKOUlQjQrX+tT0x4n0BmxqQFZREMMaIUZC+ul2buwM5Gevs/kenYdstjuyAUpc/rYjMhYvibMcfX66dBAuMHs+c7PnaX2kfZ9te27q/E0YcdJNhueOUUuM1qpK//u+PP8/AXzcIqzCmVuZHN0cmVhbQplbmRvYmoKMjIgMCBvYmoKPDwgL0ZpbHRlciAvRmxhdGVEZWNvZGUgL0xlbmd0aCA5MCA+PgpzdHJlYW0KeJxNjUESwCAIA+++gicYKFL+0+nJ/v9akXH0QnYSIKqNKkHG0HqTodGDIhzGNxUG6gUHsPIAEZ/rvVzAQZnGs015GummGj9mT2psZ6OaDs99FfGqfH8x2SEpCmVuZHN0cmVhbQplbmRvYmoKMjMgMCBvYmoKPDwgL0ZpbHRlciAvRmxhdGVEZWNvZGUgL0xlbmd0aCAyNDYgPj4Kc3RyZWFtCnicRVE7bsUwDNt9Cl6ggPW1fZ4UnV7vv5ZMAnRIxNgSSTFVjYl0fJmhrLFm49sGT2xv/A6LhJ3CZ1hOWOlpGDttG07iGs6RZfBo9IQTslwjLAQiD1Yj1oHNzfPkW1zpQQ6/q0fpRmgX1BGeiM3xCnGV84uPFeIsisy7UpxO7xM6ikN3J6ilG1NP071m89EMl4NaiNhayZ+FPyNJ/o/aXbekfVFtZEwin4bUltnIVXDKqcpi3Ujmk6az2GkKIplSdN/xxhuzp9YSssV+KhmVspjVnQSzM7okh36MMlV9shYyKnDGOCMirsp8UywL77+7xs8fHkpY9gplbmRzdHJlYW0KZW5kb2JqCjI0IDAgb2JqCjw8IC9GaWx0ZXIgL0ZsYXRlRGVjb2RlIC9MZW5ndGggMzUzID4+CnN0cmVhbQp4nD1SO3JEMQjr3ym4QGbMH86zmVTZ+7cROEklBiNAwu5Bh7Tog5mcDyU3ffJjXeTG9H4MSVej78eOkEeRNkpbSTMpTtPrUVcKRUaAFiTVi69Hgm9GAxVFwk6BqtfDNWwljiBPoM8cnxdMsw5icTLsMKgxcxid7CCTQiZGAr7ZmTmYbtAiAU7gpXtxdsuN7AANPBsF082wpYIzsvWcRVHBy0SznyPLho6FmeCDM3qKDItq313WgEg4CP29RkrFIvZi2Yh9FG6TVRIjS2gd4QFd6Qgsx8trCRvCGcte4KEx115I2hZH3r2ZdlKOHTAikndVHGGWbEiDnX8nHYN7hb5vhLOOSN4j1MaoSUjnhA1FII+OkjUaB0wSR3PYVT6ANYQnmI+QsKZAPtPGDu4IigkyeVFknZwo555Bypejdi9m+FswR8YZzKqLGG6/mVNbwf8cdtkuKyiL/iS+nq8fUzCJMQplbmRzdHJlYW0KZW5kb2JqCjI1IDAgb2JqCjw8IC9GaWx0ZXIgL0ZsYXRlRGVjb2RlIC9MZW5ndGggNDE2ID4+CnN0cmVhbQp4nD1SS24FMQjbzym4QKXwT84zVXe9/7Y2M6/Sy4MJBGxDZsmSUPlSlVST1iPfemm3+N7ye2kgvlRUXcKWnJSIlPtCRtQR/OKMSQ9c09klu6XsiFpKFdO1XBp1DHXYxDrH3pd7j8d+vdDNCm9YK/BftiW2o2g81o0ReHEQ6RgUkf3CCj+DM4gX/fxlgojxC/kZ4ql4i8ggSHQ1IKYAFuexi9XoabAXmBtaMIm1lgsQR41w1o+9L76ip7ERV3xNetm85n3Q2GoWgZNghGaIooYbWUNNzxR1B9wS/SegSZGbQ6EHCNogCiGV1ZOPTdHASQM3BssxGSVzwKLnvifDa71vfNtU8QMwlOx8ZB4PQ/CN7TiIoG9B2Gdo5XizcAMZKAEtEKDz3AAJM4itlH2INvE16KvlwwcRfzT5HU/RTZ1xHIxDZ7G0uIQLnDfFtAXJODybFYOSS8CIfGFI99BxCNw+BHStmdzGVj6iaL0irdk2egDODNt4yrMovCdlw3wUJ9kkxqI5hYSn2EVmaOtIAriYtA0RUMPafCje188fiKGkNgplbmRzdHJlYW0KZW5kb2JqCjI2IDAgb2JqCjw8IC9GaWx0ZXIgL0ZsYXRlRGVjb2RlIC9MZW5ndGggMTEyID4+CnN0cmVhbQp4nDWMyw3EQAhD71OFS+DPUE9We8r2f10GJULCD2w5IkEzERvJgQ+vc/6WpM7jXpr+0AlRqwePWiaEs4lzP1Q1Fs0WckhZ15ntoVOnsJJDTnAXqCqCWkUQxriWssLLodQJK8g2OFk7b+O9vn9DCiPoCmVuZHN0cmVhbQplbmRvYmoKMjcgMCBvYmoKPDwgL0ZpbHRlciAvRmxhdGVEZWNvZGUgL0xlbmd0aCAzNTAgPj4Kc3RyZWFtCnicRZJLdsUwCEPnbxUswRiM7fW0p6N2/9NekX4mQUE2kUSqtg3bwaM8bXvZu7/6/UtFjc9X5PxFtxplcmscS87UTXt7rVFW+9qKabW2reVWc4spupeO2FpPjRAjNCad0ZPWSiaXmNiWDuvTgrvJyTguZtKpw9llwVnNCNedYtI8q43MvE9FIwzId1qh0fGy7jT3Vr2PcWUV/vl+SofarqGWN5hgWRyftDN4Qc8kHn170OusPl+OpPRFajGjEWFhViiuqgzBzOhBvGkYJhJByRpyXTHYyU33EDJhq64p441SzEAvjGI9MpHELfOZ3qYTzdV34p5eQuCgMBTuXd9ar9C/8gcxEAt4A+BgN9CYIw9u57T8aYSQaxhMYtPH/hHv+juuE5h2S/0JFFTJPtnAeeqzm0ZBZ1ybGEnCmrunse+p3SNewjMOtUPCZMiWdi9b/E3xZyv+bLWHj2+hy4rECmVuZHN0cmVhbQplbmRvYmoKMjggMCBvYmoKPDwgL0ZpbHRlciAvRmxhdGVEZWNvZGUgL0xlbmd0aCAyOTIgPj4Kc3RyZWFtCnicJVJLbgUxCNvnFL5ApfAn55nqrV7vv63JLEYQIMZ2plSxERs/Isg2lDZ+ZUU3NAR/a4qqhe/KNIgfJE99EBXg6VmhhgPPF8Q6b3yW7XMz9YRDTsOC5QuREFF+gi5IzXgq1GS46IkJxn1E33ArpLOkOIqIHhTdSCFskncklHn24CvBSwymftUYpUx8lse5WQgjyUU2smZJCjfMFkoOCsiiKdzA9VVU2ZQfFBhkE5acKdIJMhjmToykNjdy8LoWTKQFtm+mzY7RSOa5p6NCpBYIO+FBHeSzB03C4UFXOOvEn2iUP84xowkyeumilEP37Zyp8smoTKhb5z4nuec4ml4OtQOrnkDKdJqJV2II0C6RMS8GlnSi5sXGjPc/eNbnHx7UZ4EKZW5kc3RyZWFtCmVuZG9iagoyOSAwIG9iago8PCAvRmlsdGVyIC9GbGF0ZURlY29kZSAvTGVuZ3RoIDc5ID4+CnN0cmVhbQp4nE3NMRKAMAgEwJ5X8AQuICT/cazi/1sh42gaboHi3IOFY+RwKAecT9Da74o6TDpGbHJFCmGbDK2+IZu09ff7q1uimj5I5uqbdD2T3htmCmVuZHN0cmVhbQplbmRvYmoKMzAgMCBvYmoKPDwgL0ZpbHRlciAvRmxhdGVEZWNvZGUgL0xlbmd0aCA1NyA+PgpzdHJlYW0KeJwzNTVTMFAwNwYSpkaGCuaGZgophlxgfi6IAgnkcBmaWSCxLEyADJBqOMMASIP15HClAQB+bw+xCmVuZHN0cmVhbQplbmRvYmoKMzEgMCBvYmoKPDwgL0ZpbHRlciAvRmxhdGVEZWNvZGUgL0xlbmd0aCAxMTMgPj4Kc3RyZWFtCnicPU6xEQMxCOs9hUZAgMGeJ7lUn/3bYL8/DRISIIYZBOmr9EQy8Gbb/XfBEq6mzMNsBFRmMRcFg3AaqAFXAcXwaq6jlAl31kTC+4BylBMm584TdjMpjIg/9rkTam8plraR5cTO5pndf17t8wN+YCW1CmVuZHN0cmVhbQplbmRvYmoKMzIgMCBvYmoKPDwgL0ZpbHRlciAvRmxhdGVEZWNvZGUgL0xlbmd0aCA3NCA+PgpzdHJlYW0KeJw1jLkRwDAIBHOqoASd+Mb9eBzJ/acWCCfcsgwXc/Lg8D1cN8D5BtX+ZqRYhJAm04th2nTc/3ho1E0q4cHm0pSmmhc9H174FwsKZW5kc3RyZWFtCmVuZG9iagozMyAwIG9iago8PCAvRmlsdGVyIC9GbGF0ZURlY29kZSAvTGVuZ3RoIDIwMSA+PgpzdHJlYW0KeJxFUEmSAyEMu/MKPwG8yPCeTM2p8/9rZFOVHBoJvEhqIGVK1gF1yQX5W6Pv74J6eIb5l53b5MapZeIByXnkNfwsMpNQriIPd0EGK4EtiCOxU2AQTOUHVsBNkWjp7i/sbcWcqpgudtiFEAuvbQqxpa2s1LGIxtdYqc2eZpPYOe7VaOU9LLLZM3ztZg6u2AxEc97SUbFMpYQc3hhttxkDBGeDc1Fxt1X4fa06fydYdTeGqfCufNHDEBX+2i28dov9/D3j/wPzQEt+CmVuZHN0cmVhbQplbmRvYmoKMzQgMCBvYmoKPDwgL0ZpbHRlciAvRmxhdGVEZWNvZGUgL0xlbmd0aCAyNzggPj4Kc3RyZWFtCnicRZG7cQQxDEPzrYIlUPxK9ZzH0br/1ADlGQd3xAr8PFFtJip9+KdHepV8rWe+fxh48D5+6k9F6ajUPQUZSwru58kOqe1SihNklSHahlPISeRUItJhhAsHKupIeUhYTa0fY7fa4tmSq8U9JeKIG+cE5vhC/nFxNZCU2FHWoItVzAxzl9wp6yQckiroE3mMAZqFjrzPRg4oIsWMFC0WzTmosVbwuNgucWzDpptXYjIoEu7Cz2uI4BgcbMcV1Gujzid+ntVXvaPI0BeJn6HctnePApTpqEgAYVD0lljOK+LCgSfj+gJjeeXIWX8U8nCS6Hd64l3yKHTKUKwEtYuLJm4cPhHq0vAEdzrjxaX653uf719lwWhXCmVuZHN0cmVhbQplbmRvYmoKMzUgMCBvYmoKPDwgL0ZpbHRlciAvRmxhdGVEZWNvZGUgL0xlbmd0aCA0MzkgPj4Kc3RyZWFtCnicLZPLcQQxCETvEwUJbJX4SopnXT7Z+V/9YH2CkVDT3TBVW5ZEyktVSlO2HfnShxPzJb+PepAd+SE7YstE44huYgX5lfej+4paceuiiyovucGF1ZGzxBe4Lh7V4f34sU5CXfaRCJXTMFFX7pXgQzUkG827PrVEUyXNp/PEadCZcdsV3bXfWPabuEsMwAa1QzMn3uwba0bQobfTx9XE0QpdCDZJW1SU0ovb3W80OLk+vAKX7h7a7wd1gYWQijshvY874RidBZbSrdwaB75V4MCxzkYFFqzma9xvheOumYFbTMStvSeLPtFWRFyNlitASXoWqEsyj5TtvoFXgp0X17I+uY5jvMy1mWcTzoT4oeYUSwAnXeNQwheH8K3YBKd7R1juNZnZpSJm4qU+OwDa/WxFS5/ozWUybTeZAlNROMWe9Vioyc3E2k4cBjGslQX1gbrW6uxD3J7XKKPGqc+CFxwT/b4ardgyA7e32ECbOD511iyKOkVLMpfP+mBa+9Z+0+yw2NXdY8sLY5bOb+G5JkL4fH4UY8gUaE+wZj16u5lzuyKnsy5PFtl7YFSa/P9S7+f7D4E2pEkKZW5kc3RyZWFtCmVuZG9iagozNiAwIG9iago8PCAvRmlsdGVyIC9GbGF0ZURlY29kZSAvTGVuZ3RoIDY4ID4+CnN0cmVhbQp4nDMzNFQwUDAyBhKmloYK5oZmCimGXEamlkCBXDBtZmyokMMFVAFngBTlcMGUQ1gQSWNTEySWAUg52KQcrjQAFgwUGwplbmRzdHJlYW0KZW5kb2JqCjM3IDAgb2JqCjw8IC9GaWx0ZXIgL0ZsYXRlRGVjb2RlIC9MZW5ndGggMTkzID4+CnN0cmVhbQp4nE2QQXJDMQhD9z6FLtAZIzDY5/mdrNL7byt+kk5XPGMQgiIxUQdfZsggyhLfNlbUjT/jk3ze5JNvok+kO6yItILpfY2chr2xyrACiwfcSsdOEKGSnuPJO16DJ26iH9mwUyKlTb2xYAzUhs0UUnkpW2bbJe/Qdq4heDm08n/k09/EkHgraZwdca4ermbzJS1FU9WakAN9qHTLpmlzychMtauQN0Fo4V6xu9k7Lxctom9G6XTs2dffFZ/j8QtapUMmCmVuZHN0cmVhbQplbmRvYmoKMzggMCBvYmoKPDwgL0ZpbHRlciAvRmxhdGVEZWNvZGUgL0xlbmd0aCA5OCA+PgpzdHJlYW0KeJw1jbENxDAMA3tNwRFM05KiefL4Kr9/+4qRFAKIE3iMSAysvvBCMvChzWM2+Nna4DKOfNIsgXUnNaMvaA6QDonIwmlabJBQP+kBRe3KaR56NO9Wa7ozbvGevOz7B8FBG4sKZW5kc3RyZWFtCmVuZG9iagozOSAwIG9iago8PCAvRmlsdGVyIC9GbGF0ZURlY29kZSAvTGVuZ3RoIDUyID4+CnN0cmVhbQp4nDM1NVMwUNA1NAFiSwsFUzNzIMPYRCHFkAsumAtlAoVzuOAqYEygghyE2hyuNACK7Q/eCmVuZHN0cmVhbQplbmRvYmoKNDAgMCBvYmoKPDwgL0ZpbHRlciAvRmxhdGVEZWNvZGUgL0xlbmd0aCA0MzcgPj4Kc3RyZWFtCnicNZJJciUxCET3dQou4AgxaDrP7/DKff9tv6TciyqQEJCZMOeyYbnsy92ml80c9sefGmWr7O+T2xXOGuYYHzbt88QZ9jUtandieLb9PD7fUu5hYSeMcp9nUvuozE39PTeXclZY8fhM+lqMxfWibGyjQVTZvRZTr923xbrkHot9OzWOEpxTXJ4PMm+Rhk8eHQCSY9OStuTn5YuOyKPza89rZ/yPHG7OBRp5O63iKDKHld6iQ02hiLaoAcm+GbIIBfjKxrbwAoaFdnc285z3lUTS/jycCowqRhAetSSZj2OFfp5pc0j8zXyEMAZqxstT04pWTzniJi/RUC8SuTXTzyMMk5EWnOvyTfytSRZ1Sxg2rKhYh6gLex3eiBEqtwqy2dXwAj1/2vOcxJhYdekljAVXwRsMaTSG0SgCSxY8HHpDotjvqr3SB+RZuvXuloYWCBnajtAaqG1I0KutQ1Bgx7gtNTcjzTUAiHupSe8koH0dgBKBeNvsHHmqwlJdmLC8p8XfDUnznEJQ1jsYFNH5HkUThff9XQz2LreKYY+a9zwuECAkYs4+NcF3l36p/jzf/wAZT6ZTCmVuZHN0cmVhbQplbmRvYmoKNDEgMCBvYmoKPDwgL0ZpbHRlciAvRmxhdGVEZWNvZGUgL0xlbmd0aCAyNTEgPj4Kc3RyZWFtCnicTZFLbsRACET3fQouMBL/bs7j0ayc+29T4ImUhUWJooGHI5KYMuglQiFBW5LessQ38j8LDtPdoY17Sdg/5dmmFFNwktqmMCatmHgt0ydjgahGdhJDBI6Lk9chN3yHybGHowrOhmPofYqcA1VFthVOMJTVrGnsEzX7TSvZ6FRGgir3opwxaCCYGzqAWjLxWqo1Sg4+p8YF4/XlBpODJw0XGMWoCpRhS9nQeroWmx0DdvYwPf7MNNUWFrjZBjJW+iL3KMApdqonavaZWvWpusLmDbCBgV4BKEdW+zwHQ85EAABxMvgZXSHt8KyFnrabKefdH8q1Pr/wIlwGCmVuZHN0cmVhbQplbmRvYmoKNDIgMCBvYmoKPDwgL0ZpbHRlciAvRmxhdGVEZWNvZGUgL0xlbmd0aCAyNDYgPj4Kc3RyZWFtCnicNVFJcgQxCLv7FfpAqgzCxn5Pp3JK/n+NYGYOXcLGaKHXnJjgxZcZ4hoWJ75txAzYnfgbdWl58TviqLKLWIl0hJ0afAbVXSCtSTxX4zN8siuLDXOYjuvofk/VUbOWre0iFM0FjQixbsdOlIdnnIUogmplwlb5LBo7kpUdl+NyXcKFYuIrB/V+meabtjQiyr6+t/84LrXd6gkuKibFS71mRk9yCWnNKx4xcGpSUTxvo6IyujI5i/AOFlZeTCemOq45f6Hv7qiqFdcLq2VsfbOT3YXcHWzXQqNA8mqqILV+gUiu1/Vhb4fSrlV/ft0zfv4BzmpYzQplbmRzdHJlYW0KZW5kb2JqCjQzIDAgb2JqCjw8IC9GaWx0ZXIgL0ZsYXRlRGVjb2RlIC9MZW5ndGggMjU3ID4+CnN0cmVhbQp4nDVQMZIDMQjr/Qo+kBmDANvvSeaqzf/bE3hSSYtXICkiZQpcXqri22VpykeHT+P825ghz0AeUReY9q8Wq/E9TKOZrkWFOsTAsc4tHrJVOE8T1c0pXzV23bMZDXE4JoFOcRNwb9LQqTGV7tw8Ib5cFPw+WcuXSnChURSY3IJGumGEYlCToBFQE1ovSAY8S7AraJ1IGuzrZBX7Gb8CLpuF3cMz1KK9fpvpYSBspiVmMlxd0OMV1owR2BDnWQVhehGAV1KQrGDuPsu6cMT5rns1WpSiGIxl8A8weGn8ahBdCWjLWaTlRQa3y5Qab1sufm3RKBZfaBz09ovyHn//45VeggplbmRzdHJlYW0KZW5kb2JqCjQ0IDAgb2JqCjw8IC9GaWx0ZXIgL0ZsYXRlRGVjb2RlIC9MZW5ndGggMjU1ID4+CnN0cmVhbQp4nDVQyW0EMQz7uwo2EECnZdezQV6b/r+hNBuMByJskZSYuSHwwpcqUhPpgm9dYQrdhd+ValB2vVfcgoohSrAV4Qae1/Lr4BcxInae+lomZ5AGeRQRRx7e5yWONtUab8tsmaKGga+hMh0x7RoHKRsmNdNZ3alk9AtRSE5HBLnkvziqU8VmI4891XZzBmXwJmAcbCqt6WM16L2UmkoXJVOdfyXn2bNSoDhKTAK96u5NXXeDjmBfOHM73e3nPoFJB8DZPqHSq7OTy3jDHsR49cDTp9sP5ya7MXU67aC+PZnYkU825ve5YQJBd63DvcchGe3lHk4l7vvv+Fo/f0kXXLoKZW5kc3RyZWFtCmVuZG9iago0NSAwIG9iago8PCAvRmlsdGVyIC9GbGF0ZURlY29kZSAvTGVuZ3RoIDE3MyA+PgpzdHJlYW0KeJxNULsRQzEI6z2FRuBr8DzJpXrZvw3wcrkUtoR0BmH3DcLuyzIRvPHkNfW7oYVrsdsfMz/NjsFpQ2zDlaB0Bh9LLW4lGS4Ca4eiHNOAnVI8YcF1aqx5O1kq54TQODfKGScrzLWM6IftfFko9FQX8uLVUbqbukxfrcrcIYcHH0v2V7GenBCuRGrl9D4mBI5KQQLed5JyKq3WP/XuKjYoOW+Kdab5r2u9PvyNPrMKZW5kc3RyZWFtCmVuZG9iago0NiAwIG9iago8PCAvRmlsdGVyIC9GbGF0ZURlY29kZSAvTGVuZ3RoIDY3ID4+CnN0cmVhbQp4nDMyMlIwUDAzAxKGpiYK5oZmCimGXEC+maGpQi6IARLK4YJJQlggyRyYKjDDAKLY1NASqgTBMoCpyOFKAwCVehVMCmVuZHN0cmVhbQplbmRvYmoKNDcgMCBvYmoKPDwgL0ZpbHRlciAvRmxhdGVEZWNvZGUgL0xlbmd0aCA4NyA+PgpzdHJlYW0KeJxNjLERwDAIA3tPwQiAjcD75FIl+7cBx7lLgx6QZMzEBOQYE+QCOqSt/S6pw9XExo86R1KHkslMGo5N6kFdy1dlXK6IpZpphe0G5a+rfnit5wNRixrkCmVuZHN0cmVhbQplbmRvYmoKNDggMCBvYmoKPDwgL0ZpbHRlciAvRmxhdGVEZWNvZGUgL0xlbmd0aCA0OCA+PgpzdHJlYW0KeJwzMjJSMFAwMwEShqZGCuaGZgophlxgfi6IAgnkcMGkICwDIA1WkcOVBgCADgwlCmVuZHN0cmVhbQplbmRvYmoKNDkgMCBvYmoKPDwgL0ZpbHRlciAvRmxhdGVEZWNvZGUgL0xlbmd0aCAyNzQgPj4Kc3RyZWFtCnicTVJLdsQwCNv7FBzB/PF5pq+r6f23FTjT10UiYoGQkpQqbYrALeOQ66YvXvP80+B86L3Y/F9lFl0FkyUTl5AdJtkY30mvJYo5EZLIEdQtg6+ltu8J5rpDDzp3gDHZUMGlRYY5M6CeZuqAgbZdldj1qEVctWiWnVIwV+0gHS79TCRrBqjee7racB/Ff6iYeypkiizSCiBywXnvCagUBRSs9xmS2zgQnNiBJ+xxI6+Lr+Uu9wQprfsP8nB7szTkVqREfnQMbm4GVXtSdHxQNT9VBvxh33bMQVW832i/LwPLNvuk5HEgnvdEwViSMHZqM3x6Gl8ucxJyIHG2N/YabfZWjEGJM8z1NH/Ge33/Amewap8KZW5kc3RyZWFtCmVuZG9iago1MCAwIG9iago8PCAvRmlsdGVyIC9GbGF0ZURlY29kZSAvTGVuZ3RoIDE4MSA+PgpzdHJlYW0KeJxNUEESAjEIu/cVPKEQ6MJ7dDzp/68GHB0P2wRS0rARR7acPjwvCWy565r61RBa8lzq8cecH1lCYqsYcsage/C24PrpXOyYC6p9QMXNOGN0sHnOg26nWjnJSsUvdq2o8sb2VjIEmXMfUR/UmSHbTIKqH0Ljy+iG4iwdkTWc2dqXWTqbWztCnBtQQW+W4+DhYmWDt2U8p2M6ybVYa8/ooQMrpQqvQcvetFlnmj/5XI83nlNDuwplbmRzdHJlYW0KZW5kb2JqCjUxIDAgb2JqCjw8IC9GaWx0ZXIgL0ZsYXRlRGVjb2RlIC9MZW5ndGggMjMyID4+CnN0cmVhbQp4nC1QQZLEQAi65xV+YKtaRTv9ntma2/7/umBygsRGwKq2ZZn2427lxyqX/frFP1HH/kSyysgRbe5p2Gmfy2vzvVt4jCZ2D36uxB6GRdlqQ7mhNcHhFzfIJ3EGozcnw9bi+2NOPW4iOTV9bHNBMgBh0XFMOpU7fILLXPi5Yj1VHDAmc+28ZVDkUFHntrcdWwTenmJ+OM6bYiJzucvKT9neFhnWj1XLKZmDJHlATvOu9zkcswDBCgeD0aEJWYZOwCAbo8FSOl0YrJc8A5hXJpjcchVTCL1QrEejoLnpyuAZDz6lvv9UzlbCCmVuZHN0cmVhbQplbmRvYmoKNTIgMCBvYmoKPDwgL0ZpbHRlciAvRmxhdGVEZWNvZGUgL0xlbmd0aCAyNzYgPj4Kc3RyZWFtCnicTZFLcsMwDEP3PgUvkBnxK+k86XSV3H/bR7npdGGThigAhDNLhlTJQ/eS1JL0IV96faB3d6lbXpfG/y5Su6uQmFN0gewppoOZIc/LPCTNxcoOp+2b+3l5jNP53MwuCXXuFicREza+pkmEgjK1Nyc5pnjO49DVTrXyPumuVUeJohULN9Y6UUuwFsgFLkeIWcsDQ4uBhyq27orh+kUw/kg4VSawNt+GegkHmmwVDfM+Ab3+orpzMRJ9n04X15IHA52PjtUybDsZY6AQW9EFV0RF49zGswPriTFYVoNIDIIdp1q1g+56i57oKH3l6eFKQmVlZyKOyDoV8Rw3op2LH4txbGn1DwHBl5vJZ5Xn9f0DZepl8gplbmRzdHJlYW0KZW5kb2JqCjUzIDAgb2JqCjw8IC9GaWx0ZXIgL0ZsYXRlRGVjb2RlIC9MZW5ndGggMTQ0ID4+CnN0cmVhbQp4nE2PMbIDIQxD+z2Fj2DJNrDnyZ9fbe7fRoYUKUACzZPHEWFuo3RFTqtw+8O13++Wwm3Phcwfl+nthtwchkUrd6NOgfa6CBUxjTF2IeuoknVcQMrvSG+mf5Ldy1u9QeMM6S2aW0XHcURJY09MNo0lBm4QE+IxpsXMTkouaSglvrZyYie9+XN2fa7/D8M0MY8KZW5kc3RyZWFtCmVuZG9iago1NCAwIG9iago8PCAvRmlsdGVyIC9GbGF0ZURlY29kZSAvTGVuZ3RoIDQwOCA+PgpzdHJlYW0KeJwtkzlyA0EIRfM5BRdQVbP0dh65HNn3T/0+cqCBoaf5C2iOYcPS7eVutdxmDvvyh4rPab+P+zFfx34ejzDP5LfMB7957Bx7P36G7WHhYTSI2eH9xO0kubauZYWdSTmp+aC+ifEfK3WibKXlAmgfrkzzO3Qi2EtlpMU4YEyL0IlfEEWoFtXRHYP77+dS2GV7W9BjFSLFaoKYYbROmigclUlqlNGhYop2lchumTLtLKsj2mV1S7C4MnmTFxPdvgbxthl0CbDHbS9FThE/9idLvp8BH0TrroQLmZO7wYEJVcFCi05iUnQpMAsX82PjXFiXzCUxPK8cFvnRhlf2N9hVSApMKKYVlR3hMqIz36po1vTPHibPCimjGxoU83qfkO3bO5BM1AsrVw+hGI3Mn7dV+cbW3O0G32a2GylXxNXloJ6hkYoXnuWJnhea2a1gDaQ9Cuboitg9JO6M3XvqJz5xysHOpJu3O1v+0jTaMyhcKIDRqyfwuPYSfvTei9Wrt0PTUyaNdNLGUWWfYAkNufz5Y7yf7z+F45iZCmVuZHN0cmVhbQplbmRvYmoKNTUgMCBvYmoKPDwgL0ZpbHRlciAvRmxhdGVEZWNvZGUgL0xlbmd0aCAxNzAgPj4Kc3RyZWFtCnicRVA5DsMwDNv9Cn4ggEUfst6TolP7/7WUUySLSZCySJu+UGELxwTd4LXiZYVjwQPfkprhU9gHjgay7cnaE85iziTWHYcGW8VK1ZgrTbuaIRp6qmtgdiwiIk8bTJHooypA8zcZFiKybjIVIGvGLnixy8ymD/uvkPswu+8a1dH13DqEHbHLuiOkK0UNbamcpRwTclgFA1SC4CzkJuyE6x+ubzrL+wcyhj2JCmVuZHN0cmVhbQplbmRvYmoKNTYgMCBvYmoKPDwgL0ZpbHRlciAvRmxhdGVEZWNvZGUgL0xlbmd0aCAxODkgPj4Kc3RyZWFtCnicTVDBbQAxCPtnCi9QKUAgME+rvq77f2uSq9QHMjJgA+6BiVj4EMHKBZfCl4w1m/85uAPPsHBIwmSeVl1y8HPoy0iSYY87grRoQTZkFkxRAZ9k0xCJvZCFYIM4yVZmD5cQrwO1m77LPENc/2Vq8maSbWeMnqSXZRuHHV2hC3WkFDzr7rknx4+TXifSFGFi3JNVM7vdxr9w2rYeMUuiVReKp4bCeJIwGvsZXYl3zb8/3mw2nnc+4/sX9s1EjAplbmRzdHJlYW0KZW5kb2JqCjU3IDAgb2JqCjw8IC9GaWx0ZXIgL0ZsYXRlRGVjb2RlIC9MZW5ndGggOTggPj4Kc3RyZWFtCnicNY3BDcAwCAP/TOERwAktmadVX+n+3zpS+gAsA+d0hyOaWq9CxsAdxljua/KXMy08t2KcoNdSHIizg10AFVPTOy5jlpABHro4dFFNP9SmjdqcP02cQYXNHTrt+QAByBvjCmVuZHN0cmVhbQplbmRvYmoKNTggMCBvYmoKPDwgL0ZpbHRlciAvRmxhdGVEZWNvZGUgL0xlbmd0aCAxMDkgPj4Kc3RyZWFtCnicTY6xDUQxCEN7pvAIgZCQzJPTVfz9229yzRXgh5Atj9bQYLU8NoZufFTu/ZSEIqUPfjkkNbgvWCxqwOpDPdL3hSyolBSf/Y98ll+XQXtlqq1fuM5AOCs4YsJopxypNoS8UNbbKeX7AqlwIcYKZW5kc3RyZWFtCmVuZG9iago1OSAwIG9iago8PCAvQkJveCBbIC02NjUgLTMyNSAyMDAwIDEwNDAgXSAvRmlsdGVyIC9GbGF0ZURlY29kZSAvTGVuZ3RoIDM1Ci9TdWJ0eXBlIC9Gb3JtIC9UeXBlIC9YT2JqZWN0ID4+CnN0cmVhbQp4nOMyNbJQMDY0UsjlMjUDM3LADEsTEAMkh2CBJdMA7sYJtQplbmRzdHJlYW0KZW5kb2JqCjE0IDAgb2JqCjw8IC9CYXNlRm9udCAvQXJpYWxNVCAvQ2hhclByb2NzIDE1IDAgUgovRW5jb2RpbmcgPDwKL0RpZmZlcmVuY2VzIFsgMzIgL3VuaTAwMDAwMDAzIDQ2IC91bmkwMDAwMDAxMSA0OCAvdW5pMDAwMDAwMTMgL3VuaTAwMDAwMDE0Ci91bmkwMDAwMDAxNSAvdW5pMDAwMDAwMTYgL3VuaTAwMDAwMDE3IC91bmkwMDAwMDAxOCAvdW5pMDAwMDAwMTkgNTYKL3VuaTAwMDAwMDFiIDY1IC91bmkwMDAwMDAyNCAvdW5pMDAwMDAwMjUgL3VuaTAwMDAwMDI2IDY5IC91bmkwMDAwMDAyOCA3NgovdW5pMDAwMDAwMmYgL3VuaTAwMDAwMDMwIC91bmkwMDAwMDAzMSA4MCAvdW5pMDAwMDAwMzMgODIgL3VuaTAwMDAwMDM1Ci91bmkwMDAwMDAzNiAvdW5pMDAwMDAwMzcgL3VuaTAwMDAwMDM4IC91bmkwMDAwMDAzOSA5NSAvdW5pMDAwMDAwNDIgOTcKL3VuaTAwMDAwMDQ0IC91bmkwMDAwMDA0NSAvdW5pMDAwMDAwNDYgL3VuaTAwMDAwMDQ3IC91bmkwMDAwMDA0OCAxMDQKL3VuaTAwMDAwMDRiIC91bmkwMDAwMDA0YyAxMDcgL3VuaTAwMDAwMDRlIC91bmkwMDAwMDA0ZiAvdW5pMDAwMDAwNTAKL3VuaTAwMDAwMDUxIC91bmkwMDAwMDA1MiAvdW5pMDAwMDAwNTMgMTE0IC91bmkwMDAwMDA1NSAvdW5pMDAwMDAwNTYKL3VuaTAwMDAwMDU3IC91bmkwMDAwMDA1OCAvdW5pMDAwMDAwNTkgMTIyIC91bmkwMDAwMDA1ZCBdCi9UeXBlIC9FbmNvZGluZyA+PgovRmlyc3RDaGFyIDAgL0ZvbnRCQm94IFsgLTY2NSAtMzI1IDIwMDAgMTA0MCBdIC9Gb250RGVzY3JpcHRvciAxMyAwIFIKL0ZvbnRNYXRyaXggWyAwLjAwMSAwIDAgMC4wMDEgMCAwIF0gL0xhc3RDaGFyIDI1NSAvTmFtZSAvQXJpYWxNVAovU3VidHlwZSAvVHlwZTMgL1R5cGUgL0ZvbnQgL1dpZHRocyAxMiAwIFIgPj4KZW5kb2JqCjEzIDAgb2JqCjw8IC9Bc2NlbnQgOTA2IC9DYXBIZWlnaHQgNzE2IC9EZXNjZW50IC0yMTIgL0ZsYWdzIDMyCi9Gb250QkJveCBbIC02NjUgLTMyNSAyMDAwIDEwNDAgXSAvRm9udE5hbWUgL0FyaWFsTVQgL0l0YWxpY0FuZ2xlIDAKL01heFdpZHRoIDEwMTUgL1N0ZW1WIDAgL1R5cGUgL0ZvbnREZXNjcmlwdG9yIC9YSGVpZ2h0IDUxOSA+PgplbmRvYmoKMTIgMCBvYmoKWyA3NTAgNzUwIDc1MCA3NTAgNzUwIDc1MCA3NTAgNzUwIDc1MCA3NTAgNzUwIDc1MCA3NTAgNzUwIDc1MCA3NTAgNzUwIDc1MAo3NTAgNzUwIDc1MCA3NTAgNzUwIDc1MCA3NTAgNzUwIDc1MCA3NTAgNzUwIDc1MCA3NTAgNzUwIDI3OCAyNzggMzU1IDU1NiA1NTYKODg5IDY2NyAxOTEgMzMzIDMzMyAzODkgNTg0IDI3OCAzMzMgMjc4IDI3OCA1NTYgNTU2IDU1NiA1NTYgNTU2IDU1NiA1NTYgNTU2CjU1NiA1NTYgMjc4IDI3OCA1ODQgNTg0IDU4NCA1NTYgMTAxNSA2NjcgNjY3IDcyMiA3MjIgNjY3IDYxMSA3NzggNzIyIDI3OAo1MDAgNjY3IDU1NiA4MzMgNzIyIDc3OCA2NjcgNzc4IDcyMiA2NjcgNjExIDcyMiA2NjcgOTQ0IDY2NyA2NjcgNjExIDI3OCAyNzgKMjc4IDQ2OSA1NTYgMzMzIDU1NiA1NTYgNTAwIDU1NiA1NTYgMjc4IDU1NiA1NTYgMjIyIDIyMiA1MDAgMjIyIDgzMyA1NTYgNTU2CjU1NiA1NTYgMzMzIDUwMCAyNzggNTU2IDUwMCA3MjIgNTAwIDUwMCA1MDAgMzM0IDI2MCAzMzQgNTg0IDc1MCA1NTYgNzUwIDIyMgo1NTYgMzMzIDEwMDAgNTU2IDU1NiAzMzMgMTAwMCA2NjcgMzMzIDEwMDAgNzUwIDYxMSA3NTAgNzUwIDIyMiAyMjIgMzMzIDMzMwozNTAgNTU2IDEwMDAgMzMzIDEwMDAgNTAwIDMzMyA5NDQgNzUwIDUwMCA2NjcgMjc4IDMzMyA1NTYgNTU2IDU1NiA1NTYgMjYwCjU1NiAzMzMgNzM3IDM3MCA1NTYgNTg0IDMzMyA3MzcgNTUyIDQwMCA1NDkgMzMzIDMzMyAzMzMgNTc2IDUzNyAzMzMgMzMzIDMzMwozNjUgNTU2IDgzNCA4MzQgODM0IDYxMSA2NjcgNjY3IDY2NyA2NjcgNjY3IDY2NyAxMDAwIDcyMiA2NjcgNjY3IDY2NyA2NjcKMjc4IDI3OCAyNzggMjc4IDcyMiA3MjIgNzc4IDc3OCA3NzggNzc4IDc3OCA1ODQgNzc4IDcyMiA3MjIgNzIyIDcyMiA2NjcgNjY3CjYxMSA1NTYgNTU2IDU1NiA1NTYgNTU2IDU1NiA4ODkgNTAwIDU1NiA1NTYgNTU2IDU1NiAyNzggMjc4IDI3OCAyNzggNTU2IDU1Ngo1NTYgNTU2IDU1NiA1NTYgNTU2IDU0OSA2MTEgNTU2IDU1NiA1NTYgNTU2IDUwMCA1NTYgNTAwIF0KZW5kb2JqCjE1IDAgb2JqCjw8IC91bmkwMDAwMDAwMyAxNiAwIFIgL3VuaTAwMDAwMDExIDE3IDAgUiAvdW5pMDAwMDAwMTMgMTggMCBSCi91bmkwMDAwMDAxNCAxOSAwIFIgL3VuaTAwMDAwMDE1IDIwIDAgUiAvdW5pMDAwMDAwMTYgMjEgMCBSCi91bmkwMDAwMDAxNyAyMiAwIFIgL3VuaTAwMDAwMDE4IDIzIDAgUiAvdW5pMDAwMDAwMTkgMjQgMCBSCi91bmkwMDAwMDAxYiAyNSAwIFIgL3VuaTAwMDAwMDI0IDI2IDAgUiAvdW5pMDAwMDAwMjUgMjcgMCBSCi91bmkwMDAwMDAyNiAyOCAwIFIgL3VuaTAwMDAwMDI4IDI5IDAgUiAvdW5pMDAwMDAwMmYgMzAgMCBSCi91bmkwMDAwMDAzMCAzMSAwIFIgL3VuaTAwMDAwMDMxIDMyIDAgUiAvdW5pMDAwMDAwMzMgMzMgMCBSCi91bmkwMDAwMDAzNSAzNCAwIFIgL3VuaTAwMDAwMDM2IDM1IDAgUiAvdW5pMDAwMDAwMzcgMzYgMCBSCi91bmkwMDAwMDAzOCAzNyAwIFIgL3VuaTAwMDAwMDM5IDM4IDAgUiAvdW5pMDAwMDAwNDIgMzkgMCBSCi91bmkwMDAwMDA0NCA0MCAwIFIgL3VuaTAwMDAwMDQ1IDQxIDAgUiAvdW5pMDAwMDAwNDYgNDIgMCBSCi91bmkwMDAwMDA0NyA0MyAwIFIgL3VuaTAwMDAwMDQ4IDQ0IDAgUiAvdW5pMDAwMDAwNGIgNDUgMCBSCi91bmkwMDAwMDA0YyA0NiAwIFIgL3VuaTAwMDAwMDRlIDQ3IDAgUiAvdW5pMDAwMDAwNGYgNDggMCBSCi91bmkwMDAwMDA1MCA0OSAwIFIgL3VuaTAwMDAwMDUxIDUwIDAgUiAvdW5pMDAwMDAwNTIgNTEgMCBSCi91bmkwMDAwMDA1MyA1MiAwIFIgL3VuaTAwMDAwMDU1IDUzIDAgUiAvdW5pMDAwMDAwNTYgNTQgMCBSCi91bmkwMDAwMDA1NyA1NSAwIFIgL3VuaTAwMDAwMDU4IDU2IDAgUiAvdW5pMDAwMDAwNTkgNTcgMCBSCi91bmkwMDAwMDA1ZCA1OCAwIFIgPj4KZW5kb2JqCjMgMCBvYmoKPDwgL0YxIDE0IDAgUiA+PgplbmRvYmoKNCAwIG9iago8PCAvQTEgPDwgL0NBIDAgL1R5cGUgL0V4dEdTdGF0ZSAvY2EgMSA+PgovQTIgPDwgL0NBIDEgL1R5cGUgL0V4dEdTdGF0ZSAvY2EgMSA+PgovQTMgPDwgL0NBIDAuOCAvVHlwZSAvRXh0R1N0YXRlIC9jYSAwLjggPj4gPj4KZW5kb2JqCjUgMCBvYmoKPDwgPj4KZW5kb2JqCjYgMCBvYmoKPDwgPj4KZW5kb2JqCjcgMCBvYmoKPDwgL2FyaWFsLXVuaTAwMDAwMGVkIDU5IDAgUiA+PgplbmRvYmoKMiAwIG9iago8PCAvQ291bnQgMSAvS2lkcyBbIDEwIDAgUiBdIC9UeXBlIC9QYWdlcyA+PgplbmRvYmoKNjAgMCBvYmoKPDwgL0NyZWF0aW9uRGF0ZSAoRDoyMDE5MDMwNTE1MDE1OCswOCcwMCcpCi9DcmVhdG9yIChtYXRwbG90bGliIDMuMC4yLCBodHRwOi8vbWF0cGxvdGxpYi5vcmcpCi9Qcm9kdWNlciAobWF0cGxvdGxpYiBwZGYgYmFja2VuZCAzLjAuMikgL1RpdGxlIChJbWFnZSkgPj4KZW5kb2JqCnhyZWYKMCA2MQowMDAwMDAwMDAwIDY1NTM1IGYgCjAwMDAwMDAwMTYgMDAwMDAgbiAKMDAwMDAyMzY5NyAwMDAwMCBuIAowMDAwMDIzNDM0IDAwMDAwIG4gCjAwMDAwMjM0NjYgMDAwMDAgbiAKMDAwMDAyMzYwOCAwMDAwMCBuIAowMDAwMDIzNjI5IDAwMDAwIG4gCjAwMDAwMjM2NTAgMDAwMDAgbiAKMDAwMDAwMDA2NSAwMDAwMCBuIAowMDAwMDAwMzg1IDAwMDAwIG4gCjAwMDAwMDAyMDggMDAwMDAgbiAKMDAwMDAwODYwMiAwMDAwMCBuIAowMDAwMDIxNTAxIDAwMDAwIG4gCjAwMDAwMjEzMDEgMDAwMDAgbiAKMDAwMDAyMDQwNyAwMDAwMCBuIAowMDAwMDIyNTUyIDAwMDAwIG4gCjAwMDAwMDg2MjMgMDAwMDAgbiAKMDAwMDAwODcxMiAwMDAwMCBuIAowMDAwMDA4ODI2IDAwMDAwIG4gCjAwMDAwMDkxNzEgMDAwMDAgbiAKMDAwMDAwOTM1OCAwMDAwMCBuIAowMDAwMDA5Njk4IDAwMDAwIG4gCjAwMDAwMTAxMzcgMDAwMDAgbiAKMDAwMDAxMDI5OSAwMDAwMCBuIAowMDAwMDEwNjE4IDAwMDAwIG4gCjAwMDAwMTEwNDQgMDAwMDAgbiAKMDAwMDAxMTUzMyAwMDAwMCBuIAowMDAwMDExNzE4IDAwMDAwIG4gCjAwMDAwMTIxNDEgMDAwMDAgbiAKMDAwMDAxMjUwNiAwMDAwMCBuIAowMDAwMDEyNjU3IDAwMDAwIG4gCjAwMDAwMTI3ODYgMDAwMDAgbiAKMDAwMDAxMjk3MiAwMDAwMCBuIAowMDAwMDEzMTE4IDAwMDAwIG4gCjAwMDAwMTMzOTIgMDAwMDAgbiAKMDAwMDAxMzc0MyAwMDAwMCBuIAowMDAwMDE0MjU1IDAwMDAwIG4gCjAwMDAwMTQzOTUgMDAwMDAgbiAKMDAwMDAxNDY2MSAwMDAwMCBuIAowMDAwMDE0ODMxIDAwMDAwIG4gCjAwMDAwMTQ5NTUgMDAwMDAgbiAKMDAwMDAxNTQ2NSAwMDAwMCBuIAowMDAwMDE1Nzg5IDAwMDAwIG4gCjAwMDAwMTYxMDggMDAwMDAgbiAKMDAwMDAxNjQzOCAwMDAwMCBuIAowMDAwMDE2NzY2IDAwMDAwIG4gCjAwMDAwMTcwMTIgMDAwMDAgbiAKMDAwMDAxNzE1MSAwMDAwMCBuIAowMDAwMDE3MzEwIDAwMDAwIG4gCjAwMDAwMTc0MzAgMDAwMDAgbiAKMDAwMDAxNzc3NyAwMDAwMCBuIAowMDAwMDE4MDMxIDAwMDAwIG4gCjAwMDAwMTgzMzYgMDAwMDAgbiAKMDAwMDAxODY4NSAwMDAwMCBuIAowMDAwMDE4OTAyIDAwMDAwIG4gCjAwMDAwMTkzODMgMDAwMDAgbiAKMDAwMDAxOTYyNiAwMDAwMCBuIAowMDAwMDE5ODg4IDAwMDAwIG4gCjAwMDAwMjAwNTggMDAwMDAgbiAKMDAwMDAyMDI0MCAwMDAwMCBuIAowMDAwMDIzNzU3IDAwMDAwIG4gCnRyYWlsZXIKPDwgL0luZm8gNjAgMCBSIC9Sb290IDEgMCBSIC9TaXplIDYxID4+CnN0YXJ0eHJlZgoyMzkyNgolJUVPRgo=\" download=\"Image.pdf\"></object>"
      ],
      "text/plain": [
       "<IPython.core.display.HTML object>"
      ]
     },
     "metadata": {},
     "output_type": "display_data"
    }
   ],
   "source": [
    "fig,ax=plt.subplots(figsize=(7,5))\n",
    "ax = sns.scatterplot(x='uca_score',y='knn_score',data = merge,hue='batch',style='normalization',size='impute')\n",
    "std_plot(ax,'UCA score','kNN score','method batch visualization')\n",
    "legend = ax.legend(prop=fontlegend,\n",
    "                  #labelspacing=labelspacing,borderpad=borderpad,handletextpad=handletextpad,\n",
    "                  edgecolor=\"#000000\",fancybox=False)\n",
    "ax.legend_.get_frame()._linewidth=0.5\n",
    "legend.get_title().set_fontweight('normal')\n",
    "legend.get_title().set_fontsize(6.5)\n",
    "\n",
    "fig.tight_layout()\n",
    "embed_pdf_figure()"
   ]
  },
  {
   "cell_type": "markdown",
   "metadata": {},
   "source": [
    "# merge knn-uca"
   ]
  },
  {
   "cell_type": "code",
   "execution_count": 93,
   "metadata": {},
   "outputs": [],
   "source": [
    "normlist= ['filter.null','filter.null.Norm_CPM',#'filter.null.Norm_CPM_rm',\n",
    "           'filter.null.Norm_CPM_top_5','filter.null.Norm_CPM_top_10',\n",
    "           'filter.null.Norm_CPM_top_20','filter.null.Norm_CPM_top_40',\n",
    "           'filter.null.Norm_RLE','filter.null.Norm_TMM','filter.null.Norm_UQ']"
   ]
  },
  {
   "cell_type": "code",
   "execution_count": 110,
   "metadata": {},
   "outputs": [],
   "source": [
    "batch_info = pd.read_table('/home/xieyufeng/fig3/data/merge/batch_info.txt',index_col=1)\n",
    "class_info = pd.read_table('/home/xieyufeng/fig3/data/merge/sample_classes.txt',index_col=0)"
   ]
  },
  {
   "cell_type": "code",
   "execution_count": 106,
   "metadata": {},
   "outputs": [
    {
     "data": {
      "application/vnd.jupyter.widget-view+json": {
       "model_id": "dbce06d5b0464e6e8cee99ae37cab855",
       "version_major": 2,
       "version_minor": 0
      },
      "text/html": [
       "<p>Failed to display Jupyter Widget of type <code>HBox</code>.</p>\n",
       "<p>\n",
       "  If you're reading this message in the Jupyter Notebook or JupyterLab Notebook, it may mean\n",
       "  that the widgets JavaScript is still loading. If this message persists, it\n",
       "  likely means that the widgets JavaScript library is either not installed or\n",
       "  not enabled. See the <a href=\"https://ipywidgets.readthedocs.io/en/stable/user_install.html\">Jupyter\n",
       "  Widgets Documentation</a> for setup instructions.\n",
       "</p>\n",
       "<p>\n",
       "  If you're reading this message in another frontend (for example, a static\n",
       "  rendering on GitHub or <a href=\"https://nbviewer.jupyter.org/\">NBViewer</a>),\n",
       "  it may mean that your frontend doesn't currently support widgets.\n",
       "</p>\n"
      ],
      "text/plain": [
       "HBox(children=(IntProgress(value=0, max=9), HTML(value='')))"
      ]
     },
     "metadata": {},
     "output_type": "display_data"
    },
    {
     "name": "stdout",
     "output_type": "stream",
     "text": [
      "\n"
     ]
    }
   ],
   "source": [
    "sampleclass = class_info\n",
    "uca_list=[]\n",
    "for i in tqdm(normlist):\n",
    "    table = pd.read_table('/home/xieyufeng/fig3/output/'+'merge'+'/matrix_processing/'+i+'.mirna_and_domains.txt',\n",
    "                           index_col=0)\n",
    "    uca_list.append(get_uca_score(table,sampleclass))"
   ]
  },
  {
   "cell_type": "code",
   "execution_count": 108,
   "metadata": {},
   "outputs": [],
   "source": [
    "uca_summary = pd.DataFrame(data={'preprocess_method':normlist,'uca_score':list(uca_list)})\n",
    "uca_summary = uca_summary.set_index('preprocess_method')"
   ]
  },
  {
   "cell_type": "code",
   "execution_count": null,
   "metadata": {},
   "outputs": [],
   "source": []
  },
  {
   "cell_type": "code",
   "execution_count": 113,
   "metadata": {},
   "outputs": [
    {
     "data": {
      "application/vnd.jupyter.widget-view+json": {
       "model_id": "84be75db428b49c9a9b4c3d6724e29d5",
       "version_major": 2,
       "version_minor": 0
      },
      "text/html": [
       "<p>Failed to display Jupyter Widget of type <code>HBox</code>.</p>\n",
       "<p>\n",
       "  If you're reading this message in the Jupyter Notebook or JupyterLab Notebook, it may mean\n",
       "  that the widgets JavaScript is still loading. If this message persists, it\n",
       "  likely means that the widgets JavaScript library is either not installed or\n",
       "  not enabled. See the <a href=\"https://ipywidgets.readthedocs.io/en/stable/user_install.html\">Jupyter\n",
       "  Widgets Documentation</a> for setup instructions.\n",
       "</p>\n",
       "<p>\n",
       "  If you're reading this message in another frontend (for example, a static\n",
       "  rendering on GitHub or <a href=\"https://nbviewer.jupyter.org/\">NBViewer</a>),\n",
       "  it may mean that your frontend doesn't currently support widgets.\n",
       "</p>\n"
      ],
      "text/plain": [
       "HBox(children=(IntProgress(value=0, max=9), HTML(value='')))"
      ]
     },
     "metadata": {},
     "output_type": "display_data"
    },
    {
     "name": "stdout",
     "output_type": "stream",
     "text": [
      "\n"
     ]
    }
   ],
   "source": [
    "sampleclass = batch_info.iloc[:,0]\n",
    "knn_list=[]\n",
    "for i in tqdm(normlist):\n",
    "    table = pd.read_table('/home/xieyufeng/fig3/output/'+'merge'+'/matrix_processing/'+i+'.mirna_and_domains.txt',\n",
    "                           index_col=0)\n",
    "    knn_list.append(get_knn_score(table,sampleclass))"
   ]
  },
  {
   "cell_type": "code",
   "execution_count": 114,
   "metadata": {},
   "outputs": [],
   "source": [
    "knn_summary = pd.DataFrame(data={'preprocess_method':uca_summary.index,'knn_score':list(knn_list)})\n",
    "knn_summary = knn_summary.set_index('preprocess_method')"
   ]
  },
  {
   "cell_type": "code",
   "execution_count": 116,
   "metadata": {},
   "outputs": [
    {
     "data": {
      "text/plain": [
       "Index(['filter.null', 'filter.null.Norm_CPM', 'filter.null.Norm_CPM_top_5',\n",
       "       'filter.null.Norm_CPM_top_10', 'filter.null.Norm_CPM_top_20',\n",
       "       'filter.null.Norm_CPM_top_40', 'filter.null.Norm_RLE',\n",
       "       'filter.null.Norm_TMM', 'filter.null.Norm_UQ'],\n",
       "      dtype='object', name='preprocess_method')"
      ]
     },
     "execution_count": 116,
     "metadata": {},
     "output_type": "execute_result"
    }
   ],
   "source": [
    "merge.index"
   ]
  },
  {
   "cell_type": "code",
   "execution_count": 117,
   "metadata": {},
   "outputs": [
    {
     "data": {
      "text/html": [
       "<object width=\"640\" height=\"480\" data=\"data:application/pdf;base64,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\" download=\"Image.pdf\"></object>"
      ],
      "text/plain": [
       "<IPython.core.display.HTML object>"
      ]
     },
     "metadata": {},
     "output_type": "display_data"
    }
   ],
   "source": [
    "merge = pd.concat([knn_summary,uca_summary],axis=1)\n",
    "merge = merge.drop(['filter.null'])\n",
    "merge['normalization'] = [method.split('.')[2] for method in merge.index]\n",
    "fig,ax=plt.subplots(figsize=(7,5))\n",
    "ax = sns.scatterplot(x='uca_score',y='knn_score',data = merge,hue='normalization')\n",
    "std_plot(ax,'UCA score','kNN score','method batch visualization')\n",
    "legend = ax.legend(prop=fontlegend,\n",
    "                  #labelspacing=labelspacing,borderpad=borderpad,handletextpad=handletextpad,\n",
    "                  edgecolor=\"#000000\",fancybox=False)\n",
    "ax.legend_.get_frame()._linewidth=0.5\n",
    "legend.get_title().set_fontweight('normal')\n",
    "legend.get_title().set_fontsize(6.5)\n",
    "\n",
    "fig.tight_layout()\n",
    "embed_pdf_figure()"
   ]
  }
 ],
 "metadata": {
  "hide_input": false,
  "kernelspec": {
   "display_name": "Python 3",
   "language": "python",
   "name": "python3"
  },
  "language_info": {
   "codemirror_mode": {
    "name": "ipython",
    "version": 3
   },
   "file_extension": ".py",
   "mimetype": "text/x-python",
   "name": "python",
   "nbconvert_exporter": "python",
   "pygments_lexer": "ipython3",
   "version": "3.6.7"
  },
  "latex_envs": {
   "LaTeX_envs_menu_present": true,
   "autoclose": false,
   "autocomplete": true,
   "bibliofile": "biblio.bib",
   "cite_by": "apalike",
   "current_citInitial": 1,
   "eqLabelWithNumbers": true,
   "eqNumInitial": 1,
   "hotkeys": {
    "equation": "Ctrl-E",
    "itemize": "Ctrl-I"
   },
   "labels_anchors": false,
   "latex_user_defs": false,
   "report_style_numbering": false,
   "user_envs_cfg": false
  },
  "toc": {
   "base_numbering": 1,
   "nav_menu": {},
   "number_sections": true,
   "sideBar": true,
   "skip_h1_title": false,
   "title_cell": "Table of Contents",
   "title_sidebar": "Contents",
   "toc_cell": false,
   "toc_position": {
    "height": "calc(100% - 180px)",
    "left": "10px",
    "top": "150px",
    "width": "309px"
   },
   "toc_section_display": true,
   "toc_window_display": true
  }
 },
 "nbformat": 4,
 "nbformat_minor": 2
}
