{
 "cells": [
  {
   "cell_type": "code",
   "execution_count": 6,
   "metadata": {},
   "outputs": [
    {
     "data": {
      "text/html": [
       "<strong>png:</strong> 2"
      ],
      "text/latex": [
       "\\textbf{png:} 2"
      ],
      "text/markdown": [
       "**png:** 2"
      ],
      "text/plain": [
       "png \n",
       "  2 "
      ]
     },
     "metadata": {},
     "output_type": "display_data"
    }
   ],
   "source": [
    "anno_contri_var(\"~/fig3/Variance_explanation/\",       # 输出路径\n",
    "                \"/home/xieyufeng/fig3/data/cfRNA/batch_info.txt\",        \n",
    "                \"/home/xieyufeng/fig3/data/cfRNA/sample_classes.txt\",\n",
    "               \"/home/xieyufeng/fig3/output/cfRNA/matrix_processing/filter.null.Norm_RLE.Batch_null.mirna_and_domains.txt\",  # 输入文件\n",
    "               \"RLE_Null\"   # 文件名关键词\n",
    "               )"
   ]
  },
  {
   "cell_type": "code",
   "execution_count": 1,
   "metadata": {},
   "outputs": [
    {
     "name": "stderr",
     "output_type": "stream",
     "text": [
      "Loading required package: SingleCellExperiment\n",
      "Loading required package: SummarizedExperiment\n",
      "Loading required package: GenomicRanges\n",
      "Loading required package: stats4\n",
      "Loading required package: BiocGenerics\n",
      "Loading required package: parallel\n",
      "\n",
      "Attaching package: ‘BiocGenerics’\n",
      "\n",
      "The following objects are masked from ‘package:parallel’:\n",
      "\n",
      "    clusterApply, clusterApplyLB, clusterCall, clusterEvalQ,\n",
      "    clusterExport, clusterMap, parApply, parCapply, parLapply,\n",
      "    parLapplyLB, parRapply, parSapply, parSapplyLB\n",
      "\n",
      "The following objects are masked from ‘package:stats’:\n",
      "\n",
      "    IQR, mad, sd, var, xtabs\n",
      "\n",
      "The following objects are masked from ‘package:base’:\n",
      "\n",
      "    anyDuplicated, append, as.data.frame, basename, cbind, colMeans,\n",
      "    colnames, colSums, dirname, do.call, duplicated, eval, evalq,\n",
      "    Filter, Find, get, grep, grepl, intersect, is.unsorted, lapply,\n",
      "    lengths, Map, mapply, match, mget, order, paste, pmax, pmax.int,\n",
      "    pmin, pmin.int, Position, rank, rbind, Reduce, rowMeans, rownames,\n",
      "    rowSums, sapply, setdiff, sort, table, tapply, union, unique,\n",
      "    unsplit, which, which.max, which.min\n",
      "\n",
      "Loading required package: S4Vectors\n",
      "\n",
      "Attaching package: ‘S4Vectors’\n",
      "\n",
      "The following object is masked from ‘package:base’:\n",
      "\n",
      "    expand.grid\n",
      "\n",
      "Loading required package: IRanges\n",
      "Loading required package: GenomeInfoDb\n",
      "Loading required package: Biobase\n",
      "Welcome to Bioconductor\n",
      "\n",
      "    Vignettes contain introductory material; view with\n",
      "    'browseVignettes()'. To cite Bioconductor, see\n",
      "    'citation(\"Biobase\")', and for packages 'citation(\"pkgname\")'.\n",
      "\n",
      "Loading required package: DelayedArray\n",
      "Loading required package: matrixStats\n",
      "\n",
      "Attaching package: ‘matrixStats’\n",
      "\n",
      "The following objects are masked from ‘package:Biobase’:\n",
      "\n",
      "    anyMissing, rowMedians\n",
      "\n",
      "Loading required package: BiocParallel\n",
      "\n",
      "Attaching package: ‘DelayedArray’\n",
      "\n",
      "The following objects are masked from ‘package:matrixStats’:\n",
      "\n",
      "    colMaxs, colMins, colRanges, rowMaxs, rowMins, rowRanges\n",
      "\n",
      "The following objects are masked from ‘package:base’:\n",
      "\n",
      "    aperm, apply\n",
      "\n",
      "\n",
      "Attaching package: ‘scater’\n",
      "\n",
      "The following object is masked from ‘package:S4Vectors’:\n",
      "\n",
      "    rename\n",
      "\n",
      "The following object is masked from ‘package:stats’:\n",
      "\n",
      "    filter\n",
      "\n"
     ]
    }
   ],
   "source": [
    "library(ggplot2)\n",
    "library(scater)"
   ]
  },
  {
   "cell_type": "code",
   "execution_count": 4,
   "metadata": {},
   "outputs": [],
   "source": [
    "anno_contri_var <-function(pdf_out_path=file_path,\n",
    "                          batchinfo_path =batchinfo_path ,\n",
    "                          classinfo_path = classinfo_path,\n",
    "                           mat_path=cv_mat_path,\n",
    "                           method\n",
    "                          ){\n",
    "    mat <- read.table(mat_path,header=TRUE,check.names = FALSE)\n",
    "    batch_info <- read.csv(batchinfo_path,sep='\\t')\n",
    "    sample_info <-read.csv(classinfo_path,sep='\\t')\n",
    "    anno_info <- merge(sample_info,batch_info,by='sample_id',all=T)\n",
    "    rownames(anno_info)=anno_info$sample_id\n",
    "    anno_info <- anno_info[names(mat),]\n",
    "    rownames(anno_info) <-c()\n",
    "    colnames(anno_info) <- c(\"sample_id\",\"Sample Class\", \"Dataset Batch\")\n",
    "\n",
    "    anno_info$class <- 0\n",
    "    for(i in seq_len(length(table(anno_info$label)))){\n",
    "        anno_info[which(anno_info$label==names(table(anno_info$label))[i]),]$class <- i\n",
    "    }\n",
    "    \n",
    "    reads <- SingleCellExperiment::SingleCellExperiment(\n",
    "        assays = list(counts = as.matrix(mat)),\n",
    "        colData = anno_info\n",
    "    )\n",
    "    var_list <- colnames(anno_info)[-1]\n",
    "    var_list <- var_list[-length(var_list)]\n",
    "    reads <-  scater::calculateQCMetrics(reads)\n",
    "    resfactor  <- 3\n",
    "    file_name <- paste(method, 'variables_explained.png', sep = '_')\n",
    "    png(paste(pdf_out_path, file_name, sep=''),res = 72*resfactor, height=500, width=700)\n",
    "    for(n in SummarizedExperiment::assayNames(reads)) {\n",
    "        print(\n",
    "            scater::plotExplanatoryVariables(\n",
    "                reads,\n",
    "                exprs_values = n,\n",
    "                variables = var_list\n",
    "            ) +\n",
    "            ggplot2::ggtitle(n)\n",
    "        )\n",
    "    }\n",
    "    dev.off()\n",
    "}"
   ]
  }
 ],
 "metadata": {
  "kernelspec": {
   "display_name": "R",
   "language": "R",
   "name": "ir"
  },
  "language_info": {
   "codemirror_mode": "r",
   "file_extension": ".r",
   "mimetype": "text/x-r-source",
   "name": "R",
   "pygments_lexer": "r",
   "version": "3.5.1"
  }
 },
 "nbformat": 4,
 "nbformat_minor": 2
}
