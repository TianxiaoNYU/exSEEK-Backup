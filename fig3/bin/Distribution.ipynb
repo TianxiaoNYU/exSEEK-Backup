{
 "cells": [
  {
   "cell_type": "code",
   "execution_count": 1,
   "metadata": {
    "collapsed": true
   },
   "outputs": [
    {
     "name": "stderr",
     "output_type": "stream",
     "text": [
      "\n",
      "Attaching package: ‘dplyr’\n",
      "\n",
      "The following objects are masked from ‘package:stats’:\n",
      "\n",
      "    filter, lag\n",
      "\n",
      "The following objects are masked from ‘package:base’:\n",
      "\n",
      "    intersect, setdiff, setequal, union\n",
      "\n"
     ]
    }
   ],
   "source": [
    "library(Rtsne)\n",
    "library(ggplot2)\n",
    "library(dplyr)\n",
    "library(FNN)"
   ]
  },
  {
   "cell_type": "code",
   "execution_count": 2,
   "metadata": {},
   "outputs": [],
   "source": []
  },
  {
   "cell_type": "code",
   "execution_count": 2,
   "metadata": {},
   "outputs": [],
   "source": [
    "predata <- read.table(\"~/fig3/output/merge/matrix_processing/filter.null.Norm_TMM.mirna_and_domains.txt\", header = T, sep = \"\\t\")\n",
    "predata <- as.data.frame(t(predata))\n",
    "postdata <- read.table(\"~/fig3/batch_correction/TMM_ruv_batchremoval.txt\", header = T, row.names = 1, sep = \"\\t\")\n",
    "postdata <- as.data.frame(t(postdata))\n",
    "batch_info <- read.table(\"~/fig3/data/merge/batch_info.txt\", header = T, row.names = 2, stringsAsFactors = T)\n",
    "sample_classes <- read.table(\"~/fig3/data/merge/sample_classes.txt\", header = T, row.names = 1, sep = \"\\t\")"
   ]
  },
  {
   "cell_type": "code",
   "execution_count": null,
   "metadata": {},
   "outputs": [],
   "source": []
  },
  {
   "cell_type": "code",
   "execution_count": null,
   "metadata": {},
   "outputs": [],
   "source": []
  },
  {
   "cell_type": "code",
   "execution_count": null,
   "metadata": {},
   "outputs": [],
   "source": []
  },
  {
   "cell_type": "code",
   "execution_count": null,
   "metadata": {},
   "outputs": [],
   "source": []
  },
  {
   "cell_type": "code",
   "execution_count": 3,
   "metadata": {},
   "outputs": [],
   "source": [
    "predata <- read.table(\"filter.scimpute_count.Norm_RLE.Batch_null.domains_combined.txt\", header = T, row.names = 1, sep = \"\\t\")\n",
    "postdata <- read.table(\"filter.scimpute_count.Norm_RLE.Batch_RUV.domains_combined.txt\", header = T, row.names = 1, sep = \"\\t\")"
   ]
  },
  {
   "cell_type": "code",
   "execution_count": 4,
   "metadata": {},
   "outputs": [],
   "source": [
    "batch_info <- read.table(\"~/Bioinfos/data/scirep_batch.txt\", sep = \",\", header = T, row.names = 1, stringsAsFactors = T)\n",
    "batch_info$RNA.Isolation.batch <- factor(batch_info$RNA.Isolation.batch)\n",
    "batch_temp <- batch_info\n",
    "batch_temp$names <- rownames(batch_info)\n",
    "batch_temp <- arrange(batch_temp, names)\n",
    "rownames(batch_temp) <- batch_temp$names\n",
    "batch_info <- as.data.frame(batch_temp[,-ncol(batch_temp)])"
   ]
  },
  {
   "cell_type": "code",
   "execution_count": 5,
   "metadata": {},
   "outputs": [],
   "source": [
    "sample_class <- as.factor(c(rep(\"Colorectal Cancer\", times = 100), rep(\"Normal\", times = 50), \n",
    "                                          rep(\"Normal\", times = 6), rep(\"Prostate Cancer\", times = 36)))"
   ]
  },
  {
   "cell_type": "code",
   "execution_count": 6,
   "metadata": {
    "scrolled": true
   },
   "outputs": [],
   "source": [
    "#batch_info[which(batch_info$RNA.Isolation.batch == 7), ]"
   ]
  },
  {
   "cell_type": "code",
   "execution_count": 7,
   "metadata": {},
   "outputs": [],
   "source": [
    "temp <- as.data.frame(t(predata))\n",
    "temp$names <- rownames(temp)\n",
    "temp <- arrange(temp, names)\n",
    "rownames(temp) <- temp$names\n",
    "predata <- as.data.frame(temp[,-ncol(temp)])\n",
    "\n",
    "temp <- as.data.frame(t(postdata))\n",
    "temp$names <- rownames(temp)\n",
    "temp <- arrange(temp, names)\n",
    "rownames(temp) <- temp$names\n",
    "postdata <- as.data.frame(temp[,-ncol(temp)])"
   ]
  },
  {
   "cell_type": "code",
   "execution_count": null,
   "metadata": {},
   "outputs": [],
   "source": []
  },
  {
   "cell_type": "code",
   "execution_count": 8,
   "metadata": {},
   "outputs": [],
   "source": [
    "p <- Rtsne(predata, dims = 1)\n",
    "q <- Rtsne(postdata, dims = 1)"
   ]
  },
  {
   "cell_type": "code",
   "execution_count": 19,
   "metadata": {},
   "outputs": [],
   "source": [
    "pre_p <- cbind(batch_info$RNA.Isolation.batch, p$Y)\n",
    "post_q <- cbind(batch_info$RNA.Isolation.batch, q$Y)\n",
    "sum_data <- as.data.frame(rbind(pre_p, post_q))\n",
    "foo <- c(rep(\"1.Without Batch Correction\", times = length(p$Y)), rep(\"2.With Batch Correction\", times = length(q$Y)))\n",
    "sum_data$Type <- sample_class\n",
    "sum_data$State <- foo"
   ]
  },
  {
   "cell_type": "code",
   "execution_count": 20,
   "metadata": {},
   "outputs": [],
   "source": [
    "names(sum_data) <- c(\"Batch\", \"t_SNE\", \"Type\", \"State\")\n",
    "sum_data$Batch <- as.factor(sum_data$Batch)\n",
    "sum_data$Type <- as.factor(sum_data$Type)\n",
    "sum_data$State <- as.factor(sum_data$State)"
   ]
  },
  {
   "cell_type": "code",
   "execution_count": 24,
   "metadata": {
    "collapsed": true
   },
   "outputs": [
    {
     "data": {
      "text/html": [
       "<table>\n",
       "<thead><tr><th scope=col>Batch</th><th scope=col>t_SNE</th><th scope=col>Type</th><th scope=col>State</th></tr></thead>\n",
       "<tbody>\n",
       "\t<tr><td>2                      </td><td> 7.3051443             </td><td>Colorectal Cancer      </td><td>1.Without Batch Removal</td></tr>\n",
       "\t<tr><td>3                      </td><td> 3.7251037             </td><td>Colorectal Cancer      </td><td>1.Without Batch Removal</td></tr>\n",
       "\t<tr><td>3                      </td><td> 5.5081432             </td><td>Colorectal Cancer      </td><td>1.Without Batch Removal</td></tr>\n",
       "\t<tr><td>3                      </td><td> 0.4477047             </td><td>Colorectal Cancer      </td><td>1.Without Batch Removal</td></tr>\n",
       "\t<tr><td>4                      </td><td>-5.0538195             </td><td>Colorectal Cancer      </td><td>1.Without Batch Removal</td></tr>\n",
       "\t<tr><td>4                      </td><td>-8.0436693             </td><td>Colorectal Cancer      </td><td>1.Without Batch Removal</td></tr>\n",
       "</tbody>\n",
       "</table>\n"
      ],
      "text/latex": [
       "\\begin{tabular}{r|llll}\n",
       " Batch & t\\_SNE & Type & State\\\\\n",
       "\\hline\n",
       "\t 2                       &  7.3051443              & Colorectal Cancer       & 1.Without Batch Removal\\\\\n",
       "\t 3                       &  3.7251037              & Colorectal Cancer       & 1.Without Batch Removal\\\\\n",
       "\t 3                       &  5.5081432              & Colorectal Cancer       & 1.Without Batch Removal\\\\\n",
       "\t 3                       &  0.4477047              & Colorectal Cancer       & 1.Without Batch Removal\\\\\n",
       "\t 4                       & -5.0538195              & Colorectal Cancer       & 1.Without Batch Removal\\\\\n",
       "\t 4                       & -8.0436693              & Colorectal Cancer       & 1.Without Batch Removal\\\\\n",
       "\\end{tabular}\n"
      ],
      "text/markdown": [
       "\n",
       "| Batch | t_SNE | Type | State |\n",
       "|---|---|---|---|\n",
       "| 2                       |  7.3051443              | Colorectal Cancer       | 1.Without Batch Removal |\n",
       "| 3                       |  3.7251037              | Colorectal Cancer       | 1.Without Batch Removal |\n",
       "| 3                       |  5.5081432              | Colorectal Cancer       | 1.Without Batch Removal |\n",
       "| 3                       |  0.4477047              | Colorectal Cancer       | 1.Without Batch Removal |\n",
       "| 4                       | -5.0538195              | Colorectal Cancer       | 1.Without Batch Removal |\n",
       "| 4                       | -8.0436693              | Colorectal Cancer       | 1.Without Batch Removal |\n",
       "\n"
      ],
      "text/plain": [
       "  Batch t_SNE      Type              State                  \n",
       "1 2      7.3051443 Colorectal Cancer 1.Without Batch Removal\n",
       "2 3      3.7251037 Colorectal Cancer 1.Without Batch Removal\n",
       "3 3      5.5081432 Colorectal Cancer 1.Without Batch Removal\n",
       "4 3      0.4477047 Colorectal Cancer 1.Without Batch Removal\n",
       "5 4     -5.0538195 Colorectal Cancer 1.Without Batch Removal\n",
       "6 4     -8.0436693 Colorectal Cancer 1.Without Batch Removal"
      ]
     },
     "metadata": {},
     "output_type": "display_data"
    }
   ],
   "source": [
    "head(sum_data)"
   ]
  },
  {
   "cell_type": "code",
   "execution_count": 28,
   "metadata": {},
   "outputs": [
    {
     "data": {
      "text/html": [
       "<strong>png:</strong> 2"
      ],
      "text/latex": [
       "\\textbf{png:} 2"
      ],
      "text/markdown": [
       "**png:** 2"
      ],
      "text/plain": [
       "png \n",
       "  2 "
      ]
     },
     "metadata": {},
     "output_type": "display_data"
    }
   ],
   "source": [
    "s <- ggplot(data = sum_data, aes(x = t_SNE, col = Batch))  + geom_density() + facet_wrap(~State, scales = \"free_x\")\n",
    "s <- s + scale_fill_brewer(palette=\"Set2\") +\n",
    "        theme(panel.grid.major =element_blank(), panel.grid.minor = element_blank(),\n",
    "        panel.background = element_blank(),axis.line = element_line(colour = \"black\")) \n",
    "pdf(\"test_for_batch.pdf\", 10, 6)\n",
    "s\n",
    "dev.off()"
   ]
  },
  {
   "cell_type": "code",
   "execution_count": 29,
   "metadata": {},
   "outputs": [
    {
     "data": {
      "text/html": [
       "<strong>png:</strong> 2"
      ],
      "text/latex": [
       "\\textbf{png:} 2"
      ],
      "text/markdown": [
       "**png:** 2"
      ],
      "text/plain": [
       "png \n",
       "  2 "
      ]
     },
     "metadata": {},
     "output_type": "display_data"
    }
   ],
   "source": [
    "s <- ggplot(data = sum_data, aes(x = t_SNE, col = Type))  + geom_density() + facet_wrap(~State, scales = \"free_x\")\n",
    "s <- s + scale_fill_brewer(palette=\"Set2\") +\n",
    "        theme(panel.grid.major =element_blank(), panel.grid.minor = element_blank(),\n",
    "        panel.background = element_blank(),axis.line = element_line(colour = \"black\")) \n",
    "pdf(\"test_for_type.pdf\", 10, 6)\n",
    "s\n",
    "dev.off()"
   ]
  },
  {
   "cell_type": "code",
   "execution_count": null,
   "metadata": {},
   "outputs": [],
   "source": []
  },
  {
   "cell_type": "code",
   "execution_count": 14,
   "metadata": {},
   "outputs": [
    {
     "data": {
      "text/html": [
       "<strong>png:</strong> 2"
      ],
      "text/latex": [
       "\\textbf{png:} 2"
      ],
      "text/markdown": [
       "**png:** 2"
      ],
      "text/plain": [
       "png \n",
       "  2 "
      ]
     },
     "metadata": {},
     "output_type": "display_data"
    },
    {
     "data": {
      "text/html": [
       "<strong>png:</strong> 2"
      ],
      "text/latex": [
       "\\textbf{png:} 2"
      ],
      "text/markdown": [
       "**png:** 2"
      ],
      "text/plain": [
       "png \n",
       "  2 "
      ]
     },
     "metadata": {},
     "output_type": "display_data"
    }
   ],
   "source": [
    "p <- Rtsne(postdata, dims = 1)\n",
    "tSNE_Vis_before <- as.data.frame(cbind(batch_info$RNA.Isolation.batch, p$Y))\n",
    "names(tSNE_Vis_before) <- c(\"Batch\", \"Y\")\n",
    "s <- ggplot(data = tSNE_Vis_before, aes(x = Y, col = Batch)) + geom_density() \n",
    "s <- s + scale_fill_brewer(palette=\"Set2\") + \n",
    "        theme(panel.grid.major =element_blank(), panel.grid.minor = element_blank(),\n",
    "        panel.background = element_blank(),axis.line = element_line(colour = \"black\")) \n",
    "png(\"before.png\")\n",
    "s\n",
    "dev.off()\n",
    "\n",
    "p <- Rtsne(predata, dims = 1)\n",
    "tSNE_Vis_after <- as.data.frame(cbind(batch_info$RNA.Isolation.batch, p$Y))\n",
    "names(tSNE_Vis_after) <- c(\"Batch\", \"Y\")\n",
    "tSNE_Vis_after$Batch <- factor(tSNE_Vis_after$Batch)\n",
    "s <- ggplot(data = tSNE_Vis_after, aes(x = Y, col = Batch)) + geom_density()\n",
    "s <- s + scale_fill_brewer(palette=\"Set2\") + \n",
    "        theme(panel.grid.major =element_blank(), panel.grid.minor = element_blank(),\n",
    "        panel.background = element_blank(),axis.line = element_line(colour = \"black\")) \n",
    "png(\"after.png\")\n",
    "s\n",
    "dev.off()"
   ]
  },
  {
   "cell_type": "code",
   "execution_count": 15,
   "metadata": {},
   "outputs": [
    {
     "data": {
      "text/html": [
       "<strong>png:</strong> 2"
      ],
      "text/latex": [
       "\\textbf{png:} 2"
      ],
      "text/markdown": [
       "**png:** 2"
      ],
      "text/plain": [
       "png \n",
       "  2 "
      ]
     },
     "metadata": {},
     "output_type": "display_data"
    },
    {
     "data": {
      "text/html": [
       "<strong>png:</strong> 2"
      ],
      "text/latex": [
       "\\textbf{png:} 2"
      ],
      "text/markdown": [
       "**png:** 2"
      ],
      "text/plain": [
       "png \n",
       "  2 "
      ]
     },
     "metadata": {},
     "output_type": "display_data"
    }
   ],
   "source": [
    "## Test for the cancer/normal -- after\n",
    "p <- Rtsne(postdata, dims = 1)\n",
    "tSNE_Vis_after <- as.data.frame(cbind(sample_class, p$Y))\n",
    "names(tSNE_Vis_after) <- c(\"Type\", \"Y\")\n",
    "s <- ggplot(data = tSNE_Vis_after, aes(x = Y, fill = Type)) + geom_density()\n",
    "s <- s + scale_fill_brewer(palette=\"Set2\") + \n",
    "        theme(panel.grid.major =element_blank(), panel.grid.minor = element_blank(),\n",
    "        panel.background = element_blank(),axis.line = element_line(colour = \"black\")) \n",
    "png(\"after_test.png\")\n",
    "s\n",
    "dev.off()\n",
    "\n",
    "p <- Rtsne(predata, dims = 1)\n",
    "tSNE_Vis_before <- as.data.frame(cbind(sample_class, p$Y))\n",
    "names(tSNE_Vis_before) <- c(\"Type\", \"Y\")\n",
    "s <- ggplot(data = tSNE_Vis_before, aes(x = Y, fill = Type)) + geom_density()\n",
    "s <- s + scale_fill_brewer(palette=\"Set2\") + \n",
    "        theme(panel.grid.major =element_blank(), panel.grid.minor = element_blank(),\n",
    "        panel.background = element_blank(),axis.line = element_line(colour = \"black\")) \n",
    "png(\"before_test.png\")\n",
    "s\n",
    "dev.off()"
   ]
  },
  {
   "cell_type": "code",
   "execution_count": 123,
   "metadata": {},
   "outputs": [],
   "source": [
    "t1 <- tSNE_Vis_after$Y[which(tSNE_Vis_after$Type == 1)]\n",
    "t0 <- tSNE_Vis_after$Y[which(tSNE_Vis_after$Type == 0)]\n",
    "t2 <- tSNE_Vis_after$Y[which(tSNE_Vis_after$Type == 2)]\n",
    "\n",
    "b1 <- tSNE_Vis_before$Y[which(tSNE_Vis_after$Type == 1)]\n",
    "b0 <- tSNE_Vis_before$Y[which(tSNE_Vis_after$Type == 0)]\n",
    "b2 <- tSNE_Vis_before$Y[which(tSNE_Vis_after$Type == 2)]"
   ]
  },
  {
   "cell_type": "code",
   "execution_count": 124,
   "metadata": {},
   "outputs": [
    {
     "data": {
      "text/html": [
       "0.377829368658541"
      ],
      "text/latex": [
       "0.377829368658541"
      ],
      "text/markdown": [
       "0.377829368658541"
      ],
      "text/plain": [
       "[1] 0.3778294"
      ]
     },
     "metadata": {},
     "output_type": "display_data"
    },
    {
     "data": {
      "text/html": [
       "0.319527146044696"
      ],
      "text/latex": [
       "0.319527146044696"
      ],
      "text/markdown": [
       "0.319527146044696"
      ],
      "text/plain": [
       "[1] 0.3195271"
      ]
     },
     "metadata": {},
     "output_type": "display_data"
    }
   ],
   "source": [
    "KL.divergence(t1, t0, k = 1)\n",
    "KL.divergence(b1, b0, k = 1)"
   ]
  },
  {
   "cell_type": "code",
   "execution_count": null,
   "metadata": {},
   "outputs": [],
   "source": []
  },
  {
   "cell_type": "code",
   "execution_count": null,
   "metadata": {},
   "outputs": [],
   "source": []
  }
 ],
 "metadata": {
  "kernelspec": {
   "display_name": "R",
   "language": "R",
   "name": "ir"
  },
  "language_info": {
   "codemirror_mode": "r",
   "file_extension": ".r",
   "mimetype": "text/x-r-source",
   "name": "R",
   "pygments_lexer": "r",
   "version": "3.5.1"
  }
 },
 "nbformat": 4,
 "nbformat_minor": 2
}
